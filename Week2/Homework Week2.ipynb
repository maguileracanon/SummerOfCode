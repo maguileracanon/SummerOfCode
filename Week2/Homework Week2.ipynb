{
 "cells": [
  {
   "cell_type": "code",
   "execution_count": 3,
   "metadata": {},
   "outputs": [],
   "source": [
    "import nltk\n",
    "from nltk.corpus import brown"
   ]
  },
  {
   "cell_type": "markdown",
   "metadata": {},
   "source": [
    "Compare the lexical diversity scores for humor and romance fiction in 1.1. Which genre is more lexically diverse?"
   ]
  },
  {
   "cell_type": "code",
   "execution_count": 4,
   "metadata": {},
   "outputs": [
    {
     "name": "stdout",
     "output_type": "stream",
     "text": [
      "The lexical diversity of humor category is :  0.2646264626462646\n",
      "The lexical diversity of romance category is :  0.12070492131044529\n",
      "The lexical diversity of fiction category is :  0.1358194136199042\n"
     ]
    }
   ],
   "source": [
    "brown.categories()\n",
    "humor = [w for w in brown.words(categories=\"humor\") if w.isalpha()]\n",
    "humor_lex_diversity = (len(set(humor)))/len(humor)\n",
    "print(\"The lexical diversity of humor category is : \", humor_lex_diversity)\n",
    "romance = [w for w in brown.words(categories=\"romance\")]\n",
    "romance_lex_diversity = (len(set(romance)))/len(romance)\n",
    "print(\"The lexical diversity of romance category is : \", romance_lex_diversity)\n",
    "fiction = [w for w in brown.words(categories=\"fiction\")]\n",
    "fiction_lex_diversity = (len(set(fiction)))/len(fiction)\n",
    "print(\"The lexical diversity of fiction category is : \", fiction_lex_diversity)"
   ]
  },
  {
   "cell_type": "code",
   "execution_count": null,
   "metadata": {},
   "outputs": [],
   "source": []
  }
 ],
 "metadata": {
  "kernelspec": {
   "display_name": "Python 3",
   "language": "python",
   "name": "python3"
  },
  "language_info": {
   "codemirror_mode": {
    "name": "ipython",
    "version": 3
   },
   "file_extension": ".py",
   "mimetype": "text/x-python",
   "name": "python",
   "nbconvert_exporter": "python",
   "pygments_lexer": "ipython3",
   "version": "3.6.4"
  }
 },
 "nbformat": 4,
 "nbformat_minor": 2
}
