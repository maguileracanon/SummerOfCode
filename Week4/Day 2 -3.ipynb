{
 "cells": [
  {
   "cell_type": "code",
   "execution_count": 1,
   "metadata": {},
   "outputs": [
    {
     "name": "stdout",
     "output_type": "stream",
     "text": [
      "Downloaded dataset Baby and saved it to ./data/\n"
     ]
    }
   ],
   "source": [
    "%matplotlib inline\n",
    "datadir = './data/'\n",
    "\n",
    "import urllib.request, os, gzip\n",
    "\n",
    "def download_data(dataset_name, datadir):\n",
    "    filename = 'reviews_%s_5.json' % dataset_name\n",
    "    filepath = os.path.join(datadir, filename)\n",
    "    if os.path.exists(filepath):\n",
    "        print(\"Dataset %s has already been downloaded to %s\" % (dataset_name, datadir))\n",
    "    else:\n",
    "        url = 'http://snap.stanford.edu/data/amazon/productGraph/categoryFiles/%s.gz' % filename\n",
    "        urllib.request.urlretrieve(url, filepath + \".gz\")\n",
    "        with gzip.open(filepath + \".gz\", 'rb') as fin:\n",
    "            with open(filepath, 'wb') as fout:\n",
    "                fout.write(fin.read())\n",
    "        print(\"Downloaded dataset %s and saved it to %s\" % (dataset_name, datadir))\n",
    "\n",
    "dataset = \"Baby\"\n",
    "download_data(dataset, datadir)"
   ]
  },
  {
   "cell_type": "code",
   "execution_count": 2,
   "metadata": {},
   "outputs": [
    {
     "name": "stdout",
     "output_type": "stream",
     "text": [
      "Loaded 160792 data for dataset Baby\n"
     ]
    }
   ],
   "source": [
    "import  json\n",
    "\n",
    "def  load_data (dataset_name, datadir):\n",
    "    filepath = os.path.join(datadir, 'reviews_%s_5.json' % dataset_name)\n",
    "    if not os.path.exists(filepath):\n",
    "        download_data(dataset_name, datadir)\n",
    "    data = []\n",
    "    with open(filepath, 'r') as f:\n",
    "        for line in f:                            # read file line by line\n",
    "            item_hash = hash(line)                # we will use this later for partitioning our data \n",
    "            item = json.loads(line)               # convert JSON string to Python dict\n",
    "            item['hash'] = item_hash              # add hash for identification purposes\n",
    "            data.append(item)\n",
    "    print(\"Loaded %d data for dataset %s\" % (len(data), dataset_name))\n",
    "    return data\n",
    "\n",
    "# load the data...\n",
    "baby = load_data(dataset, datadir)\n"
   ]
  },
  {
   "cell_type": "code",
   "execution_count": 3,
   "metadata": {},
   "outputs": [],
   "source": [
    "def partition_train_validation_test(data):\n",
    "    # 60% : modulus is 0, 1, 2, 3, 4, or 5\n",
    "    data_train = [item for item in data if item['hash']%10<=5]  \n",
    "    # 20% : modulus is 6 or 7\n",
    "    data_valid = [item for item in data if item['hash']%10 in [6,7]] \n",
    "    # 20% : modulus is 8 or 9\n",
    "    data_test  = [item for item in data if item['hash']%10 in [8,9]] \n",
    "    return data_train, data_valid, data_test\n",
    "    \n",
    "baby_train, baby_valid, baby_test = partition_train_validation_test(baby)\n"
   ]
  },
  {
   "cell_type": "code",
   "execution_count": 4,
   "metadata": {},
   "outputs": [
    {
     "name": "stdout",
     "output_type": "stream",
     "text": [
      "Some positive words: prestigious, finest, admiringly, logical, cashbacks, hero, idealize, lavish, clean, grin\n",
      "Some negative words: blindside, jerky, rude, despotism, misconceptions, spew, immoderately, struggle, pertinacious, enviously\n"
     ]
    }
   ],
   "source": [
    "from  nltk.corpus  import opinion_lexicon\n",
    "positive_words = set(opinion_lexicon.positive())\n",
    "negative_words = set(opinion_lexicon.negative())\n",
    "\n",
    "import random\n",
    "random.seed(1234)\n",
    "print(\"Some positive words:\", \", \".join(random.sample(positive_words, 10)))\n",
    "print(\"Some negative words:\", \", \".join(random.sample(negative_words, 10)))\n"
   ]
  },
  {
   "cell_type": "code",
   "execution_count": 5,
   "metadata": {},
   "outputs": [
    {
     "name": "stdout",
     "output_type": "stream",
     "text": [
      "(0.8571428571428571, 0.0)\n",
      "(0.0, 0.8571428571428571)\n"
     ]
    }
   ],
   "source": [
    "from nltk.corpus import stopwords\n",
    "from nltk.tokenize import sent_tokenize, word_tokenize\n",
    "eng_stopwords = set(stopwords.words('english'))\n",
    "\n",
    "def my_tokenize(text):\n",
    "    # split text into lower-case tokens, removing all-punctuation tokens and stopwords\n",
    "    tokens = []\n",
    "    for sentence in sent_tokenize(text):\n",
    "        tokens.extend(x for x in word_tokenize(sentence.lower()) \n",
    "                      if x not in eng_stopwords and any(i.isalpha() for i in x))\n",
    "    return tokens\n",
    "\n",
    "def pos_neg_fraction(text):\n",
    "    tokens = my_tokenize(text)\n",
    "    count_pos, count_neg = 0, 0\n",
    "    for t in tokens:\n",
    "        if t in positive_words:\n",
    "            count_pos += 1\n",
    "        if t in negative_words:\n",
    "            count_neg += 1\n",
    "    count_all = len(tokens)\n",
    "    if count_all != 0:\n",
    "        return count_pos/count_all, count_neg/count_all\n",
    "    else:\n",
    "        return 0., 0.\n",
    "    \n",
    "pos_example = 'This is a good, great, fantastic, amazing, wonderful, super product!!!'\n",
    "neg_example = 'This is a bad, atrocious, terrible, dreadful, awful, abysmal product!!!'\n",
    "print(pos_neg_fraction(pos_example))\n",
    "print(pos_neg_fraction(neg_example))"
   ]
  },
  {
   "cell_type": "code",
   "execution_count": 6,
   "metadata": {},
   "outputs": [
    {
     "name": "stdout",
     "output_type": "stream",
     "text": [
      "We found a fraction of 100.000000 % positive words for example 5964\n",
      "{'reviewerID': 'AKU0ZZ3IEZW42', 'asin': 'B0001BUKA8', 'helpful': [0, 0], 'reviewText': 'useful peace', 'overall': 5.0, 'summary': 'Five Stars', 'unixReviewTime': 1405382400, 'reviewTime': '07 15, 2014', 'hash': -3929671491748774666}\n",
      "We found a fraction of 100.000000 % negative words for example 15796\n",
      "{'reviewerID': 'A2416HDN71TOGG', 'asin': 'B000HZEQSU', 'reviewerName': 'Elizabeth Evans', 'helpful': [0, 0], 'reviewText': 'uncomfortable', 'overall': 1.0, 'summary': 'One Star', 'unixReviewTime': 1404691200, 'reviewTime': '07 7, 2014', 'hash': 1473214148424944000}\n"
     ]
    }
   ],
   "source": [
    "import numpy\n",
    "\n",
    "def dataset_to_matrix(data):\n",
    "    return numpy.array([list(pos_neg_fraction(item['reviewText'])) for item in data])\n",
    "\n",
    "X_train = dataset_to_matrix(baby_train) # We use only the train part\n",
    "most_pos, most_neg = numpy.argmax(X_train, axis=0)\n",
    "# print the example with the highest fraction of positive words:\n",
    "print(\"We found a fraction of %f %% positive words for example %d\" % \n",
    "      (100.*X_train[most_pos, 0], most_pos))\n",
    "print(baby_train[most_pos])\n",
    "print(\"We found a fraction of %f %% negative words for example %d\" %\n",
    "      (100.*X_train[most_neg, 1], most_neg))\n",
    "print(baby_train[most_neg])"
   ]
  },
  {
   "cell_type": "code",
   "execution_count": 37,
   "metadata": {},
   "outputs": [
    {
     "name": "stdout",
     "output_type": "stream",
     "text": [
      "Our feature matrix is two-dimensional and has shape (96293, 2)\n",
      "Our target vector is one-dimensional and has shape (96293,)\n"
     ]
    }
   ],
   "source": [
    "def dataset_to_targets(data):\n",
    "    return numpy.array([item['overall'] for item in data])\n",
    "\n",
    "Y_train = dataset_to_targets(baby_train)\n",
    "Y_valid = dataset_to_targets(baby_valid)\n",
    "print(\"Our feature matrix is two-dimensional and has shape\", X_train.shape)\n",
    "print(\"Our target vector is one-dimensional and has shape\", Y_train.shape)"
   ]
  },
  {
   "cell_type": "markdown",
   "metadata": {},
   "source": [
    " D_train that is true if the customer is **dissatisfied** (1, 2 or 3 stars), and false if the customer is satisfied (4 stars or better):"
   ]
  },
  {
   "cell_type": "code",
   "execution_count": 8,
   "metadata": {},
   "outputs": [
    {
     "name": "stdout",
     "output_type": "stream",
     "text": [
      "The training data contains 21.306845 % dissatisfied customers\n"
     ]
    }
   ],
   "source": [
    "def discretize_targets(Y):\n",
    "    return Y<=3.0\n",
    "\n",
    "D_train = discretize_targets(Y_train)\n",
    "print(\"The training data contains %f %% dissatisfied customers\" % (100.*D_train.mean()))\n"
   ]
  },
  {
   "cell_type": "code",
   "execution_count": 10,
   "metadata": {},
   "outputs": [
    {
     "data": {
      "text/plain": [
       "<matplotlib.axes._subplots.AxesSubplot at 0x236d7f66a58>"
      ]
     },
     "execution_count": 10,
     "metadata": {},
     "output_type": "execute_result"
    },
    {
     "data": {
      "image/png": "[encoded data removed]",
      "text/plain": [
       "<Figure size 432x288 with 1 Axes>"
      ]
     },
     "metadata": {},
     "output_type": "display_data"
    }
   ],
   "source": [
    "import pandas\n",
    "points = numpy.linspace(-6.0, 6.0)\n",
    "logistic_function = pandas.Series(1/(numpy.exp(-points)+1), index=points)\n",
    "logistic_function.plot()"
   ]
  },
  {
   "cell_type": "code",
   "execution_count": 11,
   "metadata": {},
   "outputs": [
    {
     "name": "stdout",
     "output_type": "stream",
     "text": [
      "Training example number 15796\n",
      "True rating 1.000000 stars\n",
      "Expected to be dissatisfied: True\n",
      "Expected probability of being dissatisfied : 0.999880\n",
      "Features = 0.000000 / 1.000000\n",
      "Review text = uncomfortable\n"
     ]
    }
   ],
   "source": [
    "from sklearn.linear_model import LogisticRegression\n",
    "\n",
    "logreg= LogisticRegression().fit(X_train,D_train)\n",
    "\n",
    "#The predict_proba() method produces a matrix with two columns\n",
    "#the first column contains the probaolity for the label being \"fals\"\"(satisfied costumer)\n",
    "# the second column contains the probability for the label being \"true\" (dissatisfied customer)\n",
    "# the sum of both columns is 1\n",
    "#we select the second column with [:,1]\n",
    "# [:,0] would select the first column\n",
    "#[1,:] would select the second row\n",
    "\n",
    "prob2_train = logreg.predict_proba(X_train)[:,1]\n",
    "pred2_train = prob2_train > 0.5 # esto es un bool que da true o false\n",
    "max_prob2 = numpy.argmax(prob2_train) # to test\n",
    "min_prob2= numpy.argmin(prob2_train) # to test\n",
    "\n",
    "def analyze_training_example_2(i):\n",
    "    print(\"Training example number\",i)\n",
    "    print(\"True rating %f stars\" %Y_train[i])\n",
    "    print(\"Expected to be dissatisfied:\", pred2_train[i])\n",
    "    print(\"Expected probability of being dissatisfied : %f\" % prob2_train[i])\n",
    "    print(\"Features = %f / %f\" % (X_train[i,0], X_train[i,1]))\n",
    "    print(\"Review text = %s\" % baby_train[i]['reviewText'])\n",
    "    \n",
    "analyze_training_example_2(max_prob2)"
   ]
  },
  {
   "cell_type": "code",
   "execution_count": 12,
   "metadata": {},
   "outputs": [
    {
     "name": "stdout",
     "output_type": "stream",
     "text": [
      "Training example number 5964\n",
      "True rating 5.000000 stars\n",
      "Expected to be dissatisfied: False\n",
      "Expected probability of being dissatisfied : 0.000039\n",
      "Features = 1.000000 / 0.000000\n",
      "Review text = useful peace\n"
     ]
    }
   ],
   "source": [
    "analyze_training_example_2(min_prob2)"
   ]
  },
  {
   "cell_type": "code",
   "execution_count": 13,
   "metadata": {},
   "outputs": [
    {
     "name": "stdout",
     "output_type": "stream",
     "text": [
      "For the default threshold (0.5) we get precision = 0.599631 and recall = 0.095043\n"
     ]
    }
   ],
   "source": [
    "# Recall.. how many (%) dissatisfied custumers did we identified as dissatisfed\n",
    "#Precision... of all the identified as \"dissatisfied\", which porcetage was actually dissatisfied\n",
    "from sklearn.metrics import precision_score, recall_score\n",
    "precision2 = precision_score(D_train,pred2_train)\n",
    "recall2 = recall_score(D_train,pred2_train)\n",
    "print(\"For the default threshold (0.5) we get precision = %f \"\n",
    "      \"and recall = %f\" % (precision2, recall2))"
   ]
  },
  {
   "cell_type": "markdown",
   "metadata": {},
   "source": [
    "60% of the ones we said were not satisfied were dissatisfied ( so actually around 40% were sattisfied)\n",
    "10%  of the dissatisfied costumers were correctly labled by our algorithm (we left almost 90% out)"
   ]
  },
  {
   "cell_type": "code",
   "execution_count": 14,
   "metadata": {},
   "outputs": [
    {
     "name": "stdout",
     "output_type": "stream",
     "text": [
      "Precision as function of threshold: \n"
     ]
    },
    {
     "data": {
      "text/plain": [
       "<matplotlib.axes._subplots.AxesSubplot at 0x236d81c4e48>"
      ]
     },
     "execution_count": 14,
     "metadata": {},
     "output_type": "execute_result"
    },
    {
     "data": {
      "image/png": "[encoded data removed]",
      "text/plain": [
       "<Figure size 432x288 with 1 Axes>"
      ]
     },
     "metadata": {},
     "output_type": "display_data"
    }
   ],
   "source": [
    "from sklearn.metrics import precision_recall_curve\n",
    "all_precision2, all_recall2, all_thresh2 = precision_recall_curve(\n",
    "    D_train, prob2_train)\n",
    "print(\"Precision as function of threshold: \")\n",
    "pandas.Series(all_precision2[:-1], index = all_thresh2).plot()"
   ]
  },
  {
   "cell_type": "code",
   "execution_count": 15,
   "metadata": {},
   "outputs": [
    {
     "name": "stdout",
     "output_type": "stream",
     "text": [
      "Recall as function of threshold:\n"
     ]
    },
    {
     "data": {
      "text/plain": [
       "<matplotlib.axes._subplots.AxesSubplot at 0x236d768d1d0>"
      ]
     },
     "execution_count": 15,
     "metadata": {},
     "output_type": "execute_result"
    },
    {
     "data": {
      "image/png": "[encoded data removed]",
      "text/plain": [
       "<Figure size 432x288 with 1 Axes>"
      ]
     },
     "metadata": {},
     "output_type": "display_data"
    }
   ],
   "source": [
    "print(\"Recall as function of threshold:\")\n",
    "pandas.Series(all_recall2[:-1], index=all_thresh2).plot()"
   ]
  },
  {
   "cell_type": "code",
   "execution_count": 16,
   "metadata": {},
   "outputs": [
    {
     "name": "stdout",
     "output_type": "stream",
     "text": [
      "Recall as function of precision:\n"
     ]
    },
    {
     "data": {
      "text/plain": [
       "<matplotlib.axes._subplots.AxesSubplot at 0x236d78bfc50>"
      ]
     },
     "execution_count": 16,
     "metadata": {},
     "output_type": "execute_result"
    },
    {
     "data": {
      "image/png": "[encoded data removed]",
      "text/plain": [
       "<Figure size 432x288 with 1 Axes>"
      ]
     },
     "metadata": {},
     "output_type": "display_data"
    }
   ],
   "source": [
    "print(\"Recall as function of precision:\")\n",
    "pandas.Series(all_recall2[:-1], index=all_precision2[:-1]).plot()"
   ]
  },
  {
   "cell_type": "code",
   "execution_count": 17,
   "metadata": {
    "scrolled": true
   },
   "outputs": [
    {
     "name": "stdout",
     "output_type": "stream",
     "text": [
      "Now the precision is 0.483336 and the recall is 0.159039\n"
     ]
    },
    {
     "data": {
      "text/plain": [
       "<matplotlib.axes._subplots.AxesSubplot at 0x236d7af7978>"
      ]
     },
     "execution_count": 17,
     "metadata": {},
     "output_type": "execute_result"
    },
    {
     "data": {
      "image/png": "[encoded data removed]",
      "text/plain": [
       "<Figure size 432x288 with 1 Axes>"
      ]
     },
     "metadata": {},
     "output_type": "display_data"
    }
   ],
   "source": [
    "from sklearn.naive_bayes import GaussianNB, BernoulliNB\n",
    "nb = GaussianNB().fit(X_train, D_train)\n",
    "prob3_train = nb.predict_proba(X_train)[:,1]\n",
    "pred3_train = prob3_train >0.5\n",
    "precision3 = precision_score(D_train, pred3_train)\n",
    "recall3 = recall_score(D_train,pred3_train)\n",
    "print(\"Now the precision is %f and the recall is %f\" % (precision3, recall3))\n",
    "all_precision3, all_recall3, all_thresh3 = precision_recall_curve(\n",
    "    D_train, prob3_train)\n",
    "pandas.Series(all_recall3[:-1], index=all_precision3[:-1]).plot()"
   ]
  },
  {
   "cell_type": "code",
   "execution_count": 18,
   "metadata": {},
   "outputs": [
    {
     "name": "stdout",
     "output_type": "stream",
     "text": [
      "INFO:tensorflow:Using default config.\n",
      "WARNING:tensorflow:Using temporary folder as model directory: C:\\Users\\Mara\\AppData\\Local\\Temp\\tmp83uw7de0\n",
      "INFO:tensorflow:Using config: {'_model_dir': 'C:\\\\Users\\\\Mara\\\\AppData\\\\Local\\\\Temp\\\\tmp83uw7de0', '_tf_random_seed': None, '_save_summary_steps': 100, '_save_checkpoints_steps': None, '_save_checkpoints_secs': 600, '_session_config': None, '_keep_checkpoint_max': 5, '_keep_checkpoint_every_n_hours': 10000, '_log_step_count_steps': 100, '_train_distribute': None, '_device_fn': None, '_service': None, '_cluster_spec': <tensorflow.python.training.server_lib.ClusterSpec object at 0x00000236D73F85C0>, '_task_type': 'worker', '_task_id': 0, '_global_id_in_cluster': 0, '_master': '', '_evaluation_master': '', '_is_chief': True, '_num_ps_replicas': 0, '_num_worker_replicas': 1}\n",
      "INFO:tensorflow:Calling model_fn.\n",
      "INFO:tensorflow:Done calling model_fn.\n",
      "INFO:tensorflow:Create CheckpointSaverHook.\n",
      "INFO:tensorflow:Graph was finalized.\n",
      "INFO:tensorflow:Running local_init_op.\n",
      "INFO:tensorflow:Done running local_init_op.\n",
      "INFO:tensorflow:Saving checkpoints for 0 into C:\\Users\\Mara\\AppData\\Local\\Temp\\tmp83uw7de0\\model.ckpt.\n",
      "INFO:tensorflow:loss = 2393.0, step = 1\n",
      "INFO:tensorflow:global_step/sec: 649.481\n",
      "INFO:tensorflow:loss = 271.33505, step = 101 (0.157 sec)\n",
      "INFO:tensorflow:global_step/sec: 781.251\n",
      "INFO:tensorflow:loss = 170.43738, step = 201 (0.127 sec)\n",
      "INFO:tensorflow:global_step/sec: 799.979\n",
      "INFO:tensorflow:loss = 167.80478, step = 301 (0.126 sec)\n",
      "INFO:tensorflow:global_step/sec: 751.896\n",
      "INFO:tensorflow:loss = 126.2287, step = 401 (0.134 sec)\n",
      "INFO:tensorflow:global_step/sec: 740.713\n",
      "INFO:tensorflow:loss = 156.0523, step = 501 (0.132 sec)\n",
      "INFO:tensorflow:global_step/sec: 689.685\n",
      "INFO:tensorflow:loss = 181.69342, step = 601 (0.145 sec)\n",
      "INFO:tensorflow:global_step/sec: 769.234\n",
      "INFO:tensorflow:loss = 168.4157, step = 701 (0.130 sec)\n",
      "INFO:tensorflow:global_step/sec: 704.229\n",
      "INFO:tensorflow:loss = 147.28238, step = 801 (0.142 sec)\n",
      "INFO:tensorflow:global_step/sec: 763.343\n",
      "INFO:tensorflow:loss = 166.0, step = 901 (0.131 sec)\n",
      "INFO:tensorflow:global_step/sec: 724.644\n",
      "INFO:tensorflow:loss = 171.85112, step = 1001 (0.138 sec)\n",
      "INFO:tensorflow:global_step/sec: 751.869\n",
      "INFO:tensorflow:loss = 152.43587, step = 1101 (0.134 sec)\n",
      "INFO:tensorflow:global_step/sec: 763.359\n",
      "INFO:tensorflow:loss = 197.01727, step = 1201 (0.130 sec)\n",
      "INFO:tensorflow:global_step/sec: 694.444\n",
      "INFO:tensorflow:loss = 151.02151, step = 1301 (0.147 sec)\n",
      "INFO:tensorflow:global_step/sec: 709.226\n",
      "INFO:tensorflow:loss = 131.2751, step = 1401 (0.138 sec)\n",
      "INFO:tensorflow:global_step/sec: 671.141\n",
      "INFO:tensorflow:loss = 165.46617, step = 1501 (0.149 sec)\n",
      "INFO:tensorflow:global_step/sec: 793.663\n",
      "INFO:tensorflow:loss = 169.0751, step = 1601 (0.126 sec)\n",
      "INFO:tensorflow:global_step/sec: 769.224\n",
      "INFO:tensorflow:loss = 156.72917, step = 1701 (0.129 sec)\n",
      "INFO:tensorflow:global_step/sec: 787.388\n",
      "INFO:tensorflow:loss = 202.14026, step = 1801 (0.127 sec)\n",
      "INFO:tensorflow:global_step/sec: 746.278\n",
      "INFO:tensorflow:loss = 126.47327, step = 1901 (0.135 sec)\n",
      "INFO:tensorflow:global_step/sec: 675.668\n",
      "INFO:tensorflow:loss = 154.7169, step = 2001 (0.149 sec)\n",
      "INFO:tensorflow:global_step/sec: 724.653\n",
      "INFO:tensorflow:loss = 142.15262, step = 2101 (0.137 sec)\n",
      "INFO:tensorflow:global_step/sec: 740.743\n",
      "INFO:tensorflow:loss = 115.926895, step = 2201 (0.135 sec)\n",
      "INFO:tensorflow:global_step/sec: 806.372\n",
      "INFO:tensorflow:loss = 144.8742, step = 2301 (0.126 sec)\n",
      "INFO:tensorflow:global_step/sec: 793.725\n",
      "INFO:tensorflow:loss = 174.35712, step = 2401 (0.124 sec)\n",
      "INFO:tensorflow:global_step/sec: 704.174\n",
      "INFO:tensorflow:loss = 133.71707, step = 2501 (0.143 sec)\n",
      "INFO:tensorflow:global_step/sec: 719.474\n",
      "INFO:tensorflow:loss = 127.43675, step = 2601 (0.138 sec)\n",
      "INFO:tensorflow:global_step/sec: 787.366\n",
      "INFO:tensorflow:loss = 165.16467, step = 2701 (0.129 sec)\n",
      "INFO:tensorflow:global_step/sec: 719.461\n",
      "INFO:tensorflow:loss = 146.77467, step = 2801 (0.137 sec)\n",
      "INFO:tensorflow:global_step/sec: 833.339\n",
      "INFO:tensorflow:loss = 156.68427, step = 2901 (0.120 sec)\n",
      "INFO:tensorflow:global_step/sec: 847.457\n",
      "INFO:tensorflow:loss = 181.74063, step = 3001 (0.119 sec)\n",
      "INFO:tensorflow:global_step/sec: 751.856\n",
      "INFO:tensorflow:loss = 95.34914, step = 3101 (0.134 sec)\n",
      "INFO:tensorflow:global_step/sec: 787.423\n",
      "INFO:tensorflow:loss = 159.3523, step = 3201 (0.125 sec)\n",
      "INFO:tensorflow:global_step/sec: 854.686\n",
      "INFO:tensorflow:loss = 178.31763, step = 3301 (0.116 sec)\n",
      "INFO:tensorflow:global_step/sec: 787.391\n",
      "INFO:tensorflow:loss = 126.046814, step = 3401 (0.129 sec)\n",
      "INFO:tensorflow:global_step/sec: 724.649\n",
      "INFO:tensorflow:loss = 149.65416, step = 3501 (0.137 sec)\n",
      "INFO:tensorflow:global_step/sec: 662.257\n",
      "INFO:tensorflow:loss = 182.42697, step = 3601 (0.151 sec)\n",
      "INFO:tensorflow:global_step/sec: 740.745\n",
      "INFO:tensorflow:loss = 134.09213, step = 3701 (0.134 sec)\n",
      "INFO:tensorflow:global_step/sec: 719.405\n",
      "INFO:tensorflow:loss = 174.70981, step = 3801 (0.141 sec)\n",
      "INFO:tensorflow:global_step/sec: 775.208\n",
      "INFO:tensorflow:loss = 154.75641, step = 3901 (0.129 sec)\n",
      "INFO:tensorflow:global_step/sec: 578.018\n",
      "INFO:tensorflow:loss = 154.83597, step = 4001 (0.174 sec)\n",
      "INFO:tensorflow:global_step/sec: 709.205\n",
      "INFO:tensorflow:loss = 128.69206, step = 4101 (0.140 sec)\n",
      "INFO:tensorflow:global_step/sec: 746.316\n",
      "INFO:tensorflow:loss = 207.22498, step = 4201 (0.133 sec)\n",
      "INFO:tensorflow:global_step/sec: 740.739\n",
      "INFO:tensorflow:loss = 152.14133, step = 4301 (0.135 sec)\n",
      "INFO:tensorflow:global_step/sec: 909.1\n",
      "INFO:tensorflow:loss = 188.65985, step = 4401 (0.109 sec)\n",
      "INFO:tensorflow:global_step/sec: 961.509\n",
      "INFO:tensorflow:loss = 132.1898, step = 4501 (0.106 sec)\n",
      "INFO:tensorflow:global_step/sec: 935.629\n",
      "INFO:tensorflow:loss = 116.72116, step = 4601 (0.107 sec)\n",
      "INFO:tensorflow:global_step/sec: 609.766\n",
      "INFO:tensorflow:loss = 172.8433, step = 4701 (0.167 sec)\n",
      "INFO:tensorflow:global_step/sec: 751.892\n",
      "INFO:tensorflow:loss = 175.60405, step = 4801 (0.131 sec)\n",
      "INFO:tensorflow:global_step/sec: 840.296\n",
      "INFO:tensorflow:loss = 135.1148, step = 4901 (0.119 sec)\n",
      "INFO:tensorflow:Saving checkpoints for 5000 into C:\\Users\\Mara\\AppData\\Local\\Temp\\tmp83uw7de0\\model.ckpt.\n",
      "INFO:tensorflow:Loss for final step: 186.76248.\n"
     ]
    },
    {
     "data": {
      "text/plain": [
       "<tensorflow.python.estimator.canned.linear.LinearRegressor at 0x236d7b498d0>"
      ]
     },
     "execution_count": 18,
     "metadata": {},
     "output_type": "execute_result"
    }
   ],
   "source": [
    "import tensorflow as tf\n",
    "feat_cols = [tf.feature_column.numeric_column(key=\"fpos\"),\n",
    "            tf.feature_column.numeric_column(key=\"fneg\")]\n",
    "model = tf.estimator.LinearRegressor(feature_columns =feat_cols)\n",
    "\n",
    "get_training_data = tf.estimator.inputs.numpy_input_fn(\n",
    "                        x={\"fpos\" : X_train[:,0], \"fneg\" : X_train[:,1]},\n",
    "                        y = Y_train, num_epochs = None, shuffle = True \n",
    "                        )\n",
    "\n",
    "model.train(input_fn = get_training_data, steps = 5000)"
   ]
  },
  {
   "cell_type": "code",
   "execution_count": null,
   "metadata": {},
   "outputs": [],
   "source": []
  },
  {
   "cell_type": "code",
   "execution_count": 19,
   "metadata": {},
   "outputs": [
    {
     "name": "stdout",
     "output_type": "stream",
     "text": [
      "INFO:tensorflow:Calling model_fn.\n",
      "INFO:tensorflow:Done calling model_fn.\n",
      "INFO:tensorflow:Graph was finalized.\n",
      "INFO:tensorflow:Restoring parameters from C:\\Users\\Mara\\AppData\\Local\\Temp\\tmp83uw7de0\\model.ckpt-5000\n",
      "INFO:tensorflow:Running local_init_op.\n",
      "INFO:tensorflow:Done running local_init_op.\n",
      "The mean absolute error on the training data is 0.842793 stars\n"
     ]
    }
   ],
   "source": [
    "from sklearn.metrics import mean_absolute_error\n",
    "eval_training_data = tf.estimator.inputs.numpy_input_fn(\n",
    "                     x={\"fpos\":X_train[:,0], \"fneg\": X_train[:,1]},\n",
    "                     num_epochs=1, shuffle=False)\n",
    "pred_train_tf = numpy.array([item['predictions'][0] for item in \n",
    "                         model.predict(input_fn=eval_training_data)])\n",
    "mae_train_tf = mean_absolute_error(pred_train_tf, Y_train)\n",
    "print(\"The mean absolute error on the training data is %f stars\" \n",
    "      % mae_train_tf)"
   ]
  },
  {
   "cell_type": "markdown",
   "metadata": {},
   "source": [
    "# NLTK Built In Sentiment Analyzer"
   ]
  },
  {
   "cell_type": "code",
   "execution_count": 20,
   "metadata": {},
   "outputs": [
    {
     "name": "stdout",
     "output_type": "stream",
     "text": [
      "Sentence = This product wasn't bad.\n",
      "['this', 'product', 'was', \"n't\", 'bad_NEG', '.']\n",
      "Sentence = This is not a bad product.\n",
      "['this', 'is', 'not', 'a_NEG', 'bad_NEG', 'product_NEG', '.']\n",
      "Sentence = This product was bad.\n",
      "['this', 'product', 'was', 'bad', '.']\n",
      "Sentence = This is a bad product.\n",
      "['this', 'is', 'a', 'bad', 'product', '.']\n",
      "Perfect way to keep track of the day for a little one-- this journal allows for detailed tracking of milk intake, diapers, sleep, and activity. Highly recommended as a perfect way to keep track and organize information in one easy to travel with place!\n",
      "['perfect', 'way', 'keep', 'track', 'day', 'little', 'one', 'journal', 'allows', 'detailed', 'tracking', 'milk', 'intake', 'diapers', 'sleep', 'activity', 'highly', 'recommended', 'perfect', 'way', 'keep', 'track', 'organize', 'information', 'one', 'easy', 'travel', 'place']\n"
     ]
    },
    {
     "name": "stderr",
     "output_type": "stream",
     "text": [
      "c:\\users\\mara\\appdata\\local\\programs\\python\\python36\\lib\\site-packages\\nltk\\twitter\\__init__.py:20: UserWarning: The twython library has not been installed. Some functionality from the twitter package will not be available.\n",
      "  warnings.warn(\"The twython library has not been installed. \"\n"
     ]
    }
   ],
   "source": [
    "\n",
    "from  nltk.sentiment  import SentimentAnalyzer\n",
    "from nltk.sentiment.util import mark_negation\n",
    "examples_negation = [\"This product wasn't bad.\",\n",
    "                     \"This is not a bad product.\",\n",
    "                     \"This product was bad.\",\n",
    "                     \"This is a bad product.\"]\n",
    "\n",
    "for sentence in examples_negation:\n",
    "    tokens_with_negation = mark_negation(word_tokenize(sentence.lower()))\n",
    "    print(\"Sentence =\", sentence)\n",
    "    print(tokens_with_negation)\n",
    "\n",
    "negated_stopwords = set(x+\"_NEG\" for x in eng_stopwords)\n",
    "all_stopwords = eng_stopwords.union(negated_stopwords)        # set union\n",
    "    \n",
    "def tokenize_with_negation(text):\n",
    "    # split text into lower-case tokens, removing all-punctuation tokens and stopwords\n",
    "    tokens = []\n",
    "    for sentence in sent_tokenize(text):\n",
    "        pretokens = word_tokenize(sentence.lower())\n",
    "        pretokens = [x for x in pretokens if any(i.isalpha() for i in x)]\n",
    "        pretokens = mark_negation(pretokens)\n",
    "        tokens.extend(x for x in pretokens if x not in all_stopwords)\n",
    "    return tokens\n",
    "\n",
    "print(baby_train[31]['reviewText'])\n",
    "print(tokenize_with_negation(baby_train[31]['reviewText']))"
   ]
  },
  {
   "cell_type": "code",
   "execution_count": 21,
   "metadata": {},
   "outputs": [
    {
     "name": "stdout",
     "output_type": "stream",
     "text": [
      "(0.8571428571428571, 0.0)\n",
      "(0.0, 0.8571428571428571)\n"
     ]
    }
   ],
   "source": [
    "\n",
    "all_positive_words  = positive_words.union({x+\"_NEG\" for x in negative_words})\n",
    "all_negative_words = negative_words.union({x+\"_NEG\" for x in positive_words})\n",
    "\n",
    "def pos_neg_fraction_with_negation(text):\n",
    "    tokens = tokenize_with_negation(text)\n",
    "    # count how many positive and negative words occur in the text\n",
    "    count_pos, count_neg = 0, 0\n",
    "    for t in tokens:\n",
    "        if t in all_positive_words:\n",
    "            count_pos += 1\n",
    "        if t in all_negative_words:\n",
    "            count_neg += 1\n",
    "    count_all = len(tokens)\n",
    "    if count_all != 0:\n",
    "        return count_pos/count_all, count_neg/count_all\n",
    "    else:  # avoid division by zero\n",
    "        return 0., 0.\n",
    "    \n",
    "pos_example = 'This is a good, great, fantastic, amazing, wonderful, super product!!!'\n",
    "neg_example = 'This is a bad, atrocious, terrible, dreadful, awful, abysmal product!!!'\n",
    "print(pos_neg_fraction_with_negation(pos_example))\n",
    "print(pos_neg_fraction_with_negation(neg_example))"
   ]
  },
  {
   "cell_type": "code",
   "execution_count": 22,
   "metadata": {},
   "outputs": [
    {
     "name": "stdout",
     "output_type": "stream",
     "text": [
      "(0.0, 0.8571428571428571)\n",
      "(0.8571428571428571, 0.0)\n"
     ]
    }
   ],
   "source": [
    "pos_example_neg = 'This is not a good, great, fantastic, amazing, wonderful, super product!!!'\n",
    "neg_example_neg = 'This is not a bad, atrocious, terrible, dreadful, awful, abysmal product!!!'\n",
    "print(pos_neg_fraction_with_negation(pos_example_neg))\n",
    "print(pos_neg_fraction_with_negation(neg_example_neg))"
   ]
  },
  {
   "cell_type": "code",
   "execution_count": 23,
   "metadata": {},
   "outputs": [],
   "source": [
    "def dataset_to_matrix_with_neg(data):\n",
    "    return numpy.array([list(pos_neg_fraction_with_negation(item['reviewText'])) for item in data])\n",
    "\n",
    "X_train_neg = dataset_to_matrix_with_neg(baby_train)"
   ]
  },
  {
   "cell_type": "code",
   "execution_count": 24,
   "metadata": {},
   "outputs": [
    {
     "name": "stdout",
     "output_type": "stream",
     "text": [
      "Now the mean absolute error on the training data is 0.813681 stars\n"
     ]
    }
   ],
   "source": [
    "from sklearn.linear_model import LinearRegression\n",
    "lreg_neg = LinearRegression().fit(X_train_neg, Y_train)\n",
    "pred_train_neg = lreg_neg.predict(X_train_neg)\n",
    "mae_train_with_neg = mean_absolute_error(pred_train_neg, Y_train)\n",
    "print(\"Now the mean absolute error on the training data is %f stars\" % mae_train_with_neg)"
   ]
  },
  {
   "cell_type": "markdown",
   "metadata": {},
   "source": [
    "# Random Forest"
   ]
  },
  {
   "cell_type": "code",
   "execution_count": 25,
   "metadata": {},
   "outputs": [
    {
     "name": "stdout",
     "output_type": "stream",
     "text": [
      "A nonlinear regressor achieves a MAE of 0.711601 stars\n"
     ]
    }
   ],
   "source": [
    "from sklearn.ensemble import RandomForestRegressor\n",
    "rf_neg = RandomForestRegressor().fit(X_train_neg,Y_train)\n",
    "pred_train_rf_neg = rf_neg.predict(X_train_neg)\n",
    "mae_train_rf_neg = mean_absolute_error(pred_train_rf_neg, Y_train)\n",
    "print(\"A nonlinear regressor achieves a MAE of %f stars\" % mae_train_rf_neg)"
   ]
  },
  {
   "cell_type": "markdown",
   "metadata": {},
   "source": [
    "# DAy 3"
   ]
  },
  {
   "cell_type": "code",
   "execution_count": 26,
   "metadata": {},
   "outputs": [
    {
     "data": {
      "text/plain": [
       "'If I knew about these earlier I would have purchased for my first child they are definitely worth every cent!'"
      ]
     },
     "execution_count": 26,
     "metadata": {},
     "output_type": "execute_result"
    }
   ],
   "source": [
    "baby_train[50000]['reviewText']"
   ]
  },
  {
   "cell_type": "code",
   "execution_count": 27,
   "metadata": {},
   "outputs": [
    {
     "name": "stdout",
     "output_type": "stream",
     "text": [
      "If I knew about these earlier I would have purchased for my first child they are definitely worth every cent!\n",
      "{'neg': 0.0, 'neu': 0.766, 'pos': 0.234, 'compound': 0.5983}\n"
     ]
    }
   ],
   "source": [
    "from nltk.sentiment.vader import SentimentIntensityAnalyzer # buildeed in sentimental analyser\n",
    "sia= SentimentIntensityAnalyzer()\n",
    "text = baby_train[50000]['reviewText']\n",
    "for s in sent_tokenize(text):\n",
    "    print(s)\n",
    "    print(sia.polarity_scores(s))\n",
    "    "
   ]
  },
  {
   "cell_type": "markdown",
   "metadata": {},
   "source": [
    "what is compound?"
   ]
  },
  {
   "cell_type": "code",
   "execution_count": 28,
   "metadata": {},
   "outputs": [],
   "source": [
    "def sia_features(dataset):\n",
    "    '''\n",
    "    For each review text in the dataset, extract: \n",
    "    (1) mean positive sentiment over all sentences\n",
    "    (2) mean neutral sentiment over all sentences\n",
    "    (3) mean negative sentiment over all  sentences\n",
    "    (4) maximum postive sentiment over all sentences\n",
    "    (5) maximum neutral sentiment over all sentences\n",
    "    (6) maximum negative sentiment over al sentences \n",
    "'''\n",
    "    feat_matrix = numpy.empty((len(dataset),6))\n",
    "    for i in range(len(dataset)):\n",
    "        sentences = sent_tokenize(dataset[i]['reviewText'])\n",
    "        nsent = len(sentences)\n",
    "        if nsent:\n",
    "            sentences_polarities = numpy.empty((nsent,3))\n",
    "            for j in range(nsent):\n",
    "                polarity = sia.polarity_scores(sentences[j])\n",
    "                sentences_polarities[j,0] = polarity['pos']\n",
    "                sentences_polarities[j,1] = polarity['neu']\n",
    "                sentences_polarities[j,2] = polarity['neg']\n",
    "            feat_matrix[i, 0:3] = numpy.mean(sentences_polarities, axis = 0) #axis 0 is row, axis 1 is columns\n",
    "            feat_matrix[i,3:6] = numpy.max(sentences_polarities, axis = 0)\n",
    "        else:\n",
    "            feat_matrix[i, 0:6] = 0.0\n",
    "            \n",
    "    return feat_matrix\n",
    "            \n",
    "sia_tr = sia_features(baby_train)\n"
   ]
  },
  {
   "cell_type": "code",
   "execution_count": 29,
   "metadata": {},
   "outputs": [
    {
     "name": "stdout",
     "output_type": "stream",
     "text": [
      "[[0.23533333 0.76466667 0.         0.552      1.         0.        ]\n",
      " [0.03833333 0.84266667 0.119      0.115      1.         0.357     ]\n",
      " [0.12725    0.8365     0.03625    0.194      0.865      0.145     ]\n",
      " ...\n",
      " [0.45575    0.54425    0.         0.815      1.         0.        ]\n",
      " [0.2732     0.7268     0.         0.497      1.         0.        ]\n",
      " [0.22825    0.7155     0.05625    0.672      1.         0.225     ]]\n"
     ]
    }
   ],
   "source": [
    "print(sia_tr)"
   ]
  },
  {
   "cell_type": "markdown",
   "metadata": {},
   "source": [
    "# Homework"
   ]
  },
  {
   "cell_type": "code",
   "execution_count": 30,
   "metadata": {},
   "outputs": [],
   "source": [
    "def len_features(dataset):\n",
    "    '''\n",
    "    Add two features:\n",
    "    (1) lenght of review (in thousands of characters) - truncate at 2500\n",
    "    (2) percengate of exclamation marks (in %)    \n",
    "    '''\n",
    "len_tr = len_features(baby_train)"
   ]
  },
  {
   "cell_type": "code",
   "execution_count": 31,
   "metadata": {},
   "outputs": [
    {
     "name": "stdout",
     "output_type": "stream",
     "text": [
      "(96293, 2) (96293, 6)\n"
     ]
    }
   ],
   "source": [
    "print(X_train_neg.shape, sia_tr.shape)"
   ]
  },
  {
   "cell_type": "code",
   "execution_count": null,
   "metadata": {},
   "outputs": [],
   "source": []
  },
  {
   "cell_type": "code",
   "execution_count": 32,
   "metadata": {},
   "outputs": [
    {
     "name": "stdout",
     "output_type": "stream",
     "text": [
      "Now the mean absolute error on the training data is 0.756750 starts\n"
     ]
    }
   ],
   "source": [
    "# stack horizontally \n",
    "X_train_augmented = numpy.concatenate(( X_train_neg, sia_tr) ,axis = 1)\n",
    "lreg_augmented = LinearRegression().fit(X_train_augmented,Y_train)\n",
    "pred_train_augmented = lreg_augmented.predict(X_train_augmented)\n",
    "mean_train_augmented = mean_absolute_error(pred_train_augmented, Y_train)\n",
    "print(\"Now the mean absolute error on the training data is %f starts\" % mean_train_augmented)"
   ]
  },
  {
   "cell_type": "code",
   "execution_count": 33,
   "metadata": {},
   "outputs": [
    {
     "name": "stdout",
     "output_type": "stream",
     "text": [
      "For the RF, MAE is 0.291807 stars\n"
     ]
    }
   ],
   "source": [
    "# random forest\n",
    "rf_augmented = RandomForestRegressor().fit(X_train_augmented, Y_train) #fetting\n",
    "rfpred_train_augmented = rf_augmented.predict(X_train_augmented) # prediction\n",
    "mae_train_rf_augmented = mean_absolute_error(rfpred_train_augmented, Y_train) #check error\n",
    "print(\"For the RF, MAE is %f stars\" % mae_train_rf_augmented)"
   ]
  },
  {
   "cell_type": "markdown",
   "metadata": {},
   "source": [
    "Now we vlaidation data"
   ]
  },
  {
   "cell_type": "code",
   "execution_count": 39,
   "metadata": {},
   "outputs": [
    {
     "name": "stdout",
     "output_type": "stream",
     "text": [
      "on the validation set, we get 0.758471 error for the linear regresion\n",
      "and 0.756287  for the random forest regresion\n"
     ]
    }
   ],
   "source": [
    "X_valid_neg = dataset_to_matrix(baby_valid)\n",
    "sia_valid = sia_features(baby_valid)\n",
    "#leng_valid\n",
    "X_valid_augmented = numpy.concatenate((X_valid_neg,sia_valid), axis = 1)\n",
    "pred_valid_lraugmented = lreg_augmented.predict(X_valid_augmented)\n",
    "pred_valid_rf_augmented = rf_augmented.predict(X_valid_augmented)\n",
    "\n",
    "mae_valid_augmented = mean_absolute_error(pred_valid_lraugmented, Y_valid)\n",
    "print(\"on the validation set, we get %f error for the linear regresion\" % mae_valid_augmented)\n",
    "mae_valid_rfaugemented = mean_absolute_error(pred_valid_rf_augmented, Y_valid)\n",
    "print(\"and %f  for the random forest regresion\" % mae_valid_rfaugemented)"
   ]
  }
 ],
 "metadata": {
  "kernelspec": {
   "display_name": "Python 3",
   "language": "python",
   "name": "python3"
  },
  "language_info": {
   "codemirror_mode": {
    "name": "ipython",
    "version": 3
   },
   "file_extension": ".py",
   "mimetype": "text/x-python",
   "name": "python",
   "nbconvert_exporter": "python",
   "pygments_lexer": "ipython3",
   "version": "3.6.4"
  }
 },
 "nbformat": 4,
 "nbformat_minor": 2
}
