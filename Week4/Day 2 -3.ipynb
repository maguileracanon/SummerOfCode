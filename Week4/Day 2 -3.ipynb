{
 "cells": [
  {
   "cell_type": "code",
   "execution_count": 1,
   "metadata": {},
   "outputs": [
    {
     "name": "stdout",
     "output_type": "stream",
     "text": [
      "Dataset Baby has already been downloaded to ./data/\n"
     ]
    }
   ],
   "source": [
    "%matplotlib inline\n",
    "datadir = './data/'\n",
    "\n",
    "import urllib.request, os, gzip\n",
    "\n",
    "def download_data(dataset_name, datadir):\n",
    "    filename = 'reviews_%s_5.json' % dataset_name\n",
    "    filepath = os.path.join(datadir, filename)\n",
    "    if os.path.exists(filepath):\n",
    "        print(\"Dataset %s has already been downloaded to %s\" % (dataset_name, datadir))\n",
    "    else:\n",
    "        url = 'http://snap.stanford.edu/data/amazon/productGraph/categoryFiles/%s.gz' % filename\n",
    "        urllib.request.urlretrieve(url, filepath + \".gz\")\n",
    "        with gzip.open(filepath + \".gz\", 'rb') as fin:\n",
    "            with open(filepath, 'wb') as fout:\n",
    "                fout.write(fin.read())\n",
    "        print(\"Downloaded dataset %s and saved it to %s\" % (dataset_name, datadir))\n",
    "\n",
    "dataset = \"Baby\"\n",
    "download_data(dataset, datadir)"
   ]
  },
  {
   "cell_type": "code",
   "execution_count": 2,
   "metadata": {},
   "outputs": [
    {
     "name": "stdout",
     "output_type": "stream",
     "text": [
      "Loaded 160792 data for dataset Baby\n"
     ]
    }
   ],
   "source": [
    "import  json\n",
    "\n",
    "def  load_data (dataset_name, datadir):\n",
    "    filepath = os.path.join(datadir, 'reviews_%s_5.json' % dataset_name)\n",
    "    if not os.path.exists(filepath):\n",
    "        download_data(dataset_name, datadir)\n",
    "    data = []\n",
    "    with open(filepath, 'r') as f:\n",
    "        for line in f:                            # read file line by line\n",
    "            item_hash = hash(line)                # we will use this later for partitioning our data \n",
    "            item = json.loads(line)               # convert JSON string to Python dict\n",
    "            item['hash'] = item_hash              # add hash for identification purposes\n",
    "            data.append(item)\n",
    "    print(\"Loaded %d data for dataset %s\" % (len(data), dataset_name))\n",
    "    return data\n",
    "\n",
    "# load the data...\n",
    "baby = load_data(dataset, datadir)\n"
   ]
  },
  {
   "cell_type": "code",
   "execution_count": 3,
   "metadata": {},
   "outputs": [],
   "source": [
    "def partition_train_validation_test(data):\n",
    "    # 60% : modulus is 0, 1, 2, 3, 4, or 5\n",
    "    data_train = [item for item in data if item['hash']%10<=5]  \n",
    "    # 20% : modulus is 6 or 7\n",
    "    data_valid = [item for item in data if item['hash']%10 in [6,7]] \n",
    "    # 20% : modulus is 8 or 9\n",
    "    data_test  = [item for item in data if item['hash']%10 in [8,9]] \n",
    "    return data_train, data_valid, data_test\n",
    "    \n",
    "baby_train, baby_valid, baby_test = partition_train_validation_test(baby)\n"
   ]
  },
  {
   "cell_type": "code",
   "execution_count": 4,
   "metadata": {},
   "outputs": [
    {
     "name": "stdout",
     "output_type": "stream",
     "text": [
      "Some positive words: visionary, distinctive, ardent, compactly, stable, merciful, tremendously, dreamland, dead-cheap, fervid\n",
      "Some negative words: contrariness, wasteful, unexpected, lost, afflict, ominous, gall, unsettling, misbehave, trample\n"
     ]
    }
   ],
   "source": [
    "from  nltk.corpus  import opinion_lexicon\n",
    "positive_words = set(opinion_lexicon.positive())\n",
    "negative_words = set(opinion_lexicon.negative())\n",
    "\n",
    "import random\n",
    "random.seed(1234)\n",
    "print(\"Some positive words:\", \", \".join(random.sample(positive_words, 10)))\n",
    "print(\"Some negative words:\", \", \".join(random.sample(negative_words, 10)))\n"
   ]
  },
  {
   "cell_type": "code",
   "execution_count": 5,
   "metadata": {},
   "outputs": [
    {
     "name": "stdout",
     "output_type": "stream",
     "text": [
      "(0.8571428571428571, 0.0)\n",
      "(0.0, 0.8571428571428571)\n"
     ]
    }
   ],
   "source": [
    "from nltk.corpus import stopwords\n",
    "from nltk.tokenize import sent_tokenize, word_tokenize\n",
    "eng_stopwords = set(stopwords.words('english'))\n",
    "\n",
    "def my_tokenize(text):\n",
    "    # split text into lower-case tokens, removing all-punctuation tokens and stopwords\n",
    "    tokens = []\n",
    "    for sentence in sent_tokenize(text):\n",
    "        tokens.extend(x for x in word_tokenize(sentence.lower()) \n",
    "                      if x not in eng_stopwords and any(i.isalpha() for i in x))\n",
    "    return tokens\n",
    "\n",
    "def pos_neg_fraction(text):\n",
    "    tokens = my_tokenize(text)\n",
    "    count_pos, count_neg = 0, 0\n",
    "    for t in tokens:\n",
    "        if t in positive_words:\n",
    "            count_pos += 1\n",
    "        if t in negative_words:\n",
    "            count_neg += 1\n",
    "    count_all = len(tokens)\n",
    "    if count_all != 0:\n",
    "        return count_pos/count_all, count_neg/count_all\n",
    "    else:\n",
    "        return 0., 0.\n",
    "    \n",
    "pos_example = 'This is a good, great, fantastic, amazing, wonderful, super product!!!'\n",
    "neg_example = 'This is a bad, atrocious, terrible, dreadful, awful, abysmal product!!!'\n",
    "print(pos_neg_fraction(pos_example))\n",
    "print(pos_neg_fraction(neg_example))"
   ]
  },
  {
   "cell_type": "code",
   "execution_count": 6,
   "metadata": {},
   "outputs": [
    {
     "name": "stdout",
     "output_type": "stream",
     "text": [
      "We found a fraction of 100.000000 % positive words for example 5872\n",
      "{'reviewerID': 'AKU0ZZ3IEZW42', 'asin': 'B0001BUKA8', 'helpful': [0, 0], 'reviewText': 'useful peace', 'overall': 5.0, 'summary': 'Five Stars', 'unixReviewTime': 1405382400, 'reviewTime': '07 15, 2014', 'hash': -4229860844673062150}\n",
      "We found a fraction of 100.000000 % negative words for example 15777\n",
      "{'reviewerID': 'A2416HDN71TOGG', 'asin': 'B000HZEQSU', 'reviewerName': 'Elizabeth Evans', 'helpful': [0, 0], 'reviewText': 'uncomfortable', 'overall': 1.0, 'summary': 'One Star', 'unixReviewTime': 1404691200, 'reviewTime': '07 7, 2014', 'hash': -2402809534269020419}\n"
     ]
    }
   ],
   "source": [
    "import numpy\n",
    "\n",
    "def dataset_to_matrix(data):\n",
    "    return numpy.array([list(pos_neg_fraction(item['reviewText'])) for item in data])\n",
    "\n",
    "X_train = dataset_to_matrix(baby_train) # We use only the train part\n",
    "most_pos, most_neg = numpy.argmax(X_train, axis=0)\n",
    "# print the example with the highest fraction of positive words:\n",
    "print(\"We found a fraction of %f %% positive words for example %d\" % \n",
    "      (100.*X_train[most_pos, 0], most_pos))\n",
    "print(baby_train[most_pos])\n",
    "print(\"We found a fraction of %f %% negative words for example %d\" %\n",
    "      (100.*X_train[most_neg, 1], most_neg))\n",
    "print(baby_train[most_neg])"
   ]
  },
  {
   "cell_type": "code",
   "execution_count": 7,
   "metadata": {},
   "outputs": [
    {
     "name": "stdout",
     "output_type": "stream",
     "text": [
      "Our feature matrix is two-dimensional and has shape (96696, 2)\n",
      "Our target vector is one-dimensional and has shape (96696,)\n"
     ]
    }
   ],
   "source": [
    "def dataset_to_targets(data):\n",
    "    return numpy.array([item['overall'] for item in data])\n",
    "\n",
    "Y_train = dataset_to_targets(baby_train)\n",
    "print(\"Our feature matrix is two-dimensional and has shape\", X_train.shape)\n",
    "print(\"Our target vector is one-dimensional and has shape\", Y_train.shape)"
   ]
  },
  {
   "cell_type": "markdown",
   "metadata": {},
   "source": [
    " D_train that is true if the customer is **dissatisfied** (1, 2 or 3 stars), and false if the customer is satisfied (4 stars or better):"
   ]
  },
  {
   "cell_type": "code",
   "execution_count": 8,
   "metadata": {},
   "outputs": [
    {
     "name": "stdout",
     "output_type": "stream",
     "text": [
      "The training data contains 21.282163 % dissatisfied customers\n"
     ]
    }
   ],
   "source": [
    "def discretize_targets(Y):\n",
    "    return Y<=3.0\n",
    "\n",
    "D_train = discretize_targets(Y_train)\n",
    "print(\"The training data contains %f %% dissatisfied customers\" % (100.*D_train.mean()))\n"
   ]
  },
  {
   "cell_type": "code",
   "execution_count": 9,
   "metadata": {},
   "outputs": [
    {
     "data": {
      "text/plain": [
       "<matplotlib.axes._subplots.AxesSubplot at 0x1ce53bac748>"
      ]
     },
     "execution_count": 9,
     "metadata": {},
     "output_type": "execute_result"
    },
    {
     "data": {
      "image/png": "[encoded data removed]",
      "text/plain": [
       "<Figure size 432x288 with 1 Axes>"
      ]
     },
     "metadata": {},
     "output_type": "display_data"
    }
   ],
   "source": [
    "import pandas\n",
    "points = numpy.linspace(-6.0, 6.0)\n",
    "logistic_function = pandas.Series(1/(numpy.exp(-points)+1), index=points)\n",
    "logistic_function.plot()"
   ]
  },
  {
   "cell_type": "code",
   "execution_count": 10,
   "metadata": {},
   "outputs": [
    {
     "name": "stdout",
     "output_type": "stream",
     "text": [
      "Training example number 15777\n",
      "True rating 1.000000 stars\n",
      "Expected to be dissatisfied: True\n",
      "Expected probability of being dissatisfied : 0.999865\n",
      "Features = 0.000000 / 1.000000\n",
      "Review text = uncomfortable\n"
     ]
    }
   ],
   "source": [
    "from sklearn.linear_model import LogisticRegression\n",
    "\n",
    "logreg= LogisticRegression().fit(X_train,D_train)\n",
    "\n",
    "#The predict_proba() method produces a matrix with two columns\n",
    "#the first column contains the probaolity for the label being \"fals\"\"(satisfied costumer)\n",
    "# the second column contains the probability for the label being \"true\" (dissatisfied customer)\n",
    "# the sum of both columns is 1\n",
    "#we select the second column with [:,1]\n",
    "# [:,0] would select the first column\n",
    "#[1,:] would select the second row\n",
    "\n",
    "prob2_train = logreg.predict_proba(X_train)[:,1]\n",
    "pred2_train = prob2_train > 0.5 # esto es un bool que da true o false\n",
    "max_prob2 = numpy.argmax(prob2_train) # to test\n",
    "min_prob2= numpy.argmin(prob2_train) # to test\n",
    "\n",
    "def analyze_training_example_2(i):\n",
    "    print(\"Training example number\",i)\n",
    "    print(\"True rating %f stars\" %Y_train[i])\n",
    "    print(\"Expected to be dissatisfied:\", pred2_train[i])\n",
    "    print(\"Expected probability of being dissatisfied : %f\" % prob2_train[i])\n",
    "    print(\"Features = %f / %f\" % (X_train[i,0], X_train[i,1]))\n",
    "    print(\"Review text = %s\" % baby_train[i]['reviewText'])\n",
    "    \n",
    "analyze_training_example_2(max_prob2)"
   ]
  },
  {
   "cell_type": "code",
   "execution_count": 11,
   "metadata": {},
   "outputs": [
    {
     "name": "stdout",
     "output_type": "stream",
     "text": [
      "Training example number 5872\n",
      "True rating 5.000000 stars\n",
      "Expected to be dissatisfied: False\n",
      "Expected probability of being dissatisfied : 0.000041\n",
      "Features = 1.000000 / 0.000000\n",
      "Review text = useful peace\n"
     ]
    }
   ],
   "source": [
    "analyze_training_example_2(min_prob2)"
   ]
  },
  {
   "cell_type": "code",
   "execution_count": 12,
   "metadata": {},
   "outputs": [
    {
     "name": "stdout",
     "output_type": "stream",
     "text": [
      "For the default threshold (0.5) we get precision = 0.606013 and recall = 0.094028\n"
     ]
    }
   ],
   "source": [
    "# Recall.. how many (%) dissatisfied custumers did we identified as dissatisfed\n",
    "#Precision... of all the identified as \"dissatisfied\", which porcetage was actually dissatisfied\n",
    "from sklearn.metrics import precision_score, recall_score\n",
    "precision2 = precision_score(D_train,pred2_train)\n",
    "recall2 = recall_score(D_train,pred2_train)\n",
    "print(\"For the default threshold (0.5) we get precision = %f \"\n",
    "      \"and recall = %f\" % (precision2, recall2))"
   ]
  },
  {
   "cell_type": "markdown",
   "metadata": {},
   "source": [
    "60% of the ones we said were not satisfied were dissatisfied ( so actually around 40% were sattisfied)\n",
    "10%  of the dissatisfied costumers were correctly labled by our algorithm (we left almost 90% out)"
   ]
  },
  {
   "cell_type": "code",
   "execution_count": 13,
   "metadata": {},
   "outputs": [
    {
     "name": "stdout",
     "output_type": "stream",
     "text": [
      "Precision as function of threshold: \n"
     ]
    },
    {
     "data": {
      "text/plain": [
       "<matplotlib.axes._subplots.AxesSubplot at 0x1ce533dae80>"
      ]
     },
     "execution_count": 13,
     "metadata": {},
     "output_type": "execute_result"
    },
    {
     "data": {
      "image/png": "[encoded data removed]",
      "text/plain": [
       "<Figure size 432x288 with 1 Axes>"
      ]
     },
     "metadata": {},
     "output_type": "display_data"
    }
   ],
   "source": [
    "from sklearn.metrics import precision_recall_curve\n",
    "all_precision2, all_recall2, all_thresh2 = precision_recall_curve(\n",
    "    D_train, prob2_train)\n",
    "print(\"Precision as function of threshold: \")\n",
    "pandas.Series(all_precision2[:-1], index = all_thresh2).plot()"
   ]
  },
  {
   "cell_type": "code",
   "execution_count": 14,
   "metadata": {},
   "outputs": [
    {
     "name": "stdout",
     "output_type": "stream",
     "text": [
      "Recall as function of threshold:\n"
     ]
    },
    {
     "data": {
      "text/plain": [
       "<matplotlib.axes._subplots.AxesSubplot at 0x1ce540a7b38>"
      ]
     },
     "execution_count": 14,
     "metadata": {},
     "output_type": "execute_result"
    },
    {
     "data": {
      "image/png": "[encoded data removed]",
      "text/plain": [
       "<Figure size 432x288 with 1 Axes>"
      ]
     },
     "metadata": {},
     "output_type": "display_data"
    }
   ],
   "source": [
    "print(\"Recall as function of threshold:\")\n",
    "pandas.Series(all_recall2[:-1], index=all_thresh2).plot()"
   ]
  },
  {
   "cell_type": "code",
   "execution_count": 15,
   "metadata": {},
   "outputs": [
    {
     "name": "stdout",
     "output_type": "stream",
     "text": [
      "Recall as function of precision:\n"
     ]
    },
    {
     "data": {
      "text/plain": [
       "<matplotlib.axes._subplots.AxesSubplot at 0x1ce537d62b0>"
      ]
     },
     "execution_count": 15,
     "metadata": {},
     "output_type": "execute_result"
    },
    {
     "data": {
      "image/png": "[encoded data removed]",
      "text/plain": [
       "<Figure size 432x288 with 1 Axes>"
      ]
     },
     "metadata": {},
     "output_type": "display_data"
    }
   ],
   "source": [
    "print(\"Recall as function of precision:\")\n",
    "pandas.Series(all_recall2[:-1], index=all_precision2[:-1]).plot()"
   ]
  },
  {
   "cell_type": "code",
   "execution_count": 16,
   "metadata": {
    "scrolled": true
   },
   "outputs": [
    {
     "name": "stdout",
     "output_type": "stream",
     "text": [
      "Now the precision is 0.479406 and the recall is 0.153846\n"
     ]
    },
    {
     "data": {
      "text/plain": [
       "<matplotlib.axes._subplots.AxesSubplot at 0x1ce53a2a5c0>"
      ]
     },
     "execution_count": 16,
     "metadata": {},
     "output_type": "execute_result"
    },
    {
     "data": {
      "image/png": "[encoded data removed]",
      "text/plain": [
       "<Figure size 432x288 with 1 Axes>"
      ]
     },
     "metadata": {},
     "output_type": "display_data"
    }
   ],
   "source": [
    "from sklearn.naive_bayes import GaussianNB, BernoulliNB\n",
    "nb = GaussianNB().fit(X_train, D_train)\n",
    "prob3_train = nb.predict_proba(X_train)[:,1]\n",
    "pred3_train = prob3_train >0.5\n",
    "precision3 = precision_score(D_train, pred3_train)\n",
    "recall3 = recall_score(D_train,pred3_train)\n",
    "print(\"Now the precision is %f and the recall is %f\" % (precision3, recall3))\n",
    "all_precision3, all_recall3, all_thresh3 = precision_recall_curve(\n",
    "    D_train, prob3_train)\n",
    "pandas.Series(all_recall3[:-1], index=all_precision3[:-1]).plot()"
   ]
  },
  {
   "cell_type": "code",
   "execution_count": 17,
   "metadata": {},
   "outputs": [
    {
     "name": "stdout",
     "output_type": "stream",
     "text": [
      "INFO:tensorflow:Using default config.\n",
      "WARNING:tensorflow:Using temporary folder as model directory: C:\\Users\\MAGUIL~1\\AppData\\Local\\Temp\\tmpm2cy4tkk\n",
      "INFO:tensorflow:Using config: {'_model_dir': 'C:\\\\Users\\\\MAGUIL~1\\\\AppData\\\\Local\\\\Temp\\\\tmpm2cy4tkk', '_tf_random_seed': None, '_save_summary_steps': 100, '_save_checkpoints_steps': None, '_save_checkpoints_secs': 600, '_session_config': None, '_keep_checkpoint_max': 5, '_keep_checkpoint_every_n_hours': 10000, '_log_step_count_steps': 100, '_train_distribute': None, '_device_fn': None, '_service': None, '_cluster_spec': <tensorflow.python.training.server_lib.ClusterSpec object at 0x000001CE5354A2E8>, '_task_type': 'worker', '_task_id': 0, '_global_id_in_cluster': 0, '_master': '', '_evaluation_master': '', '_is_chief': True, '_num_ps_replicas': 0, '_num_worker_replicas': 1}\n",
      "INFO:tensorflow:Calling model_fn.\n",
      "INFO:tensorflow:Done calling model_fn.\n",
      "INFO:tensorflow:Create CheckpointSaverHook.\n",
      "INFO:tensorflow:Graph was finalized.\n",
      "INFO:tensorflow:Running local_init_op.\n",
      "INFO:tensorflow:Done running local_init_op.\n",
      "INFO:tensorflow:Saving checkpoints for 0 into C:\\Users\\MAGUIL~1\\AppData\\Local\\Temp\\tmpm2cy4tkk\\model.ckpt.\n",
      "INFO:tensorflow:loss = 2398.0, step = 0\n",
      "INFO:tensorflow:global_step/sec: 343.269\n",
      "INFO:tensorflow:loss = 273.11237, step = 100 (0.294 sec)\n",
      "INFO:tensorflow:global_step/sec: 594.603\n",
      "INFO:tensorflow:loss = 160.21545, step = 200 (0.166 sec)\n",
      "INFO:tensorflow:global_step/sec: 605.111\n",
      "INFO:tensorflow:loss = 130.05855, step = 300 (0.167 sec)\n",
      "INFO:tensorflow:global_step/sec: 634.413\n",
      "INFO:tensorflow:loss = 224.2761, step = 400 (0.156 sec)\n",
      "INFO:tensorflow:global_step/sec: 687.283\n",
      "INFO:tensorflow:loss = 185.90578, step = 500 (0.146 sec)\n",
      "INFO:tensorflow:global_step/sec: 592.997\n",
      "INFO:tensorflow:loss = 212.80853, step = 600 (0.171 sec)\n",
      "INFO:tensorflow:global_step/sec: 659.761\n",
      "INFO:tensorflow:loss = 167.64853, step = 700 (0.150 sec)\n",
      "INFO:tensorflow:global_step/sec: 611.189\n",
      "INFO:tensorflow:loss = 138.71132, step = 800 (0.166 sec)\n",
      "INFO:tensorflow:global_step/sec: 656.586\n",
      "INFO:tensorflow:loss = 191.27817, step = 900 (0.150 sec)\n",
      "INFO:tensorflow:global_step/sec: 614.53\n",
      "INFO:tensorflow:loss = 105.907745, step = 1000 (0.163 sec)\n",
      "INFO:tensorflow:global_step/sec: 681.637\n",
      "INFO:tensorflow:loss = 165.87334, step = 1100 (0.147 sec)\n",
      "INFO:tensorflow:global_step/sec: 596.966\n",
      "INFO:tensorflow:loss = 136.06259, step = 1200 (0.169 sec)\n",
      "INFO:tensorflow:global_step/sec: 643.918\n",
      "INFO:tensorflow:loss = 150.8606, step = 1300 (0.156 sec)\n",
      "INFO:tensorflow:global_step/sec: 650.017\n",
      "INFO:tensorflow:loss = 144.09389, step = 1400 (0.154 sec)\n",
      "INFO:tensorflow:global_step/sec: 625.849\n",
      "INFO:tensorflow:loss = 160.35567, step = 1500 (0.160 sec)\n",
      "INFO:tensorflow:global_step/sec: 644.348\n",
      "INFO:tensorflow:loss = 143.51266, step = 1600 (0.155 sec)\n",
      "INFO:tensorflow:global_step/sec: 639.473\n",
      "INFO:tensorflow:loss = 157.13164, step = 1700 (0.157 sec)\n",
      "INFO:tensorflow:global_step/sec: 717.429\n",
      "INFO:tensorflow:loss = 139.36226, step = 1800 (0.137 sec)\n",
      "INFO:tensorflow:global_step/sec: 626.639\n",
      "INFO:tensorflow:loss = 174.78369, step = 1900 (0.160 sec)\n",
      "INFO:tensorflow:global_step/sec: 579.26\n",
      "INFO:tensorflow:loss = 130.00075, step = 2000 (0.175 sec)\n",
      "INFO:tensorflow:global_step/sec: 672.838\n",
      "INFO:tensorflow:loss = 172.4248, step = 2100 (0.147 sec)\n",
      "INFO:tensorflow:global_step/sec: 668.765\n",
      "INFO:tensorflow:loss = 126.35982, step = 2200 (0.165 sec)\n",
      "INFO:tensorflow:global_step/sec: 587.082\n",
      "INFO:tensorflow:loss = 133.77467, step = 2300 (0.155 sec)\n",
      "INFO:tensorflow:global_step/sec: 622.865\n",
      "INFO:tensorflow:loss = 187.10489, step = 2400 (0.161 sec)\n",
      "INFO:tensorflow:global_step/sec: 621.884\n",
      "INFO:tensorflow:loss = 129.9621, step = 2500 (0.163 sec)\n",
      "INFO:tensorflow:global_step/sec: 649.308\n",
      "INFO:tensorflow:loss = 143.22879, step = 2600 (0.153 sec)\n",
      "INFO:tensorflow:global_step/sec: 669.425\n",
      "INFO:tensorflow:loss = 181.31201, step = 2700 (0.148 sec)\n",
      "INFO:tensorflow:global_step/sec: 614.403\n",
      "INFO:tensorflow:loss = 102.18406, step = 2800 (0.165 sec)\n",
      "INFO:tensorflow:global_step/sec: 651.723\n",
      "INFO:tensorflow:loss = 183.62686, step = 2900 (0.153 sec)\n",
      "INFO:tensorflow:global_step/sec: 640.67\n",
      "INFO:tensorflow:loss = 150.59607, step = 3000 (0.156 sec)\n",
      "INFO:tensorflow:global_step/sec: 635.593\n",
      "INFO:tensorflow:loss = 177.21492, step = 3100 (0.157 sec)\n",
      "INFO:tensorflow:global_step/sec: 640.278\n",
      "INFO:tensorflow:loss = 182.59549, step = 3200 (0.154 sec)\n",
      "INFO:tensorflow:global_step/sec: 624.791\n",
      "INFO:tensorflow:loss = 169.70218, step = 3300 (0.162 sec)\n",
      "INFO:tensorflow:global_step/sec: 629.807\n",
      "INFO:tensorflow:loss = 137.9519, step = 3400 (0.158 sec)\n",
      "INFO:tensorflow:global_step/sec: 701.135\n",
      "INFO:tensorflow:loss = 201.05196, step = 3500 (0.142 sec)\n",
      "INFO:tensorflow:global_step/sec: 599.549\n",
      "INFO:tensorflow:loss = 164.30042, step = 3600 (0.169 sec)\n",
      "INFO:tensorflow:global_step/sec: 643.703\n",
      "INFO:tensorflow:loss = 173.69798, step = 3700 (0.156 sec)\n",
      "INFO:tensorflow:global_step/sec: 639.815\n",
      "INFO:tensorflow:loss = 117.403694, step = 3800 (0.154 sec)\n",
      "INFO:tensorflow:global_step/sec: 732.411\n",
      "INFO:tensorflow:loss = 117.05148, step = 3900 (0.151 sec)\n",
      "INFO:tensorflow:global_step/sec: 580.459\n",
      "INFO:tensorflow:loss = 174.40619, step = 4000 (0.157 sec)\n",
      "INFO:tensorflow:global_step/sec: 645.805\n",
      "INFO:tensorflow:loss = 187.72572, step = 4100 (0.155 sec)\n",
      "INFO:tensorflow:global_step/sec: 621.233\n",
      "INFO:tensorflow:loss = 187.81046, step = 4200 (0.162 sec)\n",
      "INFO:tensorflow:global_step/sec: 632.694\n",
      "INFO:tensorflow:loss = 143.84357, step = 4300 (0.159 sec)\n",
      "INFO:tensorflow:global_step/sec: 633.172\n",
      "INFO:tensorflow:loss = 133.39197, step = 4400 (0.156 sec)\n",
      "INFO:tensorflow:global_step/sec: 609.651\n",
      "INFO:tensorflow:loss = 187.43752, step = 4500 (0.165 sec)\n",
      "INFO:tensorflow:global_step/sec: 675.139\n",
      "INFO:tensorflow:loss = 136.47736, step = 4600 (0.147 sec)\n",
      "INFO:tensorflow:global_step/sec: 586.528\n",
      "INFO:tensorflow:loss = 131.30386, step = 4700 (0.172 sec)\n",
      "INFO:tensorflow:global_step/sec: 623.526\n",
      "INFO:tensorflow:loss = 114.397705, step = 4800 (0.160 sec)\n",
      "INFO:tensorflow:global_step/sec: 613.7\n",
      "INFO:tensorflow:loss = 184.02837, step = 4900 (0.161 sec)\n",
      "INFO:tensorflow:Saving checkpoints for 5000 into C:\\Users\\MAGUIL~1\\AppData\\Local\\Temp\\tmpm2cy4tkk\\model.ckpt.\n",
      "INFO:tensorflow:Loss for final step: 141.8451.\n"
     ]
    },
    {
     "data": {
      "text/plain": [
       "<tensorflow.python.estimator.canned.linear.LinearRegressor at 0x1ce5396d588>"
      ]
     },
     "execution_count": 17,
     "metadata": {},
     "output_type": "execute_result"
    }
   ],
   "source": [
    "import tensorflow as tf\n",
    "feat_cols = [tf.feature_column.numeric_column(key=\"fpos\"),\n",
    "            tf.feature_column.numeric_column(key=\"fneg\")]\n",
    "model = tf.estimator.LinearRegressor(feature_columns =feat_cols)\n",
    "\n",
    "get_training_data = tf.estimator.inputs.numpy_input_fn(\n",
    "                        x={\"fpos\" : X_train[:,0], \"fneg\" : X_train[:,1]},\n",
    "                        y = Y_train, num_epochs = None, shuffle = True \n",
    "                        )\n",
    "\n",
    "model.train(input_fn = get_training_data, steps = 5000)"
   ]
  },
  {
   "cell_type": "code",
   "execution_count": null,
   "metadata": {},
   "outputs": [],
   "source": []
  },
  {
   "cell_type": "code",
   "execution_count": 18,
   "metadata": {},
   "outputs": [
    {
     "name": "stdout",
     "output_type": "stream",
     "text": [
      "INFO:tensorflow:Calling model_fn.\n",
      "INFO:tensorflow:Done calling model_fn.\n",
      "INFO:tensorflow:Graph was finalized.\n",
      "INFO:tensorflow:Restoring parameters from C:\\Users\\MAGUIL~1\\AppData\\Local\\Temp\\tmpm2cy4tkk\\model.ckpt-5000\n",
      "INFO:tensorflow:Running local_init_op.\n",
      "INFO:tensorflow:Done running local_init_op.\n",
      "The mean absolute error on the training data is 0.841767 stars\n"
     ]
    }
   ],
   "source": [
    "from sklearn.metrics import mean_absolute_error\n",
    "eval_training_data = tf.estimator.inputs.numpy_input_fn(\n",
    "                     x={\"fpos\":X_train[:,0], \"fneg\": X_train[:,1]},\n",
    "                     num_epochs=1, shuffle=False)\n",
    "pred_train_tf = numpy.array([item['predictions'][0] for item in \n",
    "                         model.predict(input_fn=eval_training_data)])\n",
    "mae_train_tf = mean_absolute_error(pred_train_tf, Y_train)\n",
    "print(\"The mean absolute error on the training data is %f stars\" \n",
    "      % mae_train_tf)"
   ]
  },
  {
   "cell_type": "markdown",
   "metadata": {},
   "source": [
    "# NLTK Built In Sentiment Analyzer"
   ]
  },
  {
   "cell_type": "code",
   "execution_count": 21,
   "metadata": {},
   "outputs": [
    {
     "name": "stdout",
     "output_type": "stream",
     "text": [
      "Sentence = This product wasn't bad.\n",
      "['this', 'product', 'was', \"n't\", 'bad_NEG', '.']\n",
      "Sentence = This is not a bad product.\n",
      "['this', 'is', 'not', 'a_NEG', 'bad_NEG', 'product_NEG', '.']\n",
      "Sentence = This product was bad.\n",
      "['this', 'product', 'was', 'bad', '.']\n",
      "Sentence = This is a bad product.\n",
      "['this', 'is', 'a', 'bad', 'product', '.']\n",
      "This is a wonderful toy that is fun, educational, and affordable! The cars are different colors, and each has a different number, 1 - 4, to help a child learn counting and colors. They also stack on top of each other and nest inside of each other.(The nesting feature is great for storage too). Each car has a neat fun feature for little ones to explore (e.g., the small car is also a rattle, the large fire truck's ladder moves, etc.) The cars are also very sturdy (as has been proven by my son repeatedly banging them together,) and they are easy for little hands to grab onto. At 6 months of age, my son really enjoys looking at the toys, passing them from one hand to the other, banging them together, and, of course, putting them in his mouth. I imagine this toy will remain one of my son's favorites as he learns to stack them and roll them on the floor. I would highly recommend this item.\n",
      "['wonderful', 'toy', 'fun', 'educational', 'affordable', 'cars', 'different', 'colors', 'different', 'number', 'help', 'child', 'learn', 'counting', 'colors', 'also', 'stack', 'top', 'nest', 'inside', 'nesting', 'feature', 'great', 'storage', 'car', 'neat', 'fun', 'feature', 'little', 'ones', 'explore', 'e.g.', 'small', 'car', 'also', 'rattle', 'large', 'fire', 'truck', \"'s\", 'ladder', 'moves', 'etc', 'cars', 'also', 'sturdy', 'proven', 'son', 'repeatedly', 'banging', 'together', 'easy', 'little', 'hands', 'grab', 'onto', 'months', 'age', 'son', 'really', 'enjoys', 'looking', 'toys', 'passing', 'one', 'hand', 'banging', 'together', 'course', 'putting', 'mouth', 'imagine', 'toy', 'remain', 'one', 'son', \"'s\", 'favorites', 'learns', 'stack', 'roll', 'floor', 'would', 'highly', 'recommend', 'item']\n"
     ]
    },
    {
     "name": "stderr",
     "output_type": "stream",
     "text": [
      "c:\\users\\maguileracanon\\appdata\\local\\programs\\python\\python36\\lib\\site-packages\\nltk\\twitter\\__init__.py:20: UserWarning: The twython library has not been installed. Some functionality from the twitter package will not be available.\n",
      "  warnings.warn(\"The twython library has not been installed. \"\n"
     ]
    }
   ],
   "source": [
    "\n",
    "from  nltk.sentiment  import SentimentAnalyzer\n",
    "from nltk.sentiment.util import mark_negation\n",
    "examples_negation = [\"This product wasn't bad.\",\n",
    "                     \"This is not a bad product.\",\n",
    "                     \"This product was bad.\",\n",
    "                     \"This is a bad product.\"]\n",
    "\n",
    "for sentence in examples_negation:\n",
    "    tokens_with_negation = mark_negation(word_tokenize(sentence.lower()))\n",
    "    print(\"Sentence =\", sentence)\n",
    "    print(tokens_with_negation)\n",
    "\n",
    "negated_stopwords = set(x+\"_NEG\" for x in eng_stopwords)\n",
    "all_stopwords = eng_stopwords.union(negated_stopwords)        # set union\n",
    "    \n",
    "def tokenize_with_negation(text):\n",
    "    # split text into lower-case tokens, removing all-punctuation tokens and stopwords\n",
    "    tokens = []\n",
    "    for sentence in sent_tokenize(text):\n",
    "        pretokens = word_tokenize(sentence.lower())\n",
    "        pretokens = [x for x in pretokens if any(i.isalpha() for i in x)]\n",
    "        pretokens = mark_negation(pretokens)\n",
    "        tokens.extend(x for x in pretokens if x not in all_stopwords)\n",
    "    return tokens\n",
    "\n",
    "print(baby_train[31]['reviewText'])\n",
    "print(tokenize_with_negation(baby_train[31]['reviewText']))"
   ]
  },
  {
   "cell_type": "code",
   "execution_count": 23,
   "metadata": {},
   "outputs": [
    {
     "name": "stdout",
     "output_type": "stream",
     "text": [
      "(0.8571428571428571, 0.0)\n",
      "(0.0, 0.8571428571428571)\n"
     ]
    }
   ],
   "source": [
    "\n",
    "all_positive_words  = positive_words.union({x+\"_NEG\" for x in negative_words})\n",
    "all_negative_words = negative_words.union({x+\"_NEG\" for x in positive_words})\n",
    "\n",
    "def pos_neg_fraction_with_negation(text):\n",
    "    tokens = tokenize_with_negation(text)\n",
    "    # count how many positive and negative words occur in the text\n",
    "    count_pos, count_neg = 0, 0\n",
    "    for t in tokens:\n",
    "        if t in all_positive_words:\n",
    "            count_pos += 1\n",
    "        if t in all_negative_words:\n",
    "            count_neg += 1\n",
    "    count_all = len(tokens)\n",
    "    if count_all != 0:\n",
    "        return count_pos/count_all, count_neg/count_all\n",
    "    else:  # avoid division by zero\n",
    "        return 0., 0.\n",
    "    \n",
    "pos_example = 'This is a good, great, fantastic, amazing, wonderful, super product!!!'\n",
    "neg_example = 'This is a bad, atrocious, terrible, dreadful, awful, abysmal product!!!'\n",
    "print(pos_neg_fraction_with_negation(pos_example))\n",
    "print(pos_neg_fraction_with_negation(neg_example))"
   ]
  },
  {
   "cell_type": "code",
   "execution_count": 24,
   "metadata": {},
   "outputs": [
    {
     "name": "stdout",
     "output_type": "stream",
     "text": [
      "(0.0, 0.8571428571428571)\n",
      "(0.8571428571428571, 0.0)\n"
     ]
    }
   ],
   "source": [
    "pos_example_neg = 'This is not a good, great, fantastic, amazing, wonderful, super product!!!'\n",
    "neg_example_neg = 'This is not a bad, atrocious, terrible, dreadful, awful, abysmal product!!!'\n",
    "print(pos_neg_fraction_with_negation(pos_example_neg))\n",
    "print(pos_neg_fraction_with_negation(neg_example_neg))"
   ]
  },
  {
   "cell_type": "code",
   "execution_count": 25,
   "metadata": {},
   "outputs": [],
   "source": [
    "def dataset_to_matrix_with_neg(data):\n",
    "    return numpy.array([list(pos_neg_fraction_with_negation(item['reviewText'])) for item in data])\n",
    "\n",
    "X_train_neg = dataset_to_matrix_with_neg(baby_train)"
   ]
  },
  {
   "cell_type": "code",
   "execution_count": 27,
   "metadata": {},
   "outputs": [
    {
     "name": "stdout",
     "output_type": "stream",
     "text": [
      "Now the mean absolute error on the training data is 0.813047 stars\n"
     ]
    }
   ],
   "source": [
    "from sklearn.linear_model import LinearRegression\n",
    "lreg_neg = LinearRegression().fit(X_train_neg, Y_train)\n",
    "pred_train_neg = lreg_neg.predict(X_train_neg)\n",
    "mae_train_with_neg = mean_absolute_error(pred_train_neg, Y_train)\n",
    "print(\"Now the mean absolute error on the training data is %f stars\" % mae_train_with_neg)"
   ]
  },
  {
   "cell_type": "markdown",
   "metadata": {},
   "source": [
    "# Random Forest"
   ]
  },
  {
   "cell_type": "code",
   "execution_count": 29,
   "metadata": {},
   "outputs": [
    {
     "name": "stdout",
     "output_type": "stream",
     "text": [
      "A nonlinear regressor achieves a MAE of 0.713325 stars\n"
     ]
    }
   ],
   "source": [
    "from sklearn.ensemble import RandomForestRegressor\n",
    "rf_neg = RandomForestRegressor().fit(X_train_neg,Y_train)\n",
    "pred_train_rf_neg = rf_neg.predict(X_train_neg)\n",
    "mae_train_rf_neg = mean_absolute_error(pred_train_rf_neg, Y_train)\n",
    "print(\"A nonlinear regressor achieves a MAE of %f stars\" % mae_train_rf_neg)"
   ]
  },
  {
   "cell_type": "code",
   "execution_count": 30,
   "metadata": {},
   "outputs": [
    {
     "data": {
      "text/plain": [
       "\"I really like this stroller. It's smooth and so light. We were still using our travel system stroller. My son loves going for walks in this one.Pros:Easy to steerComfy for childGreat cup holder/zipper pouchHas a basketHigher handles5 point harnessThe straps are easy to adjustCons:The recline is kind of cheap and odd to use. It's a set of small ropes that you slide a plastic thing on to adjust.. You only have sitting up and a very slight recline.The basket is not easily accessible. The opening is narrow because of the bars.The crotch strap is way too close to the back of the seat rather than the front. I had to make it as loose as it can go, but it's still underneath my son. I don't like that at all, and it seems as he gets bigger it will be even more uncomfortable for him.\""
      ]
     },
     "execution_count": 30,
     "metadata": {},
     "output_type": "execute_result"
    }
   ],
   "source": [
    "baby_train[50000]['reviewText']"
   ]
  },
  {
   "cell_type": "code",
   "execution_count": 36,
   "metadata": {},
   "outputs": [
    {
     "name": "stdout",
     "output_type": "stream",
     "text": [
      "I really like this stroller.\n",
      "{'neg': 0.0, 'neu': 0.518, 'pos': 0.482, 'compound': 0.4201}\n",
      "It's smooth and so light.\n",
      "{'neg': 0.0, 'neu': 1.0, 'pos': 0.0, 'compound': 0.0}\n",
      "We were still using our travel system stroller.\n",
      "{'neg': 0.0, 'neu': 1.0, 'pos': 0.0, 'compound': 0.0}\n",
      "My son loves going for walks in this one.Pros:Easy to steerComfy for childGreat cup holder/zipper pouchHas a basketHigher handles5 point harnessThe straps are easy to adjustCons:The recline is kind of cheap and odd to use.\n",
      "{'neg': 0.058, 'neu': 0.777, 'pos': 0.165, 'compound': 0.6486}\n",
      "It's a set of small ropes that you slide a plastic thing on to adjust.. You only have sitting up and a very slight recline.The basket is not easily accessible.\n",
      "{'neg': 0.073, 'neu': 0.927, 'pos': 0.0, 'compound': -0.2584}\n",
      "The opening is narrow because of the bars.The crotch strap is way too close to the back of the seat rather than the front.\n",
      "{'neg': 0.0, 'neu': 1.0, 'pos': 0.0, 'compound': 0.0}\n",
      "I had to make it as loose as it can go, but it's still underneath my son.\n",
      "{'neg': 0.099, 'neu': 0.901, 'pos': 0.0, 'compound': -0.1655}\n",
      "I don't like that at all, and it seems as he gets bigger it will be even more uncomfortable for him.\n",
      "{'neg': 0.217, 'neu': 0.783, 'pos': 0.0, 'compound': -0.6128}\n"
     ]
    }
   ],
   "source": [
    "from nltk.sentiment.vader import SentimentIntensityAnalyzer\n",
    "sia= SentimentIntensityAnalyzer()\n",
    "text = baby_train[50000]['reviewText']\n",
    "for s in sent_tokenize(text):\n",
    "    print(s)\n",
    "    print(sia.polarity_scores(s))\n",
    "    "
   ]
  },
  {
   "cell_type": "markdown",
   "metadata": {},
   "source": [
    "what is compound?"
   ]
  },
  {
   "cell_type": "code",
   "execution_count": 41,
   "metadata": {},
   "outputs": [],
   "source": [
    "def sia_features(dataset):\n",
    "    '''\n",
    "    For each review text in the dataset, extract: \n",
    "    (1) mean positive sentiment over all sentences\n",
    "    (2) mean neutral sentiment over all sentences\n",
    "    (3) mean negative sentiment over all  sentences\n",
    "    (4) maximum postive sentiment over all sentences\n",
    "    (5) maximum neutral sentiment over all sentences\n",
    "    (6) maximum negative sentiment over al sentences \n",
    "'''\n",
    "    feat_matrix = numpy.empty((len(dataset),6))\n",
    "    for i in range(len(dataset)):\n",
    "        sentences = sent_tokenize(dataset[i]['reviewText'])\n",
    "        nsent = len(sentences)\n",
    "        if nsent:\n",
    "            sentences_polarities = numpy.empty((nsent,3))\n",
    "            for j in range(nsent):\n",
    "                polarity = sia.polarity_scores(sentences[j])\n",
    "                sentences_polarities[j,0] = polarity['pos']\n",
    "                sentences_polarities[j,1] = polarity['neu']\n",
    "                sentences_polarities[j,2] = polarity['neg']\n",
    "            feat_matrix[i, 0:3] = numpy.mean(sentences_polarities, axis = 0) #axis 0 is row, axis 1 is columns\n",
    "            feat_matrix[i,3:6] = numpy.max(sentences_polarities, axis = 0)\n",
    "        else:\n",
    "            feat_matrix[i, 0:6] = 0.0\n",
    "            \n",
    "    return feat_matrix\n",
    "            \n",
    "sia_tr = sia_features(baby_train)\n"
   ]
  },
  {
   "cell_type": "code",
   "execution_count": 42,
   "metadata": {},
   "outputs": [
    {
     "name": "stdout",
     "output_type": "stream",
     "text": [
      "[[0.23533333 0.76466667 0.         0.552      1.         0.        ]\n",
      " [0.03833333 0.84266667 0.119      0.115      1.         0.357     ]\n",
      " [0.172      0.8174     0.0106     0.398      1.         0.053     ]\n",
      " ...\n",
      " [0.309      0.691      0.         0.309      0.691      0.        ]\n",
      " [0.2732     0.7268     0.         0.497      1.         0.        ]\n",
      " [0.22825    0.7155     0.05625    0.672      1.         0.225     ]]\n"
     ]
    }
   ],
   "source": [
    "print(sia_tr)"
   ]
  },
  {
   "cell_type": "code",
   "execution_count": null,
   "metadata": {},
   "outputs": [],
   "source": [
    "def len_features(dataset):\n",
    "    '''\n",
    "    Add two features:\n",
    "    (1) lenght of review (in thousands of characters) - truncate at 2500\n",
    "    (2) percengate of exclamation marks (in 5)    \n",
    "    '''\n",
    "len_tr = len_features(baby_train)"
   ]
  },
  {
   "cell_type": "code",
   "execution_count": 45,
   "metadata": {},
   "outputs": [
    {
     "name": "stdout",
     "output_type": "stream",
     "text": [
      "(96696, 2) (96696, 6)\n"
     ]
    }
   ],
   "source": [
    "print(X_train_neg.shape, sia_tr.shape)"
   ]
  },
  {
   "cell_type": "code",
   "execution_count": 48,
   "metadata": {},
   "outputs": [
    {
     "name": "stdout",
     "output_type": "stream",
     "text": [
      "Now the mean absolute error on the training data is 0.756362 starts\n"
     ]
    }
   ],
   "source": [
    "# stack horizontally \n",
    "X_train_augmented = numpy.concatenate(( X_train_neg, sia_tr) ,axis = 1)\n",
    "lreg_augmented = LinearRegression().fit(X_train_augmented,Y_train)\n",
    "pred_train_augmented = lreg_augmented.predict(X_train_augmented)\n",
    "mean_train_augmented = mean_absolute_error(pred_train_augmented, Y_train)\n",
    "print(\"Now the mean absolute error on the training data is %f starts\" % mean_train_augmented)"
   ]
  },
  {
   "cell_type": "code",
   "execution_count": 49,
   "metadata": {},
   "outputs": [
    {
     "name": "stdout",
     "output_type": "stream",
     "text": [
      "For the RF, MAE is 0.292731 stars\n"
     ]
    }
   ],
   "source": [
    "# random forest\n",
    "rf_augmented = RandomForestRegressor().fit(X_train_augmented, Y_train)\n",
    "rfpred_train_augmented = rf_augmented.predict(X_train_augmented)\n",
    "mae_train_rf_augmented = mean_absolute_error(rfpred_train_augmented, Y_train)\n",
    "print(\"For the RF, MAE is %f stars\" % mae_train_rf_augmented)"
   ]
  },
  {
   "cell_type": "markdown",
   "metadata": {},
   "source": [
    "Now we vlaidation data"
   ]
  },
  {
   "cell_type": "code",
   "execution_count": null,
   "metadata": {},
   "outputs": [],
   "source": [
    "X_valid_neg = dataset_to_matrix(baby_valid)\n",
    "sia_valid = sia_features(baby_valid)\n",
    "#leng_valid\n",
    "X_valid_augmented = numpy.concatenate((X_valid_neg,sia_valid), axis = 1)\n",
    "pred_valid_augmented = lreg_augmented.predict(X_valid_augmented)\n",
    "pred_valid_rf_augmented = rf\n",
    "mae_valid_augmented = \n",
    "mae_valid_rfaugemented = "
   ]
  }
 ],
 "metadata": {
  "kernelspec": {
   "display_name": "Python 3",
   "language": "python",
   "name": "python3"
  },
  "language_info": {
   "codemirror_mode": {
    "name": "ipython",
    "version": 3
   },
   "file_extension": ".py",
   "mimetype": "text/x-python",
   "name": "python",
   "nbconvert_exporter": "python",
   "pygments_lexer": "ipython3",
   "version": "3.6.2"
  }
 },
 "nbformat": 4,
 "nbformat_minor": 2
}
