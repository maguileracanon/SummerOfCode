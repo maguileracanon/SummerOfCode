{
 "cells": [
  {
   "cell_type": "code",
   "execution_count": 1,
   "metadata": {},
   "outputs": [
    {
     "name": "stdout",
     "output_type": "stream",
     "text": [
      "Dataset Baby has already been downloaded to ./data/\n"
     ]
    }
   ],
   "source": [
    "%matplotlib inline\n",
    "datadir = './data/'\n",
    "\n",
    "import urllib.request, os, gzip\n",
    "\n",
    "def download_data(dataset_name, datadir):\n",
    "    filename = 'reviews_%s_5.json' % dataset_name\n",
    "    filepath = os.path.join(datadir, filename)\n",
    "    if os.path.exists(filepath):\n",
    "        print(\"Dataset %s has already been downloaded to %s\" % (dataset_name, datadir))\n",
    "    else:\n",
    "        url = 'http://snap.stanford.edu/data/amazon/productGraph/categoryFiles/%s.gz' % filename\n",
    "        urllib.request.urlretrieve(url, filepath + \".gz\")\n",
    "        with gzip.open(filepath + \".gz\", 'rb') as fin:\n",
    "            with open(filepath, 'wb') as fout:\n",
    "                fout.write(fin.read())\n",
    "        print(\"Downloaded dataset %s and saved it to %s\" % (dataset_name, datadir))\n",
    "\n",
    "dataset = \"Baby\"\n",
    "download_data(dataset, datadir)"
   ]
  },
  {
   "cell_type": "code",
   "execution_count": 2,
   "metadata": {},
   "outputs": [
    {
     "name": "stdout",
     "output_type": "stream",
     "text": [
      "Loaded 160792 data for dataset Baby\n"
     ]
    }
   ],
   "source": [
    "import  json\n",
    "\n",
    "def  load_data (dataset_name, datadir):\n",
    "    filepath = os.path.join(datadir, 'reviews_%s_5.json' % dataset_name)\n",
    "    if not os.path.exists(filepath):\n",
    "        download_data(dataset_name, datadir)\n",
    "    data = []\n",
    "    with open(filepath, 'r') as f:\n",
    "        for line in f:                            # read file line by line\n",
    "            item_hash = hash(line)                # we will use this later for partitioning our data \n",
    "            item = json.loads(line)               # convert JSON string to Python dict\n",
    "            item['hash'] = item_hash              # add hash for identification purposes\n",
    "            data.append(item)\n",
    "    print(\"Loaded %d data for dataset %s\" % (len(data), dataset_name))\n",
    "    return data\n",
    "\n",
    "# load the data...\n",
    "baby = load_data(dataset, datadir)\n"
   ]
  },
  {
   "cell_type": "code",
   "execution_count": 3,
   "metadata": {},
   "outputs": [],
   "source": [
    "def partition_train_validation_test(data):\n",
    "    # 60% : modulus is 0, 1, 2, 3, 4, or 5\n",
    "    data_train = [item for item in data if item['hash']%10<=5]  \n",
    "    # 20% : modulus is 6 or 7\n",
    "    data_valid = [item for item in data if item['hash']%10 in [6,7]] \n",
    "    # 20% : modulus is 8 or 9\n",
    "    data_test  = [item for item in data if item['hash']%10 in [8,9]] \n",
    "    return data_train, data_valid, data_test\n",
    "    \n",
    "baby_train, baby_valid, baby_test = partition_train_validation_test(baby)\n"
   ]
  },
  {
   "cell_type": "code",
   "execution_count": 4,
   "metadata": {},
   "outputs": [
    {
     "name": "stdout",
     "output_type": "stream",
     "text": [
      "Some positive words: proactive, solidarity, stronger, winners, intelligible, novelty, exceeding, trophy, calm, evocative\n",
      "Some negative words: deficiency, unnerve, delusional, negligent, overzealously, gawk, punk, arduously, fastidious, mindless\n"
     ]
    }
   ],
   "source": [
    "from  nltk.corpus  import opinion_lexicon\n",
    "positive_words = set(opinion_lexicon.positive())\n",
    "negative_words = set(opinion_lexicon.negative())\n",
    "\n",
    "import random\n",
    "random.seed(1234)\n",
    "print(\"Some positive words:\", \", \".join(random.sample(positive_words, 10)))\n",
    "print(\"Some negative words:\", \", \".join(random.sample(negative_words, 10)))\n"
   ]
  },
  {
   "cell_type": "code",
   "execution_count": 5,
   "metadata": {},
   "outputs": [
    {
     "name": "stdout",
     "output_type": "stream",
     "text": [
      "(0.8571428571428571, 0.0)\n",
      "(0.0, 0.8571428571428571)\n"
     ]
    }
   ],
   "source": [
    "from nltk.corpus import stopwords\n",
    "from nltk.tokenize import sent_tokenize, word_tokenize\n",
    "eng_stopwords = set(stopwords.words('english'))\n",
    "\n",
    "def my_tokenize(text):\n",
    "    # split text into lower-case tokens, removing all-punctuation tokens and stopwords\n",
    "    tokens = []\n",
    "    for sentence in sent_tokenize(text):\n",
    "        tokens.extend(x for x in word_tokenize(sentence.lower()) \n",
    "                      if x not in eng_stopwords and any(i.isalpha() for i in x))\n",
    "    return tokens\n",
    "\n",
    "def pos_neg_fraction(text):\n",
    "    tokens = my_tokenize(text)\n",
    "    count_pos, count_neg = 0, 0\n",
    "    for t in tokens:\n",
    "        if t in positive_words:\n",
    "            count_pos += 1\n",
    "        if t in negative_words:\n",
    "            count_neg += 1\n",
    "    count_all = len(tokens)\n",
    "    if count_all != 0:\n",
    "        return count_pos/count_all, count_neg/count_all\n",
    "    else:\n",
    "        return 0., 0.\n",
    "    \n",
    "pos_example = 'This is a good, great, fantastic, amazing, wonderful, super product!!!'\n",
    "neg_example = 'This is a bad, atrocious, terrible, dreadful, awful, abysmal product!!!'\n",
    "print(pos_neg_fraction(pos_example))\n",
    "print(pos_neg_fraction(neg_example))"
   ]
  },
  {
   "cell_type": "code",
   "execution_count": 6,
   "metadata": {},
   "outputs": [
    {
     "name": "stdout",
     "output_type": "stream",
     "text": [
      "We found a fraction of 100.000000 % positive words for example 5894\n",
      "{'reviewerID': 'AKU0ZZ3IEZW42', 'asin': 'B0001BUKA8', 'helpful': [0, 0], 'reviewText': 'useful peace', 'overall': 5.0, 'summary': 'Five Stars', 'unixReviewTime': 1405382400, 'reviewTime': '07 15, 2014', 'hash': 8143300967346285803}\n",
      "We found a fraction of 100.000000 % negative words for example 32016\n",
      "{'reviewerID': 'A21QYR34ZVII0P', 'asin': 'B001CJKE40', 'reviewerName': 'Imelda', 'helpful': [0, 0], 'reviewText': 'Useless...', 'overall': 2.0, 'summary': 'Two Stars', 'unixReviewTime': 1404518400, 'reviewTime': '07 5, 2014', 'hash': -7394705115583839219}\n"
     ]
    }
   ],
   "source": [
    "import numpy\n",
    "\n",
    "def dataset_to_matrix(data):\n",
    "    return numpy.array([list(pos_neg_fraction(item['reviewText'])) for item in data])\n",
    "\n",
    "X_train = dataset_to_matrix(baby_train) # We use only the train part\n",
    "most_pos, most_neg = numpy.argmax(X_train, axis=0)\n",
    "# print the example with the highest fraction of positive words:\n",
    "print(\"We found a fraction of %f %% positive words for example %d\" % \n",
    "      (100.*X_train[most_pos, 0], most_pos))\n",
    "print(baby_train[most_pos])\n",
    "print(\"We found a fraction of %f %% negative words for example %d\" %\n",
    "      (100.*X_train[most_neg, 1], most_neg))\n",
    "print(baby_train[most_neg])"
   ]
  },
  {
   "cell_type": "code",
   "execution_count": 7,
   "metadata": {},
   "outputs": [
    {
     "name": "stdout",
     "output_type": "stream",
     "text": [
      "Our feature matrix is two-dimensional and has shape (96755, 2)\n",
      "Our target vector is one-dimensional and has shape (96755,)\n"
     ]
    }
   ],
   "source": [
    "def dataset_to_targets(data):\n",
    "    return numpy.array([item['overall'] for item in data])\n",
    "\n",
    "Y_train = dataset_to_targets(baby_train)\n",
    "print(\"Our feature matrix is two-dimensional and has shape\", X_train.shape)\n",
    "print(\"Our target vector is one-dimensional and has shape\", Y_train.shape)"
   ]
  },
  {
   "cell_type": "markdown",
   "metadata": {},
   "source": [
    " D_train that is true if the customer is **dissatisfied** (1, 2 or 3 stars), and false if the customer is satisfied (4 stars or better):"
   ]
  },
  {
   "cell_type": "code",
   "execution_count": 8,
   "metadata": {},
   "outputs": [
    {
     "name": "stdout",
     "output_type": "stream",
     "text": [
      "The training data contains 21.288822 % dissatisfied customers\n"
     ]
    }
   ],
   "source": [
    "def discretize_targets(Y):\n",
    "    return Y<=3.0\n",
    "\n",
    "D_train = discretize_targets(Y_train)\n",
    "print(\"The training data contains %f %% dissatisfied customers\" % (100.*D_train.mean()))\n"
   ]
  },
  {
   "cell_type": "code",
   "execution_count": 9,
   "metadata": {},
   "outputs": [
    {
     "data": {
      "text/plain": [
       "<matplotlib.axes._subplots.AxesSubplot at 0x23b9ec9cb38>"
      ]
     },
     "execution_count": 9,
     "metadata": {},
     "output_type": "execute_result"
    },
    {
     "data": {
      "image/png": "[encoded data removed]",
      "text/plain": [
       "<Figure size 432x288 with 1 Axes>"
      ]
     },
     "metadata": {},
     "output_type": "display_data"
    }
   ],
   "source": [
    "import pandas\n",
    "points = numpy.linspace(-6.0, 6.0)\n",
    "logistic_function = pandas.Series(1/(numpy.exp(-points)+1), index=points)\n",
    "logistic_function.plot()"
   ]
  },
  {
   "cell_type": "code",
   "execution_count": 10,
   "metadata": {},
   "outputs": [
    {
     "name": "stdout",
     "output_type": "stream",
     "text": [
      "Training example number 32016\n",
      "True rating 2.000000 stars\n",
      "Expected to be dissatisfied: True\n",
      "Expected probability of being dissatisfied : 0.999862\n",
      "Features = 0.000000 / 1.000000\n",
      "Review text = Useless...\n"
     ]
    }
   ],
   "source": [
    "from sklearn.linear_model import LogisticRegression\n",
    "\n",
    "logreg= LogisticRegression().fit(X_train,D_train)\n",
    "\n",
    "#The predict_proba() method produces a matrix with two columns\n",
    "#the first column contains the probaolity for the label being \"fals\"\"(satisfied costumer)\n",
    "# the second column contains the probability for the label being \"true\" (dissatisfied customer)\n",
    "# the sum of both columns is 1\n",
    "#we select the second column with [:,1]\n",
    "# [:,0] would select the first column\n",
    "#[1,:] would select the second row\n",
    "\n",
    "prob2_train = logreg.predict_proba(X_train)[:,1]\n",
    "pred2_train = prob2_train > 0.5 # esto es un bool que da true o false\n",
    "max_prob2 = numpy.argmax(prob2_train) # to test\n",
    "min_prob2= numpy.argmin(prob2_train) # to test\n",
    "\n",
    "def analyze_training_example_2(i):\n",
    "    print(\"Training example number\",i)\n",
    "    print(\"True rating %f stars\" %Y_train[i])\n",
    "    print(\"Expected to be dissatisfied:\", pred2_train[i])\n",
    "    print(\"Expected probability of being dissatisfied : %f\" % prob2_train[i])\n",
    "    print(\"Features = %f / %f\" % (X_train[i,0], X_train[i,1]))\n",
    "    print(\"Review text = %s\" % baby_train[i]['reviewText'])\n",
    "    \n",
    "analyze_training_example_2(max_prob2)"
   ]
  },
  {
   "cell_type": "code",
   "execution_count": 11,
   "metadata": {},
   "outputs": [
    {
     "name": "stdout",
     "output_type": "stream",
     "text": [
      "Training example number 5894\n",
      "True rating 5.000000 stars\n",
      "Expected to be dissatisfied: False\n",
      "Expected probability of being dissatisfied : 0.000037\n",
      "Features = 1.000000 / 0.000000\n",
      "Review text = useful peace\n"
     ]
    }
   ],
   "source": [
    "analyze_training_example_2(min_prob2)"
   ]
  },
  {
   "cell_type": "code",
   "execution_count": 12,
   "metadata": {},
   "outputs": [
    {
     "name": "stdout",
     "output_type": "stream",
     "text": [
      "For the default threshold (0.5) we get precision = 0.600246 and recall = 0.094621\n"
     ]
    }
   ],
   "source": [
    "# Recall.. how many (%) dissatisfied custumers did we identified as dissatisfed\n",
    "#Precision... of all the identified as \"dissatisfied\", which porcetage was actually dissatisfied\n",
    "from sklearn.metrics import precision_score, recall_score\n",
    "precision2 = precision_score(D_train,pred2_train)\n",
    "recall2 = recall_score(D_train,pred2_train)\n",
    "print(\"For the default threshold (0.5) we get precision = %f \"\n",
    "      \"and recall = %f\" % (precision2, recall2))"
   ]
  },
  {
   "cell_type": "markdown",
   "metadata": {},
   "source": [
    "60% of the ones we said were not satisfied were dissatisfied ( so actually around 40% were sattisfied)\n",
    "10%  of the dissatisfied costumers were correctly labled by our algorithm (we left almost 90% out)"
   ]
  },
  {
   "cell_type": "code",
   "execution_count": 13,
   "metadata": {},
   "outputs": [
    {
     "name": "stdout",
     "output_type": "stream",
     "text": [
      "Precision as function of threshold: \n"
     ]
    },
    {
     "data": {
      "text/plain": [
       "<matplotlib.axes._subplots.AxesSubplot at 0x23b9e33f780>"
      ]
     },
     "execution_count": 13,
     "metadata": {},
     "output_type": "execute_result"
    },
    {
     "data": {
      "image/png": "[encoded data removed]",
      "text/plain": [
       "<Figure size 432x288 with 1 Axes>"
      ]
     },
     "metadata": {},
     "output_type": "display_data"
    }
   ],
   "source": [
    "from sklearn.metrics import precision_recall_curve\n",
    "all_precision2, all_recall2, all_thresh2 = precision_recall_curve(\n",
    "    D_train, prob2_train)\n",
    "print(\"Precision as function of threshold: \")\n",
    "pandas.Series(all_precision2[:-1], index = all_thresh2).plot()"
   ]
  },
  {
   "cell_type": "code",
   "execution_count": 14,
   "metadata": {},
   "outputs": [
    {
     "name": "stdout",
     "output_type": "stream",
     "text": [
      "Recall as function of threshold:\n"
     ]
    },
    {
     "data": {
      "text/plain": [
       "<matplotlib.axes._subplots.AxesSubplot at 0x23b9f27a588>"
      ]
     },
     "execution_count": 14,
     "metadata": {},
     "output_type": "execute_result"
    },
    {
     "data": {
      "image/png": "[encoded data removed]",
      "text/plain": [
       "<Figure size 432x288 with 1 Axes>"
      ]
     },
     "metadata": {},
     "output_type": "display_data"
    }
   ],
   "source": [
    "print(\"Recall as function of threshold:\")\n",
    "pandas.Series(all_recall2[:-1], index=all_thresh2).plot()"
   ]
  },
  {
   "cell_type": "code",
   "execution_count": 15,
   "metadata": {},
   "outputs": [
    {
     "name": "stdout",
     "output_type": "stream",
     "text": [
      "Recall as function of precision:\n"
     ]
    },
    {
     "data": {
      "text/plain": [
       "<matplotlib.axes._subplots.AxesSubplot at 0x23b9e728208>"
      ]
     },
     "execution_count": 15,
     "metadata": {},
     "output_type": "execute_result"
    },
    {
     "data": {
      "image/png": "[encoded data removed]",
      "text/plain": [
       "<Figure size 432x288 with 1 Axes>"
      ]
     },
     "metadata": {},
     "output_type": "display_data"
    }
   ],
   "source": [
    "print(\"Recall as function of precision:\")\n",
    "pandas.Series(all_recall2[:-1], index=all_precision2[:-1]).plot()"
   ]
  },
  {
   "cell_type": "code",
   "execution_count": 16,
   "metadata": {
    "scrolled": true
   },
   "outputs": [
    {
     "name": "stdout",
     "output_type": "stream",
     "text": [
      "Now the precision is 0.486217 and the recall is 0.154141\n"
     ]
    },
    {
     "data": {
      "text/plain": [
       "<matplotlib.axes._subplots.AxesSubplot at 0x23b9e9239b0>"
      ]
     },
     "execution_count": 16,
     "metadata": {},
     "output_type": "execute_result"
    },
    {
     "data": {
      "image/png": "[encoded data removed]",
      "text/plain": [
       "<Figure size 432x288 with 1 Axes>"
      ]
     },
     "metadata": {},
     "output_type": "display_data"
    }
   ],
   "source": [
    "from sklearn.naive_bayes import GaussianNB, BernoulliNB\n",
    "nb = GaussianNB().fit(X_train, D_train)\n",
    "prob3_train = nb.predict_proba(X_train)[:,1]\n",
    "pred3_train = prob3_train >0.5\n",
    "precision3 = precision_score(D_train, pred3_train)\n",
    "recall3 = recall_score(D_train,pred3_train)\n",
    "print(\"Now the precision is %f and the recall is %f\" % (precision3, recall3))\n",
    "all_precision3, all_recall3, all_thresh3 = precision_recall_curve(\n",
    "    D_train, prob3_train)\n",
    "pandas.Series(all_recall3[:-1], index=all_precision3[:-1]).plot()"
   ]
  },
  {
   "cell_type": "code",
   "execution_count": 19,
   "metadata": {},
   "outputs": [
    {
     "name": "stdout",
     "output_type": "stream",
     "text": [
      "INFO:tensorflow:Using default config.\n",
      "WARNING:tensorflow:Using temporary folder as model directory: C:\\Users\\MAGUIL~1\\AppData\\Local\\Temp\\tmp27utl1i2\n",
      "INFO:tensorflow:Using config: {'_model_dir': 'C:\\\\Users\\\\MAGUIL~1\\\\AppData\\\\Local\\\\Temp\\\\tmp27utl1i2', '_tf_random_seed': None, '_save_summary_steps': 100, '_save_checkpoints_steps': None, '_save_checkpoints_secs': 600, '_session_config': None, '_keep_checkpoint_max': 5, '_keep_checkpoint_every_n_hours': 10000, '_log_step_count_steps': 100, '_train_distribute': None, '_device_fn': None, '_service': None, '_cluster_spec': <tensorflow.python.training.server_lib.ClusterSpec object at 0x0000023BF0D8A630>, '_task_type': 'worker', '_task_id': 0, '_global_id_in_cluster': 0, '_master': '', '_evaluation_master': '', '_is_chief': True, '_num_ps_replicas': 0, '_num_worker_replicas': 1}\n",
      "INFO:tensorflow:Calling model_fn.\n",
      "INFO:tensorflow:Done calling model_fn.\n",
      "INFO:tensorflow:Create CheckpointSaverHook.\n",
      "INFO:tensorflow:Graph was finalized.\n",
      "INFO:tensorflow:Running local_init_op.\n",
      "INFO:tensorflow:Done running local_init_op.\n",
      "INFO:tensorflow:Saving checkpoints for 0 into C:\\Users\\MAGUIL~1\\AppData\\Local\\Temp\\tmp27utl1i2\\model.ckpt.\n",
      "INFO:tensorflow:loss = 2490.0, step = 0\n",
      "INFO:tensorflow:global_step/sec: 290.149\n",
      "INFO:tensorflow:loss = 287.3251, step = 100 (0.345 sec)\n",
      "INFO:tensorflow:global_step/sec: 424.619\n",
      "INFO:tensorflow:loss = 198.17036, step = 200 (0.236 sec)\n",
      "INFO:tensorflow:global_step/sec: 564.275\n",
      "INFO:tensorflow:loss = 124.738785, step = 300 (0.177 sec)\n",
      "INFO:tensorflow:global_step/sec: 604.113\n",
      "INFO:tensorflow:loss = 185.49275, step = 400 (0.166 sec)\n",
      "INFO:tensorflow:global_step/sec: 593.726\n",
      "INFO:tensorflow:loss = 133.43785, step = 500 (0.169 sec)\n",
      "INFO:tensorflow:global_step/sec: 641.681\n",
      "INFO:tensorflow:loss = 185.04411, step = 600 (0.157 sec)\n",
      "INFO:tensorflow:global_step/sec: 635.979\n",
      "INFO:tensorflow:loss = 130.6795, step = 700 (0.155 sec)\n",
      "INFO:tensorflow:global_step/sec: 655.751\n",
      "INFO:tensorflow:loss = 133.94322, step = 800 (0.152 sec)\n",
      "INFO:tensorflow:global_step/sec: 679.592\n",
      "INFO:tensorflow:loss = 142.69418, step = 900 (0.147 sec)\n",
      "INFO:tensorflow:global_step/sec: 596.274\n",
      "INFO:tensorflow:loss = 122.494965, step = 1000 (0.168 sec)\n",
      "INFO:tensorflow:global_step/sec: 702.508\n",
      "INFO:tensorflow:loss = 161.32622, step = 1100 (0.142 sec)\n",
      "INFO:tensorflow:global_step/sec: 631.6\n",
      "INFO:tensorflow:loss = 171.90378, step = 1200 (0.158 sec)\n",
      "INFO:tensorflow:global_step/sec: 694.478\n",
      "INFO:tensorflow:loss = 148.33136, step = 1300 (0.160 sec)\n",
      "INFO:tensorflow:global_step/sec: 606.318\n",
      "INFO:tensorflow:loss = 186.22333, step = 1400 (0.151 sec)\n",
      "INFO:tensorflow:global_step/sec: 726.936\n",
      "INFO:tensorflow:loss = 149.07072, step = 1500 (0.151 sec)\n",
      "INFO:tensorflow:global_step/sec: 659.715\n",
      "INFO:tensorflow:loss = 178.52097, step = 1600 (0.152 sec)\n",
      "INFO:tensorflow:global_step/sec: 614.055\n",
      "INFO:tensorflow:loss = 168.13852, step = 1700 (0.147 sec)\n",
      "INFO:tensorflow:global_step/sec: 642.498\n",
      "INFO:tensorflow:loss = 148.48274, step = 1800 (0.158 sec)\n",
      "INFO:tensorflow:global_step/sec: 687.895\n",
      "INFO:tensorflow:loss = 136.3043, step = 1900 (0.143 sec)\n",
      "INFO:tensorflow:global_step/sec: 672.328\n",
      "INFO:tensorflow:loss = 175.11688, step = 2000 (0.164 sec)\n",
      "INFO:tensorflow:global_step/sec: 598.184\n",
      "INFO:tensorflow:loss = 120.34044, step = 2100 (0.154 sec)\n",
      "INFO:tensorflow:global_step/sec: 721.386\n",
      "INFO:tensorflow:loss = 157.27051, step = 2200 (0.152 sec)\n",
      "INFO:tensorflow:global_step/sec: 620.41\n",
      "INFO:tensorflow:loss = 85.62448, step = 2300 (0.146 sec)\n",
      "INFO:tensorflow:global_step/sec: 647.726\n",
      "INFO:tensorflow:loss = 193.72754, step = 2400 (0.154 sec)\n",
      "INFO:tensorflow:global_step/sec: 650.777\n",
      "INFO:tensorflow:loss = 173.13838, step = 2500 (0.154 sec)\n",
      "INFO:tensorflow:global_step/sec: 684.496\n",
      "INFO:tensorflow:loss = 125.42903, step = 2600 (0.146 sec)\n",
      "INFO:tensorflow:global_step/sec: 627.78\n",
      "INFO:tensorflow:loss = 154.69443, step = 2700 (0.161 sec)\n",
      "INFO:tensorflow:global_step/sec: 719.696\n",
      "INFO:tensorflow:loss = 123.35494, step = 2800 (0.137 sec)\n",
      "INFO:tensorflow:global_step/sec: 674.371\n",
      "INFO:tensorflow:loss = 183.00201, step = 2900 (0.164 sec)\n",
      "INFO:tensorflow:global_step/sec: 604.132\n",
      "INFO:tensorflow:loss = 156.4859, step = 3000 (0.149 sec)\n",
      "INFO:tensorflow:global_step/sec: 659.002\n",
      "INFO:tensorflow:loss = 189.69348, step = 3100 (0.154 sec)\n",
      "INFO:tensorflow:global_step/sec: 674.192\n",
      "INFO:tensorflow:loss = 184.33995, step = 3200 (0.146 sec)\n",
      "INFO:tensorflow:global_step/sec: 663.481\n",
      "INFO:tensorflow:loss = 123.31323, step = 3300 (0.151 sec)\n",
      "INFO:tensorflow:global_step/sec: 631.14\n",
      "INFO:tensorflow:loss = 138.61792, step = 3400 (0.160 sec)\n",
      "INFO:tensorflow:global_step/sec: 701.121\n",
      "INFO:tensorflow:loss = 120.77527, step = 3500 (0.141 sec)\n",
      "INFO:tensorflow:global_step/sec: 662.425\n",
      "INFO:tensorflow:loss = 145.55016, step = 3600 (0.167 sec)\n",
      "INFO:tensorflow:global_step/sec: 663.212\n",
      "INFO:tensorflow:loss = 164.29587, step = 3700 (0.151 sec)\n",
      "INFO:tensorflow:global_step/sec: 604.522\n",
      "INFO:tensorflow:loss = 132.477, step = 3800 (0.152 sec)\n",
      "INFO:tensorflow:global_step/sec: 719.406\n",
      "INFO:tensorflow:loss = 139.91736, step = 3900 (0.137 sec)\n",
      "INFO:tensorflow:global_step/sec: 614.656\n",
      "INFO:tensorflow:loss = 188.15347, step = 4000 (0.164 sec)\n",
      "INFO:tensorflow:global_step/sec: 731.722\n",
      "INFO:tensorflow:loss = 138.96373, step = 4100 (0.136 sec)\n",
      "INFO:tensorflow:global_step/sec: 663.622\n",
      "INFO:tensorflow:loss = 156.0897, step = 4200 (0.151 sec)\n",
      "INFO:tensorflow:global_step/sec: 618.534\n",
      "INFO:tensorflow:loss = 125.06866, step = 4300 (0.162 sec)\n",
      "INFO:tensorflow:global_step/sec: 622.267\n",
      "INFO:tensorflow:loss = 175.27171, step = 4400 (0.163 sec)\n",
      "INFO:tensorflow:global_step/sec: 706.202\n",
      "INFO:tensorflow:loss = 151.52817, step = 4500 (0.140 sec)\n",
      "INFO:tensorflow:global_step/sec: 617.143\n",
      "INFO:tensorflow:loss = 228.72372, step = 4600 (0.162 sec)\n",
      "INFO:tensorflow:global_step/sec: 648.595\n",
      "INFO:tensorflow:loss = 156.75304, step = 4700 (0.156 sec)\n",
      "INFO:tensorflow:global_step/sec: 688.157\n",
      "INFO:tensorflow:loss = 145.56918, step = 4800 (0.143 sec)\n",
      "INFO:tensorflow:global_step/sec: 643.177\n",
      "INFO:tensorflow:loss = 93.03505, step = 4900 (0.155 sec)\n",
      "INFO:tensorflow:Saving checkpoints for 5000 into C:\\Users\\MAGUIL~1\\AppData\\Local\\Temp\\tmp27utl1i2\\model.ckpt.\n",
      "INFO:tensorflow:Loss for final step: 177.84605.\n"
     ]
    },
    {
     "data": {
      "text/plain": [
       "<tensorflow.python.estimator.canned.linear.LinearRegressor at 0x23bb8d78160>"
      ]
     },
     "execution_count": 19,
     "metadata": {},
     "output_type": "execute_result"
    }
   ],
   "source": [
    "import tensorflow as tf\n",
    "feat_cols = [tf.feature_column.numeric_column(key=\"fpos\"),\n",
    "            tf.feature_column.numeric_column(key=\"fneg\")]\n",
    "model = tf.estimator.LinearRegressor(feature_columns =feat_cols)\n",
    "\n",
    "get_training_data = tf.estimator.inputs.numpy_input_fn(\n",
    "                        x={\"fpos\" : X_train[:,0], \"fneg\" : X_train[:,1]},\n",
    "                        y = Y_train, num_epochs = None, shuffle = True \n",
    "                        )\n",
    "\n",
    "model.train(input_fn = get_training_data, steps = 5000)"
   ]
  },
  {
   "cell_type": "code",
   "execution_count": 20,
   "metadata": {},
   "outputs": [
    {
     "name": "stdout",
     "output_type": "stream",
     "text": [
      "INFO:tensorflow:Calling model_fn.\n",
      "INFO:tensorflow:Done calling model_fn.\n",
      "INFO:tensorflow:Graph was finalized.\n",
      "INFO:tensorflow:Restoring parameters from C:\\Users\\MAGUIL~1\\AppData\\Local\\Temp\\tmp27utl1i2\\model.ckpt-5000\n",
      "INFO:tensorflow:Running local_init_op.\n",
      "INFO:tensorflow:Done running local_init_op.\n"
     ]
    },
    {
     "ename": "NameError",
     "evalue": "name 'mean_absolute_error' is not defined",
     "output_type": "error",
     "traceback": [
      "\u001b[1;31m---------------------------------------------------------------------------\u001b[0m",
      "\u001b[1;31mNameError\u001b[0m                                 Traceback (most recent call last)",
      "\u001b[1;32m<ipython-input-20-aa89973fcb89>\u001b[0m in \u001b[0;36m<module>\u001b[1;34m()\u001b[0m\n\u001b[0;32m      4\u001b[0m pred_train_tf = numpy.array([item['predictions'][0] for item in \n\u001b[0;32m      5\u001b[0m                          model.predict(input_fn=eval_training_data)])\n\u001b[1;32m----> 6\u001b[1;33m \u001b[0mmae_train_tf\u001b[0m \u001b[1;33m=\u001b[0m \u001b[0mmean_absolute_error\u001b[0m\u001b[1;33m(\u001b[0m\u001b[0mpred_train_tf\u001b[0m\u001b[1;33m,\u001b[0m \u001b[0mY_train\u001b[0m\u001b[1;33m)\u001b[0m\u001b[1;33m\u001b[0m\u001b[0m\n\u001b[0m\u001b[0;32m      7\u001b[0m print(\"The mean absolute error on the training data is %f stars\" \n\u001b[0;32m      8\u001b[0m       % mae_train_tf)\n",
      "\u001b[1;31mNameError\u001b[0m: name 'mean_absolute_error' is not defined"
     ]
    }
   ],
   "source": [
    "eval_training_data = tf.estimator.inputs.numpy_input_fn(\n",
    "                     x={\"fpos\":X_train[:,0], \"fneg\": X_train[:,1]},\n",
    "                     num_epochs=1, shuffle=False)\n",
    "pred_train_tf = numpy.array([item['predictions'][0] for item in \n",
    "                         model.predict(input_fn=eval_training_data)])\n",
    "mae_train_tf = mean_absolute_error(pred_train_tf, Y_train)\n",
    "print(\"The mean absolute error on the training data is %f stars\" \n",
    "      % mae_train_tf)"
   ]
  }
 ],
 "metadata": {
  "kernelspec": {
   "display_name": "Python 3",
   "language": "python",
   "name": "python3"
  },
  "language_info": {
   "codemirror_mode": {
    "name": "ipython",
    "version": 3
   },
   "file_extension": ".py",
   "mimetype": "text/x-python",
   "name": "python",
   "nbconvert_exporter": "python",
   "pygments_lexer": "ipython3",
   "version": "3.6.2"
  }
 },
 "nbformat": 4,
 "nbformat_minor": 2
}
