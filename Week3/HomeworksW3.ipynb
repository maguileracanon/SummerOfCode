{
 "cells": [
  {
   "cell_type": "code",
   "execution_count": 77,
   "metadata": {},
   "outputs": [
    {
     "name": "stdout",
     "output_type": "stream",
     "text": [
      "Pretty printing has been turned ON\n",
      "[nltk_data] Downloading package reuters to\n",
      "[nltk_data]     C:\\Users\\Mara\\AppData\\Roaming\\nltk_data...\n",
      "[nltk_data]   Package reuters is already up-to-date!\n"
     ]
    }
   ],
   "source": [
    "%matplotlib inline\n",
    "%pprint\n",
    "import nltk\n",
    "import numpy\n",
    "import matplotlib,re\n",
    "from nltk.corpus import webtext\n",
    "from nltk.corpus import brown\n",
    "from nltk.corpus import gutenberg\n",
    "from nltk.corpus import reuters\n",
    "from nltk.corpus import udhr\n",
    "from nltk.corpus import inaugural\n",
    "from nltk.book import *\n",
    "nltk.download('reuters')\n",
    "from nltk.corpus import swadesh\n",
    "from nltk.corpus import wordnet as wn\n",
    "from nltk.corpus import PlaintextCorpusReader\n",
    "from nltk import word_tokenize\n",
    "from nltk.corpus import stopwords\n"
   ]
  },
  {
   "cell_type": "markdown",
   "metadata": {},
   "source": [
    "Compare the lexical diversity scores for humor and romance fiction in 1.1. Which genre is more lexically diverse?"
   ]
  },
  {
   "cell_type": "code",
   "execution_count": 3,
   "metadata": {},
   "outputs": [
    {
     "name": "stdout",
     "output_type": "stream",
     "text": [
      "The lexical diversity of humor category is :  0.2646264626462646\n",
      "The lexical diversity of romance category is :  0.12070492131044529\n",
      "The lexical diversity of fiction category is :  0.1358194136199042\n"
     ]
    }
   ],
   "source": [
    "brown.categories()\n",
    "humor = [w for w in brown.words(categories=\"humor\") if w.isalpha()]\n",
    "humor_lex_diversity = (len(set(humor)))/len(humor)\n",
    "print(\"The lexical diversity of humor category is : \", humor_lex_diversity)\n",
    "romance = [w for w in brown.words(categories=\"romance\")]\n",
    "romance_lex_diversity = (len(set(romance)))/len(romance)\n",
    "print(\"The lexical diversity of romance category is : \", romance_lex_diversity)\n",
    "fiction = [w for w in brown.words(categories=\"fiction\")]\n",
    "fiction_lex_diversity = (len(set(fiction)))/len(fiction)\n",
    "print(\"The lexical diversity of fiction category is : \", fiction_lex_diversity)"
   ]
  },
  {
   "cell_type": "markdown",
   "metadata": {},
   "source": [
    "###Produce a dispersion plot of the four main protagonists in Sense and Sensibility: Elinor, Marianne, Edward, and Willoughby. What can you observe about the different roles played by the males and females in this novel? Can you identify the couples?\n"
   ]
  },
  {
   "cell_type": "code",
   "execution_count": 4,
   "metadata": {},
   "outputs": [
    {
     "data": {
      "image/png": "[encoded data removed]",
      "text/plain": [
       "<Figure size 432x288 with 1 Axes>"
      ]
     },
     "metadata": {},
     "output_type": "display_data"
    }
   ],
   "source": [
    "text2.dispersion_plot([\"Elinor\",\"Marianne\",\"Edward\",\"Willoughby\"]) #Elinor was probably the protagonist. and For some reason Edward and Willoughby werent present of the same narrative at the same time"
   ]
  },
  {
   "cell_type": "markdown",
   "metadata": {},
   "source": [
    "# Day 2\n",
    "\n",
    "\n",
    "\n",
    "type up the whole Chapter 2\n"
   ]
  },
  {
   "cell_type": "code",
   "execution_count": 5,
   "metadata": {},
   "outputs": [
    {
     "data": {
      "text/plain": [
       "['austen-emma.txt', 'austen-persuasion.txt', 'austen-sense.txt', 'bible-kjv.txt', 'blake-poems.txt', 'bryant-stories.txt', 'burgess-busterbrown.txt', 'carroll-alice.txt', 'chesterton-ball.txt', 'chesterton-brown.txt', 'chesterton-thursday.txt', 'edgeworth-parents.txt', 'melville-moby_dick.txt', 'milton-paradise.txt', 'shakespeare-caesar.txt', 'shakespeare-hamlet.txt', 'shakespeare-macbeth.txt', 'whitman-leaves.txt']"
      ]
     },
     "execution_count": 5,
     "metadata": {},
     "output_type": "execute_result"
    }
   ],
   "source": [
    "nltk.corpus.gutenberg.fileids()"
   ]
  },
  {
   "cell_type": "code",
   "execution_count": 6,
   "metadata": {},
   "outputs": [
    {
     "data": {
      "text/plain": [
       "192427"
      ]
     },
     "execution_count": 6,
     "metadata": {},
     "output_type": "execute_result"
    }
   ],
   "source": [
    "emma = nltk.corpus.gutenberg.words('austen-emma.txt') #Pass the words in text\n",
    "len(emma) #total number of words"
   ]
  },
  {
   "cell_type": "code",
   "execution_count": 7,
   "metadata": {},
   "outputs": [],
   "source": [
    "emma = gutenberg.words('austen-emma.txt')"
   ]
  },
  {
   "cell_type": "code",
   "execution_count": 8,
   "metadata": {},
   "outputs": [
    {
     "name": "stdout",
     "output_type": "stream",
     "text": [
      "5 25 26 austen-emma.txt\n",
      "5 26 17 austen-persuasion.txt\n",
      "5 28 22 austen-sense.txt\n",
      "4 34 79 bible-kjv.txt\n",
      "5 19 5 blake-poems.txt\n",
      "4 19 14 bryant-stories.txt\n",
      "4 18 12 burgess-busterbrown.txt\n",
      "4 20 13 carroll-alice.txt\n",
      "5 20 12 chesterton-ball.txt\n",
      "5 23 11 chesterton-brown.txt\n",
      "5 18 11 chesterton-thursday.txt\n",
      "4 21 25 edgeworth-parents.txt\n",
      "5 26 15 melville-moby_dick.txt\n",
      "5 52 11 milton-paradise.txt\n",
      "4 12 9 shakespeare-caesar.txt\n",
      "4 12 8 shakespeare-hamlet.txt\n",
      "4 12 7 shakespeare-macbeth.txt\n",
      "5 36 12 whitman-leaves.txt\n"
     ]
    }
   ],
   "source": [
    "for fileid in gutenberg.fileids():\n",
    "    num_chars = len(gutenberg.raw(fileid))\n",
    "    num_words = len(gutenberg.words(fileid))\n",
    "    num_sents = len(gutenberg.sents(fileid)) #sentences\n",
    "    num_vocab = len(set(w.lower() for w in gutenberg.words(fileid)))\n",
    "    print(round(num_chars/num_words), round(num_words/num_sents),\n",
    "          round(num_words/num_vocab), fileid)"
   ]
  },
  {
   "cell_type": "code",
   "execution_count": 9,
   "metadata": {},
   "outputs": [
    {
     "data": {
      "text/plain": [
       "[['Doubtfull', 'it', 'stood', ',', 'As', 'two', 'spent', 'Swimmers', ',', 'that', 'doe', 'cling', 'together', ',', 'And', 'choake', 'their', 'Art', ':', 'The', 'mercilesse', 'Macdonwald', '(', 'Worthie', 'to', 'be', 'a', 'Rebell', ',', 'for', 'to', 'that', 'The', 'multiplying', 'Villanies', 'of', 'Nature', 'Doe', 'swarme', 'vpon', 'him', ')', 'from', 'the', 'Westerne', 'Isles', 'Of', 'Kernes', 'and', 'Gallowgrosses', 'is', 'supply', \"'\", 'd', ',', 'And', 'Fortune', 'on', 'his', 'damned', 'Quarry', 'smiling', ',', 'Shew', \"'\", 'd', 'like', 'a', 'Rebells', 'Whore', ':', 'but', 'all', \"'\", 's', 'too', 'weake', ':', 'For', 'braue', 'Macbeth', '(', 'well', 'hee', 'deserues', 'that', 'Name', ')', 'Disdayning', 'Fortune', ',', 'with', 'his', 'brandisht', 'Steele', ',', 'Which', 'smoak', \"'\", 'd', 'with', 'bloody', 'execution', '(', 'Like', 'Valours', 'Minion', ')', 'caru', \"'\", 'd', 'out', 'his', 'passage', ',', 'Till', 'hee', 'fac', \"'\", 'd', 'the', 'Slaue', ':', 'Which', 'neu', \"'\", 'r', 'shooke', 'hands', ',', 'nor', 'bad', 'farwell', 'to', 'him', ',', 'Till', 'he', 'vnseam', \"'\", 'd', 'him', 'from', 'the', 'Naue', 'toth', \"'\", 'Chops', ',', 'And', 'fix', \"'\", 'd', 'his', 'Head', 'vpon', 'our', 'Battlements']]"
      ]
     },
     "execution_count": 9,
     "metadata": {},
     "output_type": "execute_result"
    }
   ],
   "source": [
    "macbeth_sentences = gutenberg.sents('shakespeare-macbeth.txt')\n",
    "#macbeth_sentences[1116]\n",
    "longest_len=max(len(s) for s in macbeth_sentences)\n",
    "[s for s in macbeth_sentences if len(s)==longest_len]"
   ]
  },
  {
   "cell_type": "code",
   "execution_count": 10,
   "metadata": {},
   "outputs": [
    {
     "name": "stdout",
     "output_type": "stream",
     "text": [
      "firefox.txt Cookie Manager: \"Don't allow sites that set removed cookies to se ...\n",
      "grail.txt SCENE 1: [wind] [clop clop clop] \n",
      "KING ARTHUR: Whoa there!  [clop ...\n",
      "overheard.txt White guy: So, do you have any plans for this evening?\n",
      "Asian girl ...\n",
      "pirates.txt PIRATES OF THE CARRIBEAN: DEAD MAN'S CHEST, by Ted Elliott & Terr ...\n",
      "singles.txt 25 SEXY MALE, seeks attrac older single lady, for discreet encoun ...\n",
      "whitman-leaves.txt Lovely delicate, fragrant Rhone wine. Polished leather and strawb ...\n",
      "wine.txt Lovely delicate, fragrant Rhone wine. Polished leather and strawb ...\n"
     ]
    }
   ],
   "source": [
    "for ids in webtext.fileids():\n",
    "    print(ids, webtext.raw(ids)[:65],'...')\n",
    "  "
   ]
  },
  {
   "cell_type": "code",
   "execution_count": 11,
   "metadata": {},
   "outputs": [
    {
     "data": {
      "text/plain": [
       "['i', 'do', \"n't\", 'want', 'hot', 'pics', 'of', 'a', 'female', ',', 'I', 'can', 'look', 'in', 'a', 'mirror', '.']"
      ]
     },
     "execution_count": 11,
     "metadata": {},
     "output_type": "execute_result"
    }
   ],
   "source": [
    "from nltk.corpus import nps_chat\n",
    "chatroom = nps_chat.posts('10-19-20s_706posts.xml')\n",
    "chatroom[123]"
   ]
  },
  {
   "cell_type": "code",
   "execution_count": 12,
   "metadata": {},
   "outputs": [
    {
     "data": {
      "text/plain": [
       "[['The', 'Fulton', 'County', 'Grand', 'Jury', 'said', 'Friday', 'an', 'investigation', 'of', \"Atlanta's\", 'recent', 'primary', 'election', 'produced', '``', 'no', 'evidence', \"''\", 'that', 'any', 'irregularities', 'took', 'place', '.'], ['The', 'jury', 'further', 'said', 'in', 'term-end', 'presentments', 'that', 'the', 'City', 'Executive', 'Committee', ',', 'which', 'had', 'over-all', 'charge', 'of', 'the', 'election', ',', '``', 'deserves', 'the', 'praise', 'and', 'thanks', 'of', 'the', 'City', 'of', 'Atlanta', \"''\", 'for', 'the', 'manner', 'in', 'which', 'the', 'election', 'was', 'conducted', '.'], ...]"
      ]
     },
     "execution_count": 12,
     "metadata": {},
     "output_type": "execute_result"
    }
   ],
   "source": [
    "brown.words(categories=\"news\")\n",
    "brown.words(fileids=['cg22'])\n",
    "#['Does', 'our', 'society', 'have', 'a', 'runaway', ',', ...]\n",
    "brown.sents(categories=[\"news\",\"editorial\"])"
   ]
  },
  {
   "cell_type": "code",
   "execution_count": 13,
   "metadata": {},
   "outputs": [
    {
     "name": "stdout",
     "output_type": "stream",
     "text": [
      "what: 46 when: 62 why: 13 who: 49 where: 16 "
     ]
    }
   ],
   "source": [
    "#news_text = brown.words(categories=\"news\")\n",
    "comedy_text= brown.words(categories=\"humor\")\n",
    "fdist=nltk.FreqDist(w.lower() for w in comedy_text)\n",
    "modals = [\"what\",\"when\",\"why\",\"who\",\"where\"]\n",
    "for m in modals:\n",
    "    print(m+\":\", fdist[m], end=\" \") #is this accessing list by character index??"
   ]
  },
  {
   "cell_type": "code",
   "execution_count": 14,
   "metadata": {},
   "outputs": [
    {
     "name": "stdout",
     "output_type": "stream",
     "text": [
      "                  can could   may might  must  will \n",
      "           news    93    86    66    38    50   389 \n",
      "       religion    82    59    78    12    54    71 \n",
      "        hobbies   268    58   131    22    83   264 \n",
      "science_fiction    16    49     4    12     8    16 \n",
      "        romance    74   193    11    51    45    43 \n",
      "          humor    16    30     8     8     9    13 \n"
     ]
    }
   ],
   "source": [
    "#conditional frequency distribution\n",
    "cfd = nltk.ConditionalFreqDist(\n",
    "           (genre,word)\n",
    "            for genre in brown.categories()\n",
    "            for word in brown.words(categories= genre))\n",
    "genres = ['news', 'religion', 'hobbies', 'science_fiction', 'romance', 'humor']\n",
    "modals = ['can', 'could', 'may', 'might', 'must', 'will']\n",
    "cfd.tabulate(conditions=genres, samples=modals)"
   ]
  },
  {
   "cell_type": "code",
   "execution_count": 15,
   "metadata": {},
   "outputs": [
    {
     "data": {
      "text/plain": [
       "['1789', '1793', '1797', '1801', '1805', '1809', '1813', '1817', '1821', '1825', '1829', '1833', '1837', '1841', '1845', '1849', '1853', '1857', '1861', '1865', '1869', '1873', '1877', '1881', '1885', '1889', '1893', '1897', '1901', '1905', '1909', '1913', '1917', '1921', '1925', '1929', '1933', '1937', '1941', '1945', '1949', '1953', '1957', '1961', '1965', '1969', '1973', '1977', '1981', '1985', '1989', '1993', '1997', '2001', '2005', '2009']"
      ]
     },
     "execution_count": 15,
     "metadata": {},
     "output_type": "execute_result"
    }
   ],
   "source": [
    "inaugural.fileids()\n",
    "[fileid[:4] for fileid in inaugural.fileids()]"
   ]
  },
  {
   "cell_type": "code",
   "execution_count": 16,
   "metadata": {},
   "outputs": [
    {
     "data": {
      "image/png": "[encoded data removed]",
      "text/plain": [
       "<Figure size 432x288 with 1 Axes>"
      ]
     },
     "metadata": {},
     "output_type": "display_data"
    }
   ],
   "source": [
    "cfd = nltk.ConditionalFreqDist(\n",
    "        (target,fileid[:4])\n",
    "        for fileid in inaugural.fileids()\n",
    "        for w in inaugural.words(fileid)\n",
    "        for target in [\"america\",\"citizen\"]\n",
    "        if w.lower().startswith(target)\n",
    "        )\n",
    "cfd.plot()"
   ]
  },
  {
   "cell_type": "code",
   "execution_count": 17,
   "metadata": {},
   "outputs": [
    {
     "data": {
      "image/png": "[encoded data removed]",
      "text/plain": [
       "<Figure size 432x288 with 1 Axes>"
      ]
     },
     "metadata": {},
     "output_type": "display_data"
    }
   ],
   "source": [
    "languages = [\"Chickasaw\",\"English\",\"German_Deutsch\",\"Greenlandic_Inuktikut\",\"Hungarian_Magyar\",\"Ibibio_Efik\"]\n",
    "cfd = nltk.ConditionalFreqDist(\n",
    "        (lang,len(word))\n",
    "    for lang in languages\n",
    "    for word in udhr.words(lang + '-Latin1') )\n",
    "cfd.plot(cumulative=True)"
   ]
  },
  {
   "cell_type": "code",
   "execution_count": 18,
   "metadata": {},
   "outputs": [
    {
     "data": {
      "text/plain": [
       "['Abkhaz-Cyrillic+Abkh', 'Abkhaz-UTF8', 'Achehnese-Latin1', 'Achuar-Shiwiar-Latin1', 'Adja-UTF8', 'Afaan_Oromo_Oromiffa-Latin1', 'Afrikaans-Latin1', 'Aguaruna-Latin1', 'Akuapem_Twi-UTF8', 'Albanian_Shqip-Latin1', 'Amahuaca', 'Amahuaca-Latin1', 'Amarakaeri-Latin1', 'Amuesha-Yanesha-UTF8', 'Arabela-Latin1', 'Arabic_Alarabia-Arabic', 'Asante-UTF8', 'Ashaninca-Latin1', 'Asheninca-Latin1', 'Asturian_Bable-Latin1', 'Aymara-Latin1', 'Balinese-Latin1', 'Bambara-UTF8', 'Baoule-UTF8', 'Basque_Euskara-Latin1', 'Batonu_Bariba-UTF8', 'Belorus_Belaruski-Cyrillic', 'Belorus_Belaruski-UTF8', 'Bemba-Latin1', 'Bengali-UTF8', 'Beti-UTF8', 'Bichelamar-Latin1', 'Bikol_Bicolano-Latin1', 'Bora-Latin1', 'Bosnian_Bosanski-Cyrillic', 'Bosnian_Bosanski-Latin2', 'Bosnian_Bosanski-UTF8', 'Breton-Latin1', 'Bugisnese-Latin1', 'Bulgarian_Balgarski-Cyrillic', 'Bulgarian_Balgarski-UTF8', 'Cakchiquel-Latin1', 'Campa_Pajonalino-Latin1', 'Candoshi-Shapra-Latin1', 'Caquinte-Latin1', 'Cashibo-Cacataibo-Latin1', 'Cashinahua-Latin1', 'Catalan-Latin1', 'Catalan_Catala-Latin1', 'Cebuano-Latin1', 'Chamorro-Latin1', 'Chayahuita-Latin1', 'Chechewa_Nyanja-Latin1', 'Chickasaw-Latin1', 'Chinanteco-Ajitlan-Latin1', 'Chinanteco-UTF8', 'Chinese_Mandarin-GB2312', 'Chuuk_Trukese-Latin1', 'Cokwe-Latin1', 'Corsican-Latin1', 'Croatian_Hrvatski-Latin2', 'Czech-Latin2', 'Czech-UTF8', 'Czech_Cesky-Latin2', 'Czech_Cesky-UTF8', 'Dagaare-UTF8', 'Dagbani-UTF8', 'Dangme-UTF8', 'Danish_Dansk-Latin1', 'Dendi-UTF8', 'Ditammari-UTF8', 'Dutch_Nederlands-Latin1', 'Edo-Latin1', 'English-Latin1', 'Esperanto-UTF8', 'Estonian_Eesti-Latin1', 'Ewe_Eve-UTF8', 'Fante-UTF8', 'Faroese-Latin1', 'Farsi_Persian-UTF8', 'Farsi_Persian-v2-UTF8', 'Fijian-Latin1', 'Filipino_Tagalog-Latin1', 'Finnish_Suomi-Latin1', 'Fon-UTF8', 'French_Francais-Latin1', 'Frisian-Latin1', 'Friulian_Friulano-Latin1', 'Ga-UTF8', 'Gagauz_Gagauzi-UTF8', 'Galician_Galego-Latin1', 'Garifuna_Garifuna-Latin1', 'German_Deutsch-Latin1', 'Gonja-UTF8', 'Greek_Ellinika-Greek', 'Greek_Ellinika-UTF8', 'Greenlandic_Inuktikut-Latin1', 'Guarani-Latin1', 'Guen_Mina-UTF8', 'HaitianCreole_Kreyol-Latin1', 'HaitianCreole_Popular-Latin1', 'Hani-Latin1', 'Hausa_Haoussa-Latin1', 'Hawaiian-UTF8', 'Hebrew_Ivrit-Hebrew', 'Hebrew_Ivrit-UTF8', 'Hiligaynon-Latin1', 'Hindi-UTF8', 'Hindi_web-UTF8', 'Hmong_Miao-Sichuan-Guizhou-Yunnan-Latin1', 'Hmong_Miao-SouthernEast-Guizhou-Latin1', 'Hmong_Miao_Northern-East-Guizhou-Latin1', 'Hrvatski_Croatian-Latin2', 'Huasteco-Latin1', 'Huitoto_Murui-Latin1', 'Hungarian_Magyar-Latin1', 'Hungarian_Magyar-Latin2', 'Hungarian_Magyar-UTF8', 'Ibibio_Efik-Latin1', 'Icelandic_Yslenska-Latin1', 'Ido-Latin1', 'Igbo-UTF8', 'Iloko_Ilocano-Latin1', 'Indonesian-Latin1', 'Interlingua-Latin1', 'Inuktikut_Greenlandic-Latin1', 'IrishGaelic_Gaeilge-Latin1', 'Italian-Latin1', 'Italian_Italiano-Latin1', 'Japanese_Nihongo-EUC', 'Japanese_Nihongo-SJIS', 'Japanese_Nihongo-UTF8', 'Javanese-Latin1', 'Jola-Fogny_Diola-UTF8', 'Kabye-UTF8', 'Kannada-UTF8', 'Kaonde-Latin1', 'Kapampangan-Latin1', 'Kasem-UTF8', 'Kazakh-Cyrillic', 'Kazakh-UTF8', 'Kiche_Quiche-Latin1', 'Kicongo-Latin1', 'Kimbundu_Mbundu-Latin1', 'Kinyamwezi_Nyamwezi-Latin1', 'Kinyarwanda-Latin1', 'Kituba-Latin1', 'Korean_Hankuko-UTF8', 'Kpelewo-UTF8', 'Krio-UTF8', 'Kurdish-UTF8', 'Lamnso_Lam-nso-UTF8', 'Latin_Latina-Latin1', 'Latin_Latina-v2-Latin1', 'Latvian-Latin1', 'Limba-UTF8', 'Lingala-Latin1', 'Lithuanian_Lietuviskai-Baltic', 'Lozi-Latin1', 'Luba-Kasai_Tshiluba-Latin1', 'Luganda_Ganda-Latin1', 'Lunda_Chokwe-lunda-Latin1', 'Luvale-Latin1', 'Luxembourgish_Letzebuergeusch-Latin1', 'Macedonian-UTF8', 'Madurese-Latin1', 'Makonde-Latin1', 'Malagasy-Latin1', 'Malay_BahasaMelayu-Latin1', 'Maltese-UTF8', 'Mam-Latin1', 'Maninka-UTF8', 'Maori-Latin1', 'Mapudungun_Mapuzgun-Latin1', 'Mapudungun_Mapuzgun-UTF8', 'Marshallese-Latin1', 'Matses-Latin1', 'Mayan_Yucateco-Latin1', 'Mazahua_Jnatrjo-UTF8', 'Mazateco-Latin1', 'Mende-UTF8', 'Mikmaq_Micmac-Mikmaq-Latin1', 'Minangkabau-Latin1', 'Miskito_Miskito-Latin1', 'Mixteco-Latin1', 'Mongolian_Khalkha-Cyrillic', 'Mongolian_Khalkha-UTF8', 'Moore_More-UTF8', 'Nahuatl-Latin1', 'Ndebele-Latin1', 'Nepali-UTF8', 'Ngangela_Nyemba-Latin1', 'NigerianPidginEnglish-Latin1', 'Nomatsiguenga-Latin1', 'NorthernSotho_Pedi-Sepedi-Latin1', 'Norwegian-Latin1', 'Norwegian_Norsk-Bokmal-Latin1', 'Norwegian_Norsk-Nynorsk-Latin1', 'Nyanja_Chechewa-Latin1', 'Nyanja_Chinyanja-Latin1', 'Nzema-UTF8', 'OccitanAuvergnat-Latin1', 'OccitanLanguedocien-Latin1', 'Oromiffa_AfaanOromo-Latin1', 'Osetin_Ossetian-UTF8', 'Oshiwambo_Ndonga-Latin1', 'Otomi_Nahnu-Latin1', 'Paez-Latin1', 'Palauan-Latin1', 'Peuhl-UTF8', 'Picard-Latin1', 'Pipil-Latin1', 'Polish-Latin2', 'Polish_Polski-Latin2', 'Ponapean-Latin1', 'Portuguese_Portugues-Latin1', 'Pulaar-UTF8', 'Punjabi_Panjabi-UTF8', 'Purhepecha-UTF8', 'Qechi_Kekchi-Latin1', 'Quechua-Latin1', 'Quichua-Latin1', 'Rarotongan_MaoriCookIslands-Latin1', 'Rhaeto-Romance_Rumantsch-Latin1', 'Romani-Latin1', 'Romani-UTF8', 'Romanian-Latin2', 'Romanian_Romana-Latin2', 'Rukonzo_Konjo-Latin1', 'Rundi_Kirundi-Latin1', 'Runyankore-rukiga_Nkore-kiga-Latin1', 'Russian-Cyrillic', 'Russian-UTF8', 'Russian_Russky-Cyrillic', 'Russian_Russky-UTF8', 'Sami_Lappish-UTF8', 'Sammarinese-Latin1', 'Samoan-Latin1', 'Sango_Sangho-Latin1', 'Sanskrit-UTF8', 'Saraiki-UTF8', 'Sardinian-Latin1', 'ScottishGaelic_GaidhligAlbanach-Latin1', 'Seereer-UTF8', 'Serbian_Srpski-Cyrillic', 'Serbian_Srpski-Latin2', 'Serbian_Srpski-UTF8', 'Sharanahua-Latin1', 'Shipibo-Conibo-Latin1', 'Shona-Latin1', 'Sinhala-UTF8', 'Siswati-Latin1', 'Slovak-Latin2', 'Slovak_Slovencina-Latin2', 'Slovenian_Slovenscina-Latin2', 'SolomonsPidgin_Pijin-Latin1', 'Somali-Latin1', 'Soninke_Soninkanxaane-UTF8', 'Sorbian-Latin2', 'SouthernSotho_Sotho-Sesotho-Sutu-Sesutu-Latin1', 'Spanish-Latin1', 'Spanish_Espanol-Latin1', 'Sukuma-Latin1', 'Sundanese-Latin1', 'Sussu_Soussou-Sosso-Soso-Susu-UTF8', 'Swaheli-Latin1', 'Swahili_Kiswahili-Latin1', 'Swedish_Svenska-Latin1', 'Tahitian-UTF8', 'Tenek_Huasteco-Latin1', 'Tetum-Latin1', 'Themne_Temne-UTF8', 'Tiv-Latin1', 'Toba-UTF8', 'Tojol-abal-Latin1', 'TokPisin-Latin1', 'Tonga-Latin1', 'Tongan_Tonga-Latin1', 'Totonaco-Latin1', 'Trukese_Chuuk-Latin1', 'Turkish_Turkce-Turkish', 'Turkish_Turkce-UTF8', 'Tzeltal-Latin1', 'Tzotzil-Latin1', 'Uighur_Uyghur-Latin1', 'Uighur_Uyghur-UTF8', 'Ukrainian-Cyrillic', 'Ukrainian-UTF8', 'Umbundu-Latin1', 'Urarina-Latin1', 'Uzbek-Latin1', 'Vietnamese-ALRN-UTF8', 'Vietnamese-UTF8', 'Vlach-Latin1', 'Walloon_Wallon-Latin1', 'Wama-UTF8', 'Waray-Latin1', 'Wayuu-Latin1', 'Welsh_Cymraeg-Latin1', 'WesternSotho_Tswana-Setswana-Latin1', 'Wolof-Latin1', 'Xhosa-Latin1', 'Yagua-Latin1', 'Yao-Latin1', 'Yapese-Latin1', 'Yoruba-UTF8', 'Zapoteco-Latin1', 'Zapoteco-SanLucasQuiavini-Latin1', 'Zhuang-Latin1', 'Zulu-Latin1']"
      ]
     },
     "execution_count": 18,
     "metadata": {},
     "output_type": "execute_result"
    }
   ],
   "source": [
    "udhr.fileids()"
   ]
  },
  {
   "cell_type": "code",
   "execution_count": 19,
   "metadata": {},
   "outputs": [
    {
     "data": {
      "image/png": "[encoded data removed]",
      "text/plain": [
       "<Figure size 432x288 with 1 Axes>"
      ]
     },
     "metadata": {},
     "output_type": "display_data"
    }
   ],
   "source": [
    "raw_text = udhr.raw(\"Spanish_Espanol-Latin1\")\n",
    "nltk.FreqDist(raw_text).plot()"
   ]
  },
  {
   "cell_type": "code",
   "execution_count": 20,
   "metadata": {},
   "outputs": [],
   "source": [
    "cfd = nltk.ConditionalFreqDist(\n",
    "        (genre,word)\n",
    "        for genre in brown.categories()\n",
    "        for word in brown.words(categories=genre)\n",
    "            )"
   ]
  },
  {
   "cell_type": "code",
   "execution_count": 21,
   "metadata": {},
   "outputs": [
    {
     "data": {
      "text/plain": [
       "'The Adventures of B'"
      ]
     },
     "execution_count": 21,
     "metadata": {},
     "output_type": "execute_result"
    }
   ],
   "source": [
    "raw = gutenberg.raw(\"burgess-busterbrown.txt\")\n",
    "raw[1:20]"
   ]
  },
  {
   "cell_type": "code",
   "execution_count": 22,
   "metadata": {},
   "outputs": [
    {
     "data": {
      "text/plain": [
       "170576"
      ]
     },
     "execution_count": 22,
     "metadata": {},
     "output_type": "execute_result"
    }
   ],
   "source": [
    "genre_word =[(genre,word)\n",
    "            for genre in [\"news\",\"romance\"]\n",
    "            for word in brown.words(categories=genre)]\n",
    "len(genre_word)"
   ]
  },
  {
   "cell_type": "code",
   "execution_count": null,
   "metadata": {},
   "outputs": [],
   "source": []
  },
  {
   "cell_type": "code",
   "execution_count": 23,
   "metadata": {},
   "outputs": [
    {
     "data": {
      "text/plain": [
       "[('romance', 'afraid'), ('romance', 'not'), ('romance', \"''\"), ('romance', '.')]"
      ]
     },
     "execution_count": 23,
     "metadata": {},
     "output_type": "execute_result"
    }
   ],
   "source": [
    "genre_word [-4:]"
   ]
  },
  {
   "cell_type": "code",
   "execution_count": 24,
   "metadata": {},
   "outputs": [
    {
     "data": {
      "image/png": "[encoded data removed]",
      "text/plain": [
       "<Figure size 432x288 with 1 Axes>"
      ]
     },
     "metadata": {},
     "output_type": "display_data"
    }
   ],
   "source": [
    "cfd = nltk.ConditionalFreqDist(\n",
    "        (target, fileid[:4])\n",
    "        for fileid in inaugural.fileids()\n",
    "        for w in inaugural.words(fileid)\n",
    "        for target in [\"america\",\"citizen\"]\n",
    "        if w.lower().startswith(target) )\n",
    "cfd.plot()"
   ]
  },
  {
   "cell_type": "code",
   "execution_count": 25,
   "metadata": {},
   "outputs": [
    {
     "name": "stdout",
     "output_type": "stream",
     "text": [
      "                  0    1    2    3    4    5    6    7    8    9 \n",
      "       English    0  185  525  883  997 1166 1283 1440 1558 1638 \n",
      "German_Deutsch    0  171  263  614  717  894 1013 1110 1213 1275 \n"
     ]
    }
   ],
   "source": [
    "languages = ['Chickasaw', 'English', 'German_Deutsch','Greenlandic_Inuktikut', 'Hungarian_Magyar', 'Ibibio_Efik']\n",
    "cfd = nltk.ConditionalFreqDist(\n",
    "           (lang, len(word))\n",
    "           for lang in languages\n",
    "           for word in udhr.words(lang + '-Latin1'))\n",
    "\n",
    "cfd.tabulate(conditions=['English', 'German_Deutsch'],\n",
    "              samples=range(10), cumulative=True)"
   ]
  },
  {
   "cell_type": "code",
   "execution_count": 26,
   "metadata": {},
   "outputs": [
    {
     "name": "stdout",
     "output_type": "stream",
     "text": [
      "           Monday   Tuesday Wednesday  Thursday    Friday  Saturday    Sunday \n",
      "   news        54        43        22        20        41        33        51 \n",
      "romance         2         3         3         1         3         4         5 \n"
     ]
    }
   ],
   "source": [
    "cfd_brown = nltk.ConditionalFreqDist(\n",
    "            (category, w)\n",
    "            for category in brown.categories()\n",
    "            for w in brown.words(categories=category)\n",
    "            )\n",
    "days = [\"Monday\",\"Tuesday\",\"Wednesday\",\"Thursday\",\"Friday\",\"Saturday\",\"Sunday\"]\n",
    "genres = [\"news\",\"romance\"]\n",
    "cfd_brown.tabulate(conditions = genres , samples = days)"
   ]
  },
  {
   "cell_type": "code",
   "execution_count": 27,
   "metadata": {},
   "outputs": [
    {
     "data": {
      "text/plain": [
       "[('In', 'the'), ('the', 'beginning'), ('beginning', 'God'), ('God', 'created'), ('created', 'the'), ('the', 'heaven'), ('heaven', 'and'), ('and', 'the'), ('the', 'earth'), ('earth', '.')]"
      ]
     },
     "execution_count": 27,
     "metadata": {},
     "output_type": "execute_result"
    }
   ],
   "source": [
    "sent = ['In', 'the', 'beginning', 'God', 'created', 'the', 'heaven',\n",
    " 'and', 'the', 'earth', '.']\n",
    "list(nltk.bigrams(sent))"
   ]
  },
  {
   "cell_type": "code",
   "execution_count": 28,
   "metadata": {},
   "outputs": [
    {
     "data": {
      "text/plain": [
       "FreqDist({'creature': 7, 'thing': 4, 'substance': 2, 'soul': 1, '.': 1, ',': 1})"
      ]
     },
     "execution_count": 28,
     "metadata": {},
     "output_type": "execute_result"
    }
   ],
   "source": [
    "text = nltk.corpus.genesis.words('english-kjv.txt')\n",
    "bigrams = nltk.bigrams(text)\n",
    "cfd = nltk.ConditionalFreqDist(bigrams)\n",
    "cfd['living']"
   ]
  },
  {
   "cell_type": "code",
   "execution_count": 29,
   "metadata": {},
   "outputs": [
    {
     "data": {
      "text/plain": [
       "['i', 'me', 'my', 'myself', 'we', 'our', 'ours', 'ourselves', 'you', \"you're\", \"you've\", \"you'll\", \"you'd\", 'your', 'yours', 'yourself', 'yourselves', 'he', 'him', 'his', 'himself', 'she', \"she's\", 'her', 'hers', 'herself', 'it', \"it's\", 'its', 'itself', 'they', 'them', 'their', 'theirs', 'themselves', 'what', 'which', 'who', 'whom', 'this', 'that', \"that'll\", 'these', 'those', 'am', 'is', 'are', 'was', 'were', 'be', 'been', 'being', 'have', 'has', 'had', 'having', 'do', 'does', 'did', 'doing', 'a', 'an', 'the', 'and', 'but', 'if', 'or', 'because', 'as', 'until', 'while', 'of', 'at', 'by', 'for', 'with', 'about', 'against', 'between', 'into', 'through', 'during', 'before', 'after', 'above', 'below', 'to', 'from', 'up', 'down', 'in', 'out', 'on', 'off', 'over', 'under', 'again', 'further', 'then', 'once', 'here', 'there', 'when', 'where', 'why', 'how', 'all', 'any', 'both', 'each', 'few', 'more', 'most', 'other', 'some', 'such', 'no', 'nor', 'not', 'only', 'own', 'same', 'so', 'than', 'too', 'very', 's', 't', 'can', 'will', 'just', 'don', \"don't\", 'should', \"should've\", 'now', 'd', 'll', 'm', 'o', 're', 've', 'y', 'ain', 'aren', \"aren't\", 'couldn', \"couldn't\", 'didn', \"didn't\", 'doesn', \"doesn't\", 'hadn', \"hadn't\", 'hasn', \"hasn't\", 'haven', \"haven't\", 'isn', \"isn't\", 'ma', 'mightn', \"mightn't\", 'mustn', \"mustn't\", 'needn', \"needn't\", 'shan', \"shan't\", 'shouldn', \"shouldn't\", 'wasn', \"wasn't\", 'weren', \"weren't\", 'won', \"won't\", 'wouldn', \"wouldn't\"]"
      ]
     },
     "execution_count": 29,
     "metadata": {},
     "output_type": "execute_result"
    }
   ],
   "source": [
    "from nltk.corpus import stopwords\n",
    "stopwords.words('english')"
   ]
  },
  {
   "cell_type": "code",
   "execution_count": 30,
   "metadata": {},
   "outputs": [],
   "source": [
    "def content_fraction(text):\n",
    "    stopwords=nltk.corpus.stopwords(\"english\")\n",
    "    content = [w for w in text if w.lower() not in stopwords]\n",
    "    return len(content)/len(text)\n",
    "\n",
    "#content_fraction(nltk.corpus.reuters.words())"
   ]
  },
  {
   "cell_type": "code",
   "execution_count": 31,
   "metadata": {},
   "outputs": [
    {
     "data": {
      "text/plain": [
       "['Abbey', 'Abbie', 'Abby', 'Addie', 'Adrian', 'Adrien', 'Ajay', 'Alex', 'Alexis', 'Alfie', 'Ali', 'Alix', 'Allie', 'Allyn', 'Andie', 'Andrea', 'Andy', 'Angel', 'Angie', 'Ariel', 'Ashley', 'Aubrey', 'Augustine', 'Austin', 'Averil', Ellipsis]"
      ]
     },
     "execution_count": 31,
     "metadata": {},
     "output_type": "execute_result"
    }
   ],
   "source": [
    "names = nltk.corpus.names\n",
    "male_names = names.words('male.txt')\n",
    "female_names = names.words('female.txt')\n",
    "[w for w in male_names if w in female_names]\n",
    "['Abbey', 'Abbie', 'Abby', 'Addie', 'Adrian', 'Adrien', 'Ajay', 'Alex', 'Alexis',\n",
    "'Alfie', 'Ali', 'Alix', 'Allie', 'Allyn', 'Andie', 'Andrea', 'Andy', 'Angel',\n",
    "'Angie', 'Ariel', 'Ashley', 'Aubrey', 'Augustine', 'Austin', 'Averil', ...]"
   ]
  },
  {
   "cell_type": "code",
   "execution_count": 32,
   "metadata": {},
   "outputs": [
    {
     "data": {
      "image/png": "[encoded data removed]",
      "text/plain": [
       "<Figure size 432x288 with 1 Axes>"
      ]
     },
     "metadata": {},
     "output_type": "display_data"
    }
   ],
   "source": [
    "cfd = nltk.ConditionalFreqDist(\n",
    "    (fileid,name[-1]) # The last letter of name\n",
    "    for fileid in names.fileids()\n",
    "    for name in names.words(fileid)\n",
    "    )\n",
    "cfd.plot()"
   ]
  },
  {
   "cell_type": "code",
   "execution_count": 33,
   "metadata": {},
   "outputs": [
    {
     "data": {
      "text/plain": [
       "['be', 'bg', 'bs', 'ca', 'cs', 'cu', 'de', 'en', 'es', 'fr', 'hr', 'it', 'la', 'mk', 'nl', 'pl', 'pt', 'ro', 'ru', 'sk', 'sl', 'sr', 'sw', 'uk']"
      ]
     },
     "execution_count": 33,
     "metadata": {},
     "output_type": "execute_result"
    }
   ],
   "source": [
    "swadesh.fileids() #Lists of about 200 common words in several languages"
   ]
  },
  {
   "cell_type": "code",
   "execution_count": 34,
   "metadata": {},
   "outputs": [
    {
     "data": {
      "text/plain": [
       "['yo', 'tú, usted', 'él', 'nosotros', 'vosotros, ustedes', 'ellos, ellas', 'este', 'ese, aquel', 'aquí, acá', 'ahí, allí, allá', 'quien', 'que', 'donde', 'cuando', 'como', 'no', 'todo', 'muchos', 'algunos, unos', 'poco', 'otro', 'uno', 'dos', 'tres', 'cuatro', 'cinco', 'grande', 'largo', 'ancho', 'gordo', 'pesado', 'pequeño', 'corto', 'estrecho, angosto', 'delgado, flaco', 'mujer', 'hombre', 'hombre', 'niño', 'esposa, mujer', 'esposo, marido', 'madre', 'padre', 'animal', 'pez, pescado', 'ave, pájaro', 'perro', 'piojo', 'serpiente, culebra', 'gusano', 'árbol', 'bosque', 'palo', 'fruta', 'semilla', 'hoja', 'raíz', 'corteza', 'flor', 'hierba, pasto', 'cuerda', 'piel', 'carne', 'sangre', 'hueso', 'grasa', 'huevo', 'cuerno', 'cola', 'pluma', 'cabello, pelo', 'cabeza', 'oreja', 'ojo', 'nariz', 'boca', 'diente', 'lengua', 'uña', 'pie', 'pierna', 'rodilla', 'mano', 'ala', 'barriga, vientre, panza', 'entrañas, tripas', 'cuello', 'espalda', 'pecho, seno', 'corazón', 'hígado', 'beber, tomar', 'comer', 'morder', 'chupar', 'escupir', 'vomitar', 'soplar', 'respirar', 'reír', 'ver', 'oír', 'saber', 'pensar', 'oler', 'temer', 'dormir', 'vivir', 'morir', 'matar', 'pelear', 'cazar', 'golpear', 'cortar', 'partir', 'apuñalar', 'arañar, rascar', 'cavar', 'nadar', 'volar', 'caminar', 'venir', 'echarse, acostarse, tenderse', 'sentarse', 'estar de pie', 'voltear', 'caer', 'dar', 'sostener', 'apretar', 'frotar', 'lavar', 'limpiar', 'tirar', 'empujar', 'tirar', 'atar', 'coser', 'contar', 'decir', 'cantar', 'jugar', 'flotar', 'fluir', 'helar', 'hincharse', 'sol', 'luna', 'estrella', 'agua', 'lluvia', 'río', 'lago', 'mar', 'sal', 'piedra', 'arena', 'polvo', 'tierra', 'nube', 'niebla', 'cielo', 'viento', 'nieve', 'hielo', 'humo', 'fuego', 'cenizas', 'quemar', 'camino', 'montaña', 'rojo', 'verde', 'amarillo', 'blanco', 'negro', 'noche', 'día', 'año', 'cálido, tibio', 'frío', 'lleno', 'nuevo', 'viejo', 'bueno', 'malo', 'podrido', 'sucio', 'recto', 'redondo', 'afilado', 'desafilado', 'suave, liso', 'mojado', 'seco', 'correcto', 'cerca', 'lejos', 'derecha', 'izquierda', 'a, en, ante', 'en', 'con', 'y', 'si', 'porque', 'nombre']"
      ]
     },
     "execution_count": 34,
     "metadata": {},
     "output_type": "execute_result"
    }
   ],
   "source": [
    "swadesh.words(\"es\")"
   ]
  },
  {
   "cell_type": "code",
   "execution_count": 35,
   "metadata": {},
   "outputs": [
    {
     "data": {
      "text/plain": [
       "'meat'"
      ]
     },
     "execution_count": 35,
     "metadata": {},
     "output_type": "execute_result"
    }
   ],
   "source": [
    "es2en = swadesh.entries([\"es\",\"en\"])\n",
    "translate = dict(es2en)\n",
    "translate[\"carne\"]"
   ]
  },
  {
   "cell_type": "code",
   "execution_count": 36,
   "metadata": {},
   "outputs": [
    {
     "data": {
      "text/plain": [
       "[Synset('car.n.01')]"
      ]
     },
     "execution_count": 36,
     "metadata": {},
     "output_type": "execute_result"
    }
   ],
   "source": [
    "wn.synsets(\"motorcar\") #synset---> synonim set"
   ]
  },
  {
   "cell_type": "code",
   "execution_count": 37,
   "metadata": {},
   "outputs": [
    {
     "data": {
      "text/plain": [
       "['he needs a car to get to work']"
      ]
     },
     "execution_count": 37,
     "metadata": {},
     "output_type": "execute_result"
    }
   ],
   "source": [
    "wn.synset(\"car.n.01\").definition()\n",
    "wn.synset(\"car.n.01\").examples()"
   ]
  },
  {
   "cell_type": "code",
   "execution_count": 38,
   "metadata": {},
   "outputs": [
    {
     "data": {
      "text/plain": [
       "['car', 'auto', 'automobile', 'machine', 'motorcar']"
      ]
     },
     "execution_count": 38,
     "metadata": {},
     "output_type": "execute_result"
    }
   ],
   "source": [
    "wn.synset('car.n.01').lemma_names() #a collection of synonymous words (or \"lemmas\"):"
   ]
  },
  {
   "cell_type": "code",
   "execution_count": 39,
   "metadata": {},
   "outputs": [
    {
     "data": {
      "text/plain": [
       "[Lemma('car.n.01.car'), Lemma('car.n.01.auto'), Lemma('car.n.01.automobile'), Lemma('car.n.01.machine'), Lemma('car.n.01.motorcar')]"
      ]
     },
     "execution_count": 39,
     "metadata": {},
     "output_type": "execute_result"
    }
   ],
   "source": [
    "wn.synset('car.n.01').lemmas()"
   ]
  },
  {
   "cell_type": "code",
   "execution_count": 40,
   "metadata": {},
   "outputs": [
    {
     "data": {
      "text/plain": [
       "Synset('car.n.01')"
      ]
     },
     "execution_count": 40,
     "metadata": {},
     "output_type": "execute_result"
    }
   ],
   "source": [
    "wn.lemma('car.n.01.automobile').synset()"
   ]
  },
  {
   "cell_type": "code",
   "execution_count": 41,
   "metadata": {},
   "outputs": [
    {
     "data": {
      "text/plain": [
       "'automobile'"
      ]
     },
     "execution_count": 41,
     "metadata": {},
     "output_type": "execute_result"
    }
   ],
   "source": [
    "wn.lemma('car.n.01.automobile').name()"
   ]
  },
  {
   "cell_type": "code",
   "execution_count": 42,
   "metadata": {},
   "outputs": [
    {
     "data": {
      "text/plain": [
       "[Synset('car.n.01'), Synset('car.n.02'), Synset('car.n.03'), Synset('car.n.04'), Synset('cable_car.n.01')]"
      ]
     },
     "execution_count": 42,
     "metadata": {},
     "output_type": "execute_result"
    }
   ],
   "source": [
    "wn.synsets('car')"
   ]
  },
  {
   "cell_type": "code",
   "execution_count": 43,
   "metadata": {},
   "outputs": [
    {
     "name": "stdout",
     "output_type": "stream",
     "text": [
      "['car', 'auto', 'automobile', 'machine', 'motorcar']\n",
      "['car', 'railcar', 'railway_car', 'railroad_car']\n",
      "['car', 'gondola']\n",
      "['car', 'elevator_car']\n",
      "['cable_car', 'car']\n"
     ]
    }
   ],
   "source": [
    "for synset in wn.synsets('car'):\n",
    "     print(synset.lemma_names())"
   ]
  },
  {
   "cell_type": "code",
   "execution_count": 44,
   "metadata": {},
   "outputs": [
    {
     "data": {
      "text/plain": [
       "[Lemma('car.n.01.car'), Lemma('car.n.02.car'), Lemma('car.n.03.car'), Lemma('car.n.04.car'), Lemma('cable_car.n.01.car')]"
      ]
     },
     "execution_count": 44,
     "metadata": {},
     "output_type": "execute_result"
    }
   ],
   "source": [
    "wn.lemmas(\"car\")"
   ]
  },
  {
   "cell_type": "code",
   "execution_count": 45,
   "metadata": {},
   "outputs": [
    {
     "data": {
      "text/plain": [
       "Synset('ambulance.n.01')"
      ]
     },
     "execution_count": 45,
     "metadata": {},
     "output_type": "execute_result"
    }
   ],
   "source": [
    "motorcar = wn.synset('car.n.01')\n",
    "types_of_motorcar = motorcar.hyponyms() #more specific subclass\n",
    "types_of_motorcar[0]"
   ]
  },
  {
   "cell_type": "code",
   "execution_count": 46,
   "metadata": {},
   "outputs": [
    {
     "data": {
      "text/plain": [
       "['Model_T', 'S.U.V.', 'SUV', 'Stanley_Steamer', 'ambulance', 'beach_waggon', 'beach_wagon', 'bus', 'cab', 'compact', 'compact_car', 'convertible', 'coupe', 'cruiser', 'electric', 'electric_automobile', 'electric_car', 'estate_car', 'gas_guzzler', 'hack', 'hardtop', 'hatchback', 'heap', 'horseless_carriage', 'hot-rod', 'hot_rod', 'jalopy', 'jeep', 'landrover', 'limo', 'limousine', 'loaner', 'minicar', 'minivan', 'pace_car', 'patrol_car', 'phaeton', 'police_car', 'police_cruiser', 'prowl_car', 'race_car', 'racer', 'racing_car', 'roadster', 'runabout', 'saloon', 'secondhand_car', 'sedan', 'sport_car', 'sport_utility', 'sport_utility_vehicle', 'sports_car', 'squad_car', 'station_waggon', 'station_wagon', 'stock_car', 'subcompact', 'subcompact_car', 'taxi', 'taxicab', 'tourer', 'touring_car', 'two-seater', 'used-car', 'waggon', 'wagon']"
      ]
     },
     "execution_count": 46,
     "metadata": {},
     "output_type": "execute_result"
    }
   ],
   "source": [
    "sorted(lemma.name() for synset in types_of_motorcar for lemma in synset.lemmas())"
   ]
  },
  {
   "cell_type": "code",
   "execution_count": 47,
   "metadata": {},
   "outputs": [
    {
     "data": {
      "text/plain": [
       "[Synset('motor_vehicle.n.01')]"
      ]
     },
     "execution_count": 47,
     "metadata": {},
     "output_type": "execute_result"
    }
   ],
   "source": [
    "motorcar.hypernyms() #hypernyms (bigger class?)"
   ]
  },
  {
   "cell_type": "code",
   "execution_count": 48,
   "metadata": {},
   "outputs": [
    {
     "data": {
      "text/plain": [
       "2"
      ]
     },
     "execution_count": 48,
     "metadata": {},
     "output_type": "execute_result"
    }
   ],
   "source": [
    "paths = motorcar.hypernym_paths()\n",
    "len(paths)\n"
   ]
  },
  {
   "cell_type": "code",
   "execution_count": 49,
   "metadata": {},
   "outputs": [
    {
     "data": {
      "text/plain": [
       "['entity.n.01', 'physical_entity.n.01', 'object.n.01', 'whole.n.02', 'artifact.n.01', 'instrumentality.n.03', 'container.n.01', 'wheeled_vehicle.n.01', 'self-propelled_vehicle.n.01', 'motor_vehicle.n.01', 'car.n.01']"
      ]
     },
     "execution_count": 49,
     "metadata": {},
     "output_type": "execute_result"
    }
   ],
   "source": [
    "[synset.name() for synset in paths[0]]"
   ]
  },
  {
   "cell_type": "code",
   "execution_count": 50,
   "metadata": {},
   "outputs": [
    {
     "data": {
      "text/plain": [
       "['entity.n.01', 'physical_entity.n.01', 'object.n.01', 'whole.n.02', 'artifact.n.01', 'instrumentality.n.03', 'conveyance.n.03', 'vehicle.n.01', 'wheeled_vehicle.n.01', 'self-propelled_vehicle.n.01', 'motor_vehicle.n.01', 'car.n.01']"
      ]
     },
     "execution_count": 50,
     "metadata": {},
     "output_type": "execute_result"
    }
   ],
   "source": [
    "[synset.name() for synset in paths[1]]"
   ]
  },
  {
   "cell_type": "code",
   "execution_count": 51,
   "metadata": {},
   "outputs": [
    {
     "data": {
      "text/plain": [
       "[Synset('entity.n.01')]"
      ]
     },
     "execution_count": 51,
     "metadata": {},
     "output_type": "execute_result"
    }
   ],
   "source": [
    "motorcar.root_hypernyms()"
   ]
  },
  {
   "cell_type": "code",
   "execution_count": 52,
   "metadata": {},
   "outputs": [
    {
     "data": {
      "text/plain": [
       "[Synset('burl.n.02'), Synset('crown.n.07'), Synset('limb.n.02'), Synset('stump.n.01'), Synset('trunk.n.01')]"
      ]
     },
     "execution_count": 52,
     "metadata": {},
     "output_type": "execute_result"
    }
   ],
   "source": [
    "wn.synset('tree.n.01').part_meronyms() #meronyms is components"
   ]
  },
  {
   "cell_type": "code",
   "execution_count": 53,
   "metadata": {},
   "outputs": [
    {
     "data": {
      "text/plain": [
       "[Synset('heartwood.n.01'), Synset('sapwood.n.01')]"
      ]
     },
     "execution_count": 53,
     "metadata": {},
     "output_type": "execute_result"
    }
   ],
   "source": [
    "wn.synset('tree.n.01').substance_meronyms()"
   ]
  },
  {
   "cell_type": "code",
   "execution_count": 54,
   "metadata": {},
   "outputs": [
    {
     "data": {
      "text/plain": [
       "[Synset('forest.n.01')]"
      ]
     },
     "execution_count": 54,
     "metadata": {},
     "output_type": "execute_result"
    }
   ],
   "source": [
    "wn.synset('tree.n.01').member_holonyms() # things they are contained in (holonyms)"
   ]
  },
  {
   "cell_type": "code",
   "execution_count": 55,
   "metadata": {},
   "outputs": [
    {
     "name": "stdout",
     "output_type": "stream",
     "text": [
      "batch.n.02: (often followed by `of') a large number or amount or extent\n",
      "mint.n.02: any north temperate plant of the genus Mentha with aromatic leaves and small mauve flowers\n",
      "mint.n.03: any member of the mint family of plants\n",
      "mint.n.04: the leaves of a mint plant used fresh or candied\n",
      "mint.n.05: a candy that is flavored with a mint oil\n",
      "mint.n.06: a plant where money is coined by authority of the government\n"
     ]
    }
   ],
   "source": [
    " for synset in wn.synsets('mint', wn.NOUN):\n",
    "   print(synset.name() + ':', synset.definition())"
   ]
  },
  {
   "cell_type": "code",
   "execution_count": 56,
   "metadata": {},
   "outputs": [
    {
     "data": {
      "text/plain": [
       "[Synset('mint.n.02')]"
      ]
     },
     "execution_count": 56,
     "metadata": {},
     "output_type": "execute_result"
    }
   ],
   "source": [
    " wn.synset('mint.n.04').part_holonyms()  "
   ]
  },
  {
   "cell_type": "code",
   "execution_count": 57,
   "metadata": {},
   "outputs": [
    {
     "data": {
      "text/plain": [
       "[Synset('mint.n.05')]"
      ]
     },
     "execution_count": 57,
     "metadata": {},
     "output_type": "execute_result"
    }
   ],
   "source": [
    "wn.synset('mint.n.04').substance_holonyms()"
   ]
  },
  {
   "cell_type": "code",
   "execution_count": 58,
   "metadata": {},
   "outputs": [
    {
     "data": {
      "text/plain": [
       "[Synset('step.v.01')]"
      ]
     },
     "execution_count": 58,
     "metadata": {},
     "output_type": "execute_result"
    }
   ],
   "source": [
    "wn.synset('walk.v.01').entailments() #he act of walking involves the act of stepping, so walking entails stepping. Some verbs have multiple entailments:"
   ]
  },
  {
   "cell_type": "code",
   "execution_count": 59,
   "metadata": {},
   "outputs": [
    {
     "data": {
      "text/plain": [
       "[Synset('chew.v.01'), Synset('swallow.v.01')]"
      ]
     },
     "execution_count": 59,
     "metadata": {},
     "output_type": "execute_result"
    }
   ],
   "source": [
    "wn.synset('eat.v.01').entailments()"
   ]
  },
  {
   "cell_type": "code",
   "execution_count": 60,
   "metadata": {},
   "outputs": [
    {
     "data": {
      "text/plain": [
       "[Synset('arouse.v.07'), Synset('disappoint.v.01')]"
      ]
     },
     "execution_count": 60,
     "metadata": {},
     "output_type": "execute_result"
    }
   ],
   "source": [
    "wn.synset('tease.v.03').entailments()"
   ]
  },
  {
   "cell_type": "code",
   "execution_count": 61,
   "metadata": {},
   "outputs": [
    {
     "data": {
      "text/plain": [
       "[Lemma('vertical.a.01.vertical'), Lemma('inclined.a.02.inclined')]"
      ]
     },
     "execution_count": 61,
     "metadata": {},
     "output_type": "execute_result"
    }
   ],
   "source": [
    "wn.lemma('horizontal.a.01.horizontal').antonyms()"
   ]
  },
  {
   "cell_type": "code",
   "execution_count": 62,
   "metadata": {},
   "outputs": [
    {
     "data": {
      "text/plain": [
       "[Synset('baleen_whale.n.01')]"
      ]
     },
     "execution_count": 62,
     "metadata": {},
     "output_type": "execute_result"
    }
   ],
   "source": [
    "right = wn.synset('right_whale.n.01')\n",
    "orca = wn.synset('orca.n.01')\n",
    "minke = wn.synset('minke_whale.n.01')\n",
    "tortoise = wn.synset('tortoise.n.01')\n",
    "novel = wn.synset('novel.n.01')\n",
    "right.lowest_common_hypernyms(minke)"
   ]
  },
  {
   "cell_type": "code",
   "execution_count": 63,
   "metadata": {},
   "outputs": [
    {
     "data": {
      "text/plain": [
       "[Synset('whale.n.02')]"
      ]
     },
     "execution_count": 63,
     "metadata": {},
     "output_type": "execute_result"
    }
   ],
   "source": [
    "right.lowest_common_hypernyms(orca)"
   ]
  },
  {
   "cell_type": "code",
   "execution_count": 64,
   "metadata": {},
   "outputs": [
    {
     "data": {
      "text/plain": [
       "[Synset('vertebrate.n.01')]"
      ]
     },
     "execution_count": 64,
     "metadata": {},
     "output_type": "execute_result"
    }
   ],
   "source": [
    "right.lowest_common_hypernyms(tortoise)"
   ]
  },
  {
   "cell_type": "code",
   "execution_count": 65,
   "metadata": {},
   "outputs": [
    {
     "data": {
      "text/plain": [
       "[Synset('entity.n.01')]"
      ]
     },
     "execution_count": 65,
     "metadata": {},
     "output_type": "execute_result"
    }
   ],
   "source": [
    "right.lowest_common_hypernyms(novel)"
   ]
  },
  {
   "cell_type": "code",
   "execution_count": 66,
   "metadata": {},
   "outputs": [
    {
     "data": {
      "text/plain": [
       "14"
      ]
     },
     "execution_count": 66,
     "metadata": {},
     "output_type": "execute_result"
    }
   ],
   "source": [
    "wn.synset('baleen_whale.n.01').min_depth()"
   ]
  },
  {
   "cell_type": "code",
   "execution_count": 67,
   "metadata": {},
   "outputs": [
    {
     "data": {
      "text/plain": [
       "0"
      ]
     },
     "execution_count": 67,
     "metadata": {},
     "output_type": "execute_result"
    }
   ],
   "source": [
    "wn.synset('entity.n.01').min_depth()"
   ]
  },
  {
   "cell_type": "code",
   "execution_count": 68,
   "metadata": {},
   "outputs": [
    {
     "data": {
      "text/plain": [
       "0.25"
      ]
     },
     "execution_count": 68,
     "metadata": {},
     "output_type": "execute_result"
    }
   ],
   "source": [
    "right.path_similarity(minke)"
   ]
  },
  {
   "cell_type": "code",
   "execution_count": 69,
   "metadata": {},
   "outputs": [
    {
     "data": {
      "text/plain": [
       "0.043478260869565216"
      ]
     },
     "execution_count": 69,
     "metadata": {},
     "output_type": "execute_result"
    }
   ],
   "source": [
    "right.path_similarity(novel)"
   ]
  },
  {
   "cell_type": "markdown",
   "metadata": {},
   "source": [
    "# End of Chapter 2"
   ]
  },
  {
   "cell_type": "markdown",
   "metadata": {},
   "source": [
    "◑ Define a conditional frequency distribution over the Names corpus that allows you to see which initial letters are more frequent for males vs. females (cf. 4.4)."
   ]
  },
  {
   "cell_type": "code",
   "execution_count": 70,
   "metadata": {},
   "outputs": [
    {
     "data": {
      "image/png": "[encoded data removed]",
      "text/plain": [
       "<Figure size 432x288 with 1 Axes>"
      ]
     },
     "metadata": {},
     "output_type": "display_data"
    }
   ],
   "source": [
    "cfd = nltk.ConditionalFreqDist(\n",
    "    (fileid,name[0]) # The first letter of name\n",
    "    for fileid in names.fileids()\n",
    "    for name in names.words(fileid)\n",
    "    )\n",
    "cfd.plot()"
   ]
  },
  {
   "cell_type": "markdown",
   "metadata": {},
   "source": [
    "◑ Read the BBC News article: UK's Vicky Pollards 'left behind' http://news.bbc.co.uk/1/hi/education/6173441.stm. The article gives the following statistic about teen language: \"the top 20 words used, including yeah, no, but and like, account for around a third of all words.\" How many word types account for a third of all word tokens, for a variety of text sources? What do you conclude about this statistic? Read more about this on LanguageLog, at http://itre.cis.upenn.edu/~myl/languagelog/archives/003993.html."
   ]
  },
  {
   "cell_type": "markdown",
   "metadata": {},
   "source": [
    "**I used the conversations given in**\n",
    "http://itre.cis.upenn.edu/~myl/languagelog/archives/003993.html."
   ]
  },
  {
   "cell_type": "code",
   "execution_count": 71,
   "metadata": {},
   "outputs": [
    {
     "name": "stdout",
     "output_type": "stream",
     "text": [
      "A third of this conversation would be 19 words\n",
      "A third of this conversation would be 14 words\n",
      "A third of this conversation would be 29 words\n",
      "A third of this conversation would be 16 words\n",
      "A third of this conversation would be 10 words\n",
      "A third of this conversation would be 9 words\n",
      "[('I', 6), ('to', 6), ('t', 4)]\n",
      "[('that', 4), ('I', 3), ('s', 3), ('don', 2), ('t', 2)]\n",
      "[('I', 9), ('know', 6), ('you', 5), ('m', 4), ('watching', 4), ('t', 3)]\n",
      "[('us', 2), ('t', 2), ('to', 2), ('you', 2), ('Precisely', 1), ('plus', 1), ('let', 1), ('face', 1)]\n",
      "[('a', 3), ('the', 2), ('I', 1), ('d', 1), ('love', 1), ('to', 1), ('have', 1)]\n",
      "[('the', 2), ('is', 2), ('So', 1), ('unfortunately', 1), ('I', 1), ('came', 1), ('to', 1)]\n"
     ]
    }
   ],
   "source": [
    "wordlists = PlaintextCorpusReader(\"\",['Xconv1.txt', 'Xconv2.txt', 'Xconv3.txt', 'Yconv1.txt', 'Yconv2.txt', 'Yconv3.txt'])\n",
    "conversations=[]\n",
    "fqDis = []\n",
    "i=0\n",
    "for id in wordlists.fileids():\n",
    "    conversations.append([word for word in wordlists.words(id) if word.isalpha()])\n",
    "    print (\"A third of this conversation would be\",round(len(conversations[i])/3),\"words\")\n",
    "    fqDis.append( nltk.FreqDist(conversations[i]))\n",
    "    i+=1\n",
    "\n",
    "print(fqDis[0].most_common(3)) # The 3 most common words represent a third of the text\n",
    "print(fqDis[1].most_common(5))  # The 5 most common words represent a third of the text\n",
    "print(fqDis[2].most_common(6)) # The 6 most common words represent a third of the text\n",
    "print(fqDis[3].most_common(8)) # The 8 most common words represent a third of the text\n",
    "print(fqDis[4].most_common(7)) # The 7 most common words represent a third of the text\n",
    "print(fqDis[5].most_common(7))# The 7 most common words represent a third of the text\n"
   ]
  },
  {
   "cell_type": "markdown",
   "metadata": {},
   "source": [
    "**Conclusion:**\n",
    "Since the subject X is the \"owner\" of  the first 3 conversations, I would say his lexical diversity is less than the Y subject. (Also it tell us something interesting about Ms X personality the fact that the word \"I\" was always in the top 2 of her most common words ;) )"
   ]
  },
  {
   "cell_type": "markdown",
   "metadata": {},
   "source": [
    "# Day3"
   ]
  },
  {
   "cell_type": "markdown",
   "metadata": {},
   "source": [
    "- Do research to see what Python libraries are already in existence that you could start using in your day-jo"
   ]
  },
  {
   "cell_type": "markdown",
   "metadata": {},
   "source": [
    "I work building VR experiences with unity, the tensorflow module for machine learning is the most relevant and official module wich connect unity and python (Week 4 is going to be super relevant for me) https://blogs.unity3d.com/es/2017/09/19/introducing-unity-machine-learning-agents/\n",
    "\n",
    "There is a fe unfficial modules to add python commands to unity developed by the community : \n",
    "- https://github.com/exodrifter/unity-python\n",
    "- https://assetstore.unity.com/packages/tools/integration/python-interpreter-645\n",
    "- https://pypi.org/project/unityapiclient/\n"
   ]
  },
  {
   "cell_type": "markdown",
   "metadata": {},
   "source": [
    "- #5 ☼ Investigate the holonym-meronym relations for some nouns. Remember that there are three kinds of holonym-meronym relation, so you need to use: member_meronyms(), part_meronyms(), substance_meronyms(), member_holonyms(), part_holonyms(), and substance_holonyms().\n"
   ]
  },
  {
   "cell_type": "code",
   "execution_count": 72,
   "metadata": {},
   "outputs": [
    {
     "name": "stdout",
     "output_type": "stream",
     "text": [
      "[]\n",
      "[Synset('bridge.n.08')]\n",
      "[]\n",
      "[]\n",
      "[Synset('frame.n.01')]\n",
      "[]\n"
     ]
    }
   ],
   "source": [
    "wn.synsets(\"glasses\")\n",
    "my_synset = wn.synset('spectacles.n.01')\n",
    "print(my_synset.member_meronyms())\n",
    "print(my_synset.part_meronyms())\n",
    "print(my_synset.substance_meronyms())\n",
    "print(my_synset.member_holonyms())\n",
    "print(my_synset.part_holonyms())\n",
    "print(my_synset.substance_holonyms())"
   ]
  },
  {
   "cell_type": "markdown",
   "metadata": {},
   "source": [
    "- #13 ◑ What percentage of noun synsets have no hyponyms? You can get all noun synsets using wn.all_synsets('n').\n"
   ]
  },
  {
   "cell_type": "code",
   "execution_count": 73,
   "metadata": {},
   "outputs": [
    {
     "name": "stdout",
     "output_type": "stream",
     "text": [
      "79.67119283931072 % of the available synsets have no hyponyms\n"
     ]
    }
   ],
   "source": [
    "synsetcount = 0\n",
    "synset_noHypo = 0\n",
    "for synset in list(wn.all_synsets('n')):\n",
    "    synsetcount +=1\n",
    "    if(len(synset.hyponyms()) ==0):\n",
    "        synset_noHypo += 1\n",
    "\n",
    "print((synset_noHypo*100/synsetcount),\"% of the available synsets have no hyponyms\")\n"
   ]
  },
  {
   "cell_type": "markdown",
   "metadata": {},
   "source": [
    "-  #14 ◑ Define a function supergloss(s) that takes a synset s as its argument and returns a string consisting of the concatenation of the definition of s, and the definitions of all the hypernyms and hyponyms of s."
   ]
  },
  {
   "cell_type": "code",
   "execution_count": 74,
   "metadata": {},
   "outputs": [
    {
     "data": {
      "text/plain": [
       "'spectacles.n.01: optical instrument consisting of a frame that holds a pair of lenses for correcting defective vision\\n HYPERNYMS \\noptical_instrument.n.01 : an instrument designed to aid vision\\n  HYPONYMS \\n bifocals.n.01 : eyeglasses having two focal lengths, one for near vision and the other for far vision\\ngoggles.n.01 : tight-fitting spectacles worn to protect the eyes\\nlorgnette.n.01 : eyeglasses that are held to the eyes with a long handle\\npince-nez.n.01 : spectacles clipped to the nose by a spring\\nsunglasses.n.01 : spectacles that are darkened or polarized to protect the eyes from the glare of the sun\\n'"
      ]
     },
     "execution_count": 74,
     "metadata": {},
     "output_type": "execute_result"
    }
   ],
   "source": [
    "def supergloss(s):\n",
    "    definition = str(s.name())+ \": \" + str(s.definition()) +'\\n'\n",
    "    def_hyper =\"\"\n",
    "    def_hypo=\"\"\n",
    "\n",
    "    for hyper in s.hypernyms():\n",
    "        def_hyper += str(hyper.name())+\" : \" + str(hyper.definition()) + '\\n '\n",
    "\n",
    "    for hypo in s.hyponyms():\n",
    "        def_hypo +=  str(hypo.name())+\" : \" + str(hypo.definition()) + '\\n'\n",
    "        \n",
    "    return definition+\" HYPERNYMS \\n\"+ def_hyper + \" HYPONYMS \\n \"+ def_hypo\n",
    "\n",
    "supergloss(my_synset)"
   ]
  },
  {
   "cell_type": "markdown",
   "metadata": {},
   "source": [
    "# Day4"
   ]
  },
  {
   "cell_type": "markdown",
   "metadata": {},
   "source": [
    "☼ Describe the class of strings matched by the following regular expressions.\n",
    "\n",
    "- [a-zA-Z]+ \n",
    "- [A-Z][a-z]* \n",
    "- p[aeiou]{,2}t \n",
    "- \\d+(.\\d+)? \n",
    "- ([^aeiou][aeiou][^aeiou])* \n",
    "- \\w+|[^\\w\\s]+ \n",
    "\n",
    "Test your answers using nltk.re_show()."
   ]
  },
  {
   "cell_type": "code",
   "execution_count": 102,
   "metadata": {},
   "outputs": [],
   "source": [
    "#wordlist = [w for w in nltk.corpus.words.words('en') if w.islower()]\n",
    "wordlist = [w for w in nltk.corpus.words.words('en') ]\n",
    "wordlist.append('56.57')\n",
    "wordlist.append('25')\n",
    "#[a-zA-Z]+ : Since + is for One or more of the alphabetic characters,\n",
    "#this class of strings will be any token with no numeric/symbols character on it\n",
    "just_alphabetic_any_lenght=[w for w in wordlist if re.search('[a-zA-Z]+', w)]\n",
    "#this one starts with any capital letter and then it will have any other number of lower cased letters\n",
    "just_alphabetic_firstLetter_Upper= [w for w in wordlist if re.search('[A-Z][a-z]*', w)]\n",
    "#These words MUST start with the letter \"p\" and finish with \"t\", they may have up to 2 vowels\n",
    "p_1or2vowels_t =[w for w in wordlist if re.search('^p[aeiou]{,2}t$', w)]\n",
    "#These list would have numbers (float) with just an integer part or optional integer part\n",
    "ints_and_floats= [w for w in wordlist if re.search('\\d+(.\\d+)?', w)]\n",
    "#the folowwing are words that can contain 1 or more vowels\n",
    "words_with_vowels=[w for w in wordlist if re.search('([^aeiou][aeiou][^aeiou])*', w)]\n",
    "#These group contains words formet with one or more alphanumeric characters OR \n",
    "# alphanumeric characters and one whitespaces together\n",
    "anylenght_alphanum_witheSpace= [w for w in wordlist if re.search('\\w+|[^\\w\\s]+', w)]"
   ]
  },
  {
   "cell_type": "code",
   "execution_count": 126,
   "metadata": {},
   "outputs": [
    {
     "name": "stdout",
     "output_type": "stream",
     "text": [
      "﻿{The} {Project} {Gutenberg} {EBook} {of} {Crime} {and} {Punishment}, {by} {Fyodor} {Dostoevsky}\r\n",
      "\r\n",
      "{This} {eBook} {is} {for} {the} {use} {of} {anyone} {anywhere} {at} {no} {cost} {and} {with}\r\n",
      "{almost} {no} {restrictions} {whatsoever}.  {You} {may} {copy} {it}, {give} {it} {away} {or}\r\n",
      "{re}-{use} {it} {under} {the} {terms} {of} {the} {Project} {Gutenberg} {License} {included}\r\n",
      "{with} {this} {eBook} {or} {online} {at} {www}.{gutenberg}.{org}\r\n",
      "\r\n",
      "\r\n",
      "{Title}: {Crime} {and} {Punishment}\r\n",
      "\r\n",
      "{Author}: {Fyodor} {Dostoevsky}\r\n",
      "\r\n",
      "{Release} {Date}: {March} 28, 2006 [{EBook} #2554]\r\n",
      "{Last} {Updated}: {October} 27, 2016\r\n",
      "\r\n",
      "{Language}: {English}\r\n",
      "\r\n",
      "{Character} {set} {encoding}: {UTF}-8\r\n",
      "\r\n",
      "*** {START} {OF} {THIS} {PROJECT} {GUTENBERG} {EBOOK} {CRIME} {AND} {PUNISHMENT} ***\r\n",
      "\r\n",
      "\r\n",
      "\r\n",
      "\r\n",
      "{Produced} {by} {John} {Bickers}; {and} {Dagny}\r\n",
      "\r\n",
      "\r\n",
      "\r\n",
      "\r\n",
      "\r\n",
      "{CRIME} {AND} {PUNISHMENT}\r\n",
      "\r\n",
      "{By} {Fyodor} {Dostoevsky}\r\n",
      "\r\n",
      "\r\n",
      "\r\n",
      "{Translated} {By} {Constance} {Garnett}\r\n",
      "\r\n",
      "\r\n",
      "\r\n",
      "\r\n",
      "{TRANSLATOR}’{S} {PREFACE}\r\n",
      "\r\n",
      "{A} {few} {words} {about} {Dostoevsky} {himself} {may} {help} {the} {English} {reader} {to}\r\n",
      "{understand} {his} {work}.\r\n",
      "\r\n",
      "{Dostoevsky} {was} {the} {son} {of} {a} {doctor}. {His} {parents} {were} {very} {hard}-{working}\r\n",
      "{and} {deeply} {religious} {people}, {but} {so} {poor} {that} {they} {lived} {with} {their} {five}\r\n",
      "{children} {in} {only} {two} {rooms}. {The} {father} {and} {mother} {spent} {their} {evenings}\r\n",
      "{in} {reading} {aloud} {to} {their} {children}, {generally} {from} {books} {of} {a} {serious}\r\n",
      "{character}.\r\n",
      "\r\n",
      "{Though} {always} {sickly} {and} {delicate} {Dostoevsky} {came} {out} {third} {in} {the}\r\n",
      "{final} {examination} {of} {the} {Petersburg} {school} {of} {Engineering}. {There} {he} {had}\r\n",
      "{already} {begun} {his} {first} {work}, “{Poor} {Folk}.”\r\n",
      "\r\n",
      "{This} {story} {was} {published} {by} {the} {poet} {Nekrassov} {in} {his} {review} {and}\r\n",
      "{was} {received} {with} {acclamations}. {The} {shy}, {unknown} {youth} {found} {himself}\r\n",
      "{instantly} {something} {of} {a} {celebrity}. {A} {brilliant} {and} {successful} {career}\r\n",
      "{seemed} {to} {open} {before} {him}, {but} {those} {hopes} {were} {soon} {dashed}. {In} 1849 {he}\r\n",
      "{was} {arrested}.\r\n",
      "\r\n",
      "{Though} {neither} {by} {temperament} {nor} {conviction} {a} {revolutionist}, {Dostoevsky}\r\n",
      "{was} {one} {of} {a} {little} {group} {of} {young} {men} {who} {met} {together} {to} {read} {Fourier}\r\n",
      "{and} {Proudhon}. {He} {was} {accused} {of} “{taking} {part} {in} {conversations} {against}\r\n",
      "{the} {censorship}, {of} {reading} {a} {letter} {from} {Byelinsky} {to} {Gogol}, {and} {of}\r\n",
      "{knowing} {of} {the} {intention} {to} {set} {up} {a} {printing} {press}.” {Under} {Nicholas}\r\n",
      "{I}. ({that} “{stern} {and} {just} {man},” {as} {Maurice} {Baring} {calls} {him}) {this} {was}\r\n",
      "{enough}, {and} {he} {was} {condemned} {to} {death}. {After} {eight} {months}’ {imprisonment}\r\n",
      "{he} {was} {with} {twenty}-{one} {others} {taken} {out} {to} {the} {Semyonovsky} {Square} {to}\r\n",
      "{be} {shot}. {Writing} {to} {his} {brother} {Mihail}, {Dostoevsky} {says}: “{They} {snapped}\r\n",
      "{words} {over} {our} {heads}, {and} {they} {made} {us} {put} {on} {the} {white} {shirts} {worn} {by}\r\n",
      "{persons} {condemned} {to} {death}. {Thereupon} {we} {were} {bound} {in} {threes} {to} {stakes},\r\n",
      "{to} {suffer} {execution}. {Being} {the} {third} {in} {the} {row}, {I} {concluded} {I} {had} {only}\r\n",
      "{a} {few} {minutes} {of} {life} {before} {me}. {I} {thought} {of} {you} {and} {your} {dear} {ones} {and}\r\n",
      "{I} {contrived} {to} {kiss} {Plestcheiev} {and} {Dourov}, {who} {were} {next} {to} {me}, {and} {to}\r\n",
      "{bid} {them} {farewell}. {Suddenly} {the} {troops} {beat} {a} {tattoo}, {we} {were} {unbound},\r\n",
      "{brought} {back} {upon} {the} {scaffold}, {and} {informed} {that} {his} {Majesty} {had} {spared}\r\n",
      "{us} {our} {lives}.” {The} {sentence} {was} {commuted} {to} {hard} {labour}.\r\n",
      "\r\n",
      "{One} {of} {the} {prisoners}, {Grigoryev}, {went} {mad} {as} {soon} {as} {he} {was} {untied}, {and}\r\n",
      "{never} {regained} {his} {sanity}.\r\n",
      "\r\n",
      "{The} {intense} {suffering} {of} {this} {experience} {left} {a} {lasting} {stamp} {on}\r\n",
      "{Dostoevsky}’{s} {mind}. {Though} {his} {religious} {temper} {led} {him} {in} {the} {end} {to}\r\n",
      "{accept} {every} {suffering} {with} {resignation} {and} {to} {regard} {it} {as} {a} {blessing}\r\n",
      "{in} {his} {own} {case}, {he} {constantly} {recurs} {to} {the} {subject} {in} {his} {writings}.\r\n",
      "{He} {describes} {the} {awful} {agony} {of} {the} {condemned} {man} {and} {insists} {on} {the}\r\n",
      "{cruelty} {of} {inflicting} {such} {torture}. {Then} {followed} {four} {years} {of} {penal}\r\n",
      "{servitude}, {spent} {in} {the} {company} {of} {common} {criminals} {in} {Siberia}, {where}\r\n",
      "{he} {began} {the} “{Dead} {House},” {and} {some} {years} {of} {service} {in} {a} {disciplinary}\r\n",
      "{battalion}.\r\n",
      "\r\n",
      "{He} {had} {shown} {signs} {of} {some} {obscure} {nervous} {disease} {before} {his} {arrest}\r\n",
      "{and} {this} {now} {developed} {into} {violent} {attacks} {of} {epilepsy}, {from} {which} {he}\r\n",
      "{suffered} {for} {the} {rest} {of} {his} {life}. {The} {fits} {occurred} {three} {or} {four} {times}\r\n",
      "{a} {year} {and} {were} {more} {frequent} {in} {periods} {of} {great} {strain}. {In} 1859 {he} {was}\r\n",
      "{allowed} {to} {return} {to} {Russia}. {He} {started} {a} {journal}--“{Vremya},” {which} {was}\r\n",
      "{forbidden} {by} {the} {Censorship} {through} {a} {misunderstanding}. {In} 1864 {he} {lost}\r\n",
      "{his} {first} {wife} {and} {his} {brother} {Mihail}. {He} {was} {in} {terrible} {poverty}, {yet}\r\n",
      "{he} {took} {upon} {himself} {the} {payment} {of} {his} {brother}’{s} {debts}. {He} {started}\r\n",
      "{another} {journal}--“{The} {Epoch},” {which} {within} {a} {few} {months} {was} {also}\r\n",
      "{prohibited}. {He} {was} {weighed} {down} {by} {debt}, {his} {brother}’{s} {family} {was}\r\n",
      "{dependent} {on} {him}, {he} {was} {forced} {to} {write} {at} {heart}-{breaking} {speed}, {and} {is}\r\n",
      "{said} {never} {to} {have} {corrected} {his} {work}. {The} {later} {years} {of} {his} {life} {were}\r\n",
      "{much} {softened} {by} {the} {tenderness} {and} {devotion} {of} {his} {second} {wife}.\r\n",
      "\r\n",
      "{In} {June} 1880 {he} {made} {his} {famous} {speech} {at} {the} {unveiling} {of} {the}\r\n",
      "{monument} {to} {Pushkin} {in} {Moscow} {and} {he} {was} {received} {with} {extraordinary}\r\n",
      "{demonstrations} {of} {love} {and} {honour}.\r\n",
      "\r\n",
      "{A} {few} {months} {later} {Dostoevsky} {died}. {He} {was} {followed} {to} {the} {grave} {by} {a}\r\n",
      "{vast} {multitude} {of} {mourners}, {who} “{gave} {the} {hapless} {man} {the} {funeral} {of} {a}\r\n",
      "{king}.” {He} {is} {still} {probably} {the} {most} {widely} {read} {writer} {in} {Russia}.\r\n",
      "\r\n",
      "{In} {the} {words} {of} {a} {Russian} {critic}, {who} {seeks} {to} {explain} {the} {feeling}\r\n",
      "{inspired} {by} {Dostoevsky}: “{He} {was} {one} {of} {ourselves}, {a} {man} {of} {our} {blood} {and}\r\n",
      "{our} {bone}, {but} {one} {who} {has} {suffered} {and} {has} {seen} {so} {much} {more} {deeply} {than}\r\n",
      "{we} {have} {his} {insight} {impresses} {us} {as} {wisdom}... {that} {wisdom} {of} {the} {heart}\r\n",
      "{which} {we} {seek} {that} {we} {may} {learn} {from} {it} {how} {to} {live}. {All} {his} {other}\r\n",
      "{gifts} {came} {to} {him} {from} {nature}, {this} {he} {won} {for} {himself} {and} {through} {it} {he}\r\n",
      "{became} {great}.”\r\n",
      "\r\n",
      "\r\n",
      "\r\n",
      "\r\n",
      "\r\n",
      "{CRIME} {AND} {PUNISHMENT}\r\n",
      "\r\n",
      "\r\n",
      "\r\n",
      "\r\n",
      "{PART} {I}\r\n",
      "\r\n",
      "\r\n",
      "\r\n",
      "{CHAPTER} {I}\r\n",
      "\r\n",
      "{On} {an} {exceptionally} {hot} {evening} {early} {in} {July} {a} {young} {man} {came} {out} {of}\r\n",
      "{the} {garret} {in} {which} {he} {lodged} {in} {S}. {Place} {and} {walked} {slowly}, {as} {though}\r\n",
      "{in} {hesitation}, {towards} {K}. {bridge}.\r\n",
      "\r\n",
      "{He} {had} {successfully} {avoided} {meeting} {his} {landlady} {on} {the} {staircase}. {His}\r\n",
      "{garret} {was} {under} {the} {roof} {of} {a} {high}, {five}-{storied} {house} {and} {was} {more}\r\n",
      "{like} {a} {cupboard} {than} {a} {room}. {The} {landlady} {who} {provided} {him} {with} {garret},\r\n",
      "{dinners}, {and} {attendance}, {lived} {on} {the} {floor} {below}, {and} {every} {time}\r\n",
      "{he} {went} {out} {he} {was} {obliged} {to} {pass} {her} {kitchen}, {the} {door} {of} {which}\r\n",
      "{invariably} {stood} {open}. {And} {each} {time} {he} {passed}, {the} {young} {man} {had} {a}\r\n",
      "{sick}, {frightened} {feeling}, {which} {made} {him} {scowl} {and} {feel} {ashamed}. {He} {was}\r\n",
      "{hopelessly} {in} {debt} {to} {his} {landlady}, {and} {was} {afraid} {of} {meeting} {her}.\r\n",
      "\r\n",
      "{This} {was} {not} {because} {he} {was} {cowardly} {and} {abject}, {quite} {the} {contrary}; {but}\r\n",
      "{for} {some} {time} {past} {he} {had} {been} {in} {an} {overstrained} {irritable} {condition},\r\n",
      "{verging} {on} {hypochondria}. {He} {had} {become} {so} {completely} {absorbed} {in}\r\n",
      "{himself}, {and} {isolated} {from} {his} {fellows} {that} {he} {dreaded} {meeting}, {not}\r\n",
      "{only} {his} {landlady}, {but} {anyone} {at} {all}. {He} {was} {crushed} {by} {poverty}, {but} {the}\r\n",
      "{anxieties} {of} {his} {position} {had} {of} {late} {ceased} {to} {weigh} {upon} {him}. {He} {had}\r\n",
      "{given} {up} {attending} {to} {matters} {of} {practical} {importance}; {he} {had} {lost} {all}\r\n",
      "{desire} {to} {do} {so}. {Nothing} {that} {any} {landlady} {could} {do} {had} {a} {real} {terror}\r\n",
      "{for} {him}. {But} {to} {be} {stopped} {on} {the} {stairs}, {to} {be} {forced} {to} {listen} {to} {her}\r\n",
      "{trivial}, {irrelevant} {gossip}, {to} {pestering} {demands} {for} {payment}, {threats}\r\n",
      "{and} {complaints}, {and} {to} {rack} {his} {brains} {for} {excuses}, {to} {prevaricate}, {to}\r\n",
      "{lie}--{no}, {rather} {than} {that}, {he} {would} {creep} {down} {the} {stairs} {like} {a} {cat} {and}\r\n",
      "{slip} {out} {unseen}.\r\n",
      "\r\n",
      "{This} {evening}, {however}, {on} {coming} {out} {into} {the} {street}, {he} {became} {acutely}\r\n",
      "{aware} {of} {his} {fears}.\r\n",
      "\r\n",
      "“{I} {want} {to} {attempt} {a} {thing} _{like} {that}_ {and} {am} {frightened} {by} {these}\r\n",
      "{trifles},” {he} {thought}, {with} {an} {odd} {smile}. “{Hm}... {yes}, {all} {is} {in} {a} {man}’{s}\r\n",
      "{hands} {and} {he} {lets} {it} {all} {slip} {from} {cowardice}, {that}’{s} {an} {axiom}. {It} {would}\r\n",
      "{be} {interesting} {to} {know} {what} {it} {is} {men} {are} {most} {afraid} {of}. {Taking} {a} {new}\r\n",
      "{step}, {uttering} {a} {new} {word} {is} {what} {they} {fear} {most}.... {But} {I} {am} {talking}\r\n",
      "{too} {much}. {It}’{s} {because} {I} {chatter} {that} {I} {do} {nothing}. {Or} {perhaps} {it} {is}\r\n",
      "{that} {I} {chatter} {because} {I} {do} {nothing}. {I}’{ve} {learned} {to} {chatter} {this}\r\n",
      "{last} {month}, {lying} {for} {days} {together} {in} {my} {den} {thinking}... {of} {Jack} {the}\r\n",
      "{Giant}-{killer}. {Why} {am} {I} {going} {there} {now}? {Am} {I} {capable} {of} _{that}_? {Is}\r\n",
      "_{that}_ {serious}? {It} {is} {not} {serious} {at} {all}. {It}’{s} {simply} {a} {fantasy} {to} {amuse}\r\n",
      "{myself}; {a} {plaything}! {Yes}, {maybe} {it} {is} {a} {plaything}.”\r\n",
      "\r\n",
      "{The} {heat} {in} {the} {street} {was} {terrible}: {and} {the} {airlessness}, {the} {bustle}\r\n",
      "{and} {the} {plaster}, {scaffolding}, {bricks}, {and} {dust} {all} {about} {him}, {and} {that}\r\n",
      "{special} {Petersburg} {stench}, {so} {familiar} {to} {all} {who} {are} {unable} {to} {get} {out}\r\n",
      "{of} {town} {in} {summer}--{all} {worked} {painfully} {upon} {the} {young} {man}’{s} {already}\r\n",
      "{overwrought} {nerves}. {The} {insufferable} {stench} {from} {the} {pot}-{houses}, {which}\r\n",
      "{are} {particularly} {numerous} {in} {that} {part} {of} {the} {town}, {and} {the} {drunken} {men}\r\n",
      "{whom} {he} {met} {continually}, {although} {it} {was} {a} {working} {day}, {completed}\r\n",
      "{the} {revolting} {misery} {of} {the} {picture}. {An} {expression} {of} {the} {profoundest}\r\n",
      "{disgust} {gleamed} {for} {a} {moment} {in} {the} {young} {man}’{s} {refined} {face}. {He} {was},\r\n",
      "{by} {the} {way}, {exceptionally} {handsome}, {above} {the} {average} {in} {height}, {slim},\r\n",
      "{well}-{built}, {with} {beautiful} {dark} {eyes} {and} {dark} {brown} {hair}. {Soon} {he} {sank}\r\n",
      "{into} {deep} {thought}, {or} {more} {accurately} {speaking} {into} {a} {complete} {blankness}\r\n",
      "{of} {mind}; {he} {walked} {along} {not} {observing} {what} {was} {about} {him} {and} {not} {caring}\r\n",
      "{to} {observe} {it}. {From} {time} {to} {time}, {he} {would} {mutter} {something}, {from} {the}\r\n",
      "{habit} {of} {talking} {to} {himself}, {to} {which} {he} {had} {just} {confessed}. {At} {these}\r\n",
      "{moments} {he} {would} {become} {conscious} {that} {his} {ideas} {were} {sometimes} {in} {a}\r\n",
      "{tangle} {and} {that} {he} {was} {very} {weak}; {for} {two} {days} {he} {had} {scarcely} {tasted}\r\n",
      "{food}.\r\n",
      "\r\n",
      "{He} {was} {so} {badly} {dressed} {that} {even} {a} {man} {accustomed} {to} {shabbiness} {would}\r\n",
      "{have} {been} {ashamed} {to} {be} {seen} {in} {the} {street} {in} {such} {rags}. {In} {that} {quarter}\r\n",
      "{of} {the} {town}, {however}, {scarcely} {any} {shortcoming} {in} {dress} {would} {have}\r\n",
      "{created} {surprise}. {Owing} {to} {the} {proximity} {of} {the} {Hay} {Market}, {the} {number}\r\n",
      "{of} {establishments} {of} {bad} {character}, {the} {preponderance} {of} {the} {trading}\r\n",
      "{and} {working} {class} {population} {crowded} {in} {these} {streets} {and} {alleys} {in} {the}\r\n",
      "{heart} {of} {Petersburg}, {types} {so} {various} {were} {to} {be} {seen} {in} {the} {streets}\r\n",
      "{that} {no} {figure}, {however} {queer}, {would} {have} {caused} {surprise}. {But} {there} {was}\r\n",
      "{such} {accumulated} {bitterness} {and} {contempt} {in} {the} {young} {man}’{s} {heart}, {that},\r\n",
      "{in} {spite} {of} {all} {the} {fastidiousness} {of} {youth}, {he} {minded} {his} {rags} {least}\r\n",
      "{of} {all} {in} {the} {street}. {It} {was} {a} {different} {matter} {when} {he} {met} {with}\r\n",
      "{acquaintances} {or} {with} {former} {fellow} {students}, {whom}, {indeed}, {he} {disliked}\r\n",
      "{meeting} {at} {any} {time}. {And} {yet} {when} {a} {drunken} {man} {who}, {for} {some} {unknown}\r\n",
      "{reason}, {w}\n"
     ]
    }
   ],
   "source": [
    "from urllib import request\n",
    "url = \"http://www.gutenberg.org/files/2554/2554-0.txt\"\n",
    "response = request.urlopen(url)\n",
    "raw = response.read().decode('utf8')\n",
    "raw = raw[:10000] #I cutted the data because some searches were making my laptop crash\n",
    "#this class of strings will be any token with no numeric/symbols character on it\n",
    "nltk.re_show('[a-zA-Z]+',raw)\n"
   ]
  },
  {
   "cell_type": "code",
   "execution_count": 127,
   "metadata": {},
   "outputs": [
    {
     "name": "stdout",
     "output_type": "stream",
     "text": [
      "﻿{The} {Project} {Gutenberg} {E}{Book} of {Crime} and {Punishment}, by {Fyodor} {Dostoevsky}\r\n",
      "\r\n",
      "{This} e{Book} is for the use of anyone anywhere at no cost and with\r\n",
      "almost no restrictions whatsoever.  {You} may copy it, give it away or\r\n",
      "re-use it under the terms of the {Project} {Gutenberg} {License} included\r\n",
      "with this e{Book} or online at www.gutenberg.org\r\n",
      "\r\n",
      "\r\n",
      "{Title}: {Crime} and {Punishment}\r\n",
      "\r\n",
      "{Author}: {Fyodor} {Dostoevsky}\r\n",
      "\r\n",
      "{Release} {Date}: {March} 28, 2006 [{E}{Book} #2554]\r\n",
      "{Last} {Updated}: {October} 27, 2016\r\n",
      "\r\n",
      "{Language}: {English}\r\n",
      "\r\n",
      "{Character} set encoding: {U}{T}{F}-8\r\n",
      "\r\n",
      "*** {S}{T}{A}{R}{T} {O}{F} {T}{H}{I}{S} {P}{R}{O}{J}{E}{C}{T} {G}{U}{T}{E}{N}{B}{E}{R}{G} {E}{B}{O}{O}{K} {C}{R}{I}{M}{E} {A}{N}{D} {P}{U}{N}{I}{S}{H}{M}{E}{N}{T} ***\r\n",
      "\r\n",
      "\r\n",
      "\r\n",
      "\r\n",
      "{Produced} by {John} {Bickers}; and {Dagny}\r\n",
      "\r\n",
      "\r\n",
      "\r\n",
      "\r\n",
      "\r\n",
      "{C}{R}{I}{M}{E} {A}{N}{D} {P}{U}{N}{I}{S}{H}{M}{E}{N}{T}\r\n",
      "\r\n",
      "{By} {Fyodor} {Dostoevsky}\r\n",
      "\r\n",
      "\r\n",
      "\r\n",
      "{Translated} {By} {Constance} {Garnett}\r\n",
      "\r\n",
      "\r\n",
      "\r\n",
      "\r\n",
      "{T}{R}{A}{N}{S}{L}{A}{T}{O}{R}’{S} {P}{R}{E}{F}{A}{C}{E}\r\n",
      "\r\n",
      "{A} few words about {Dostoevsky} himself may help the {English} reader to\r\n",
      "understand his work.\r\n",
      "\r\n",
      "{Dostoevsky} was the son of a doctor. {His} parents were very hard-working\r\n",
      "and deeply religious people, but so poor that they lived with their five\r\n",
      "children in only two rooms. {The} father and mother spent their evenings\r\n",
      "in reading aloud to their children, generally from books of a serious\r\n",
      "character.\r\n",
      "\r\n",
      "{Though} always sickly and delicate {Dostoevsky} came out third in the\r\n",
      "final examination of the {Petersburg} school of {Engineering}. {There} he had\r\n",
      "already begun his first work, “{Poor} {Folk}.”\r\n",
      "\r\n",
      "{This} story was published by the poet {Nekrassov} in his review and\r\n",
      "was received with acclamations. {The} shy, unknown youth found himself\r\n",
      "instantly something of a celebrity. {A} brilliant and successful career\r\n",
      "seemed to open before him, but those hopes were soon dashed. {In} 1849 he\r\n",
      "was arrested.\r\n",
      "\r\n",
      "{Though} neither by temperament nor conviction a revolutionist, {Dostoevsky}\r\n",
      "was one of a little group of young men who met together to read {Fourier}\r\n",
      "and {Proudhon}. {He} was accused of “taking part in conversations against\r\n",
      "the censorship, of reading a letter from {Byelinsky} to {Gogol}, and of\r\n",
      "knowing of the intention to set up a printing press.” {Under} {Nicholas}\r\n",
      "{I}. (that “stern and just man,” as {Maurice} {Baring} calls him) this was\r\n",
      "enough, and he was condemned to death. {After} eight months’ imprisonment\r\n",
      "he was with twenty-one others taken out to the {Semyonovsky} {Square} to\r\n",
      "be shot. {Writing} to his brother {Mihail}, {Dostoevsky} says: “{They} snapped\r\n",
      "words over our heads, and they made us put on the white shirts worn by\r\n",
      "persons condemned to death. {Thereupon} we were bound in threes to stakes,\r\n",
      "to suffer execution. {Being} the third in the row, {I} concluded {I} had only\r\n",
      "a few minutes of life before me. {I} thought of you and your dear ones and\r\n",
      "{I} contrived to kiss {Plestcheiev} and {Dourov}, who were next to me, and to\r\n",
      "bid them farewell. {Suddenly} the troops beat a tattoo, we were unbound,\r\n",
      "brought back upon the scaffold, and informed that his {Majesty} had spared\r\n",
      "us our lives.” {The} sentence was commuted to hard labour.\r\n",
      "\r\n",
      "{One} of the prisoners, {Grigoryev}, went mad as soon as he was untied, and\r\n",
      "never regained his sanity.\r\n",
      "\r\n",
      "{The} intense suffering of this experience left a lasting stamp on\r\n",
      "{Dostoevsky}’s mind. {Though} his religious temper led him in the end to\r\n",
      "accept every suffering with resignation and to regard it as a blessing\r\n",
      "in his own case, he constantly recurs to the subject in his writings.\r\n",
      "{He} describes the awful agony of the condemned man and insists on the\r\n",
      "cruelty of inflicting such torture. {Then} followed four years of penal\r\n",
      "servitude, spent in the company of common criminals in {Siberia}, where\r\n",
      "he began the “{Dead} {House},” and some years of service in a disciplinary\r\n",
      "battalion.\r\n",
      "\r\n",
      "{He} had shown signs of some obscure nervous disease before his arrest\r\n",
      "and this now developed into violent attacks of epilepsy, from which he\r\n",
      "suffered for the rest of his life. {The} fits occurred three or four times\r\n",
      "a year and were more frequent in periods of great strain. {In} 1859 he was\r\n",
      "allowed to return to {Russia}. {He} started a journal--“{Vremya},” which was\r\n",
      "forbidden by the {Censorship} through a misunderstanding. {In} 1864 he lost\r\n",
      "his first wife and his brother {Mihail}. {He} was in terrible poverty, yet\r\n",
      "he took upon himself the payment of his brother’s debts. {He} started\r\n",
      "another journal--“{The} {Epoch},” which within a few months was also\r\n",
      "prohibited. {He} was weighed down by debt, his brother’s family was\r\n",
      "dependent on him, he was forced to write at heart-breaking speed, and is\r\n",
      "said never to have corrected his work. {The} later years of his life were\r\n",
      "much softened by the tenderness and devotion of his second wife.\r\n",
      "\r\n",
      "{In} {June} 1880 he made his famous speech at the unveiling of the\r\n",
      "monument to {Pushkin} in {Moscow} and he was received with extraordinary\r\n",
      "demonstrations of love and honour.\r\n",
      "\r\n",
      "{A} few months later {Dostoevsky} died. {He} was followed to the grave by a\r\n",
      "vast multitude of mourners, who “gave the hapless man the funeral of a\r\n",
      "king.” {He} is still probably the most widely read writer in {Russia}.\r\n",
      "\r\n",
      "{In} the words of a {Russian} critic, who seeks to explain the feeling\r\n",
      "inspired by {Dostoevsky}: “{He} was one of ourselves, a man of our blood and\r\n",
      "our bone, but one who has suffered and has seen so much more deeply than\r\n",
      "we have his insight impresses us as wisdom... that wisdom of the heart\r\n",
      "which we seek that we may learn from it how to live. {All} his other\r\n",
      "gifts came to him from nature, this he won for himself and through it he\r\n",
      "became great.”\r\n",
      "\r\n",
      "\r\n",
      "\r\n",
      "\r\n",
      "\r\n",
      "{C}{R}{I}{M}{E} {A}{N}{D} {P}{U}{N}{I}{S}{H}{M}{E}{N}{T}\r\n",
      "\r\n",
      "\r\n",
      "\r\n",
      "\r\n",
      "{P}{A}{R}{T} {I}\r\n",
      "\r\n",
      "\r\n",
      "\r\n",
      "{C}{H}{A}{P}{T}{E}{R} {I}\r\n",
      "\r\n",
      "{On} an exceptionally hot evening early in {July} a young man came out of\r\n",
      "the garret in which he lodged in {S}. {Place} and walked slowly, as though\r\n",
      "in hesitation, towards {K}. bridge.\r\n",
      "\r\n",
      "{He} had successfully avoided meeting his landlady on the staircase. {His}\r\n",
      "garret was under the roof of a high, five-storied house and was more\r\n",
      "like a cupboard than a room. {The} landlady who provided him with garret,\r\n",
      "dinners, and attendance, lived on the floor below, and every time\r\n",
      "he went out he was obliged to pass her kitchen, the door of which\r\n",
      "invariably stood open. {And} each time he passed, the young man had a\r\n",
      "sick, frightened feeling, which made him scowl and feel ashamed. {He} was\r\n",
      "hopelessly in debt to his landlady, and was afraid of meeting her.\r\n",
      "\r\n",
      "{This} was not because he was cowardly and abject, quite the contrary; but\r\n",
      "for some time past he had been in an overstrained irritable condition,\r\n",
      "verging on hypochondria. {He} had become so completely absorbed in\r\n",
      "himself, and isolated from his fellows that he dreaded meeting, not\r\n",
      "only his landlady, but anyone at all. {He} was crushed by poverty, but the\r\n",
      "anxieties of his position had of late ceased to weigh upon him. {He} had\r\n",
      "given up attending to matters of practical importance; he had lost all\r\n",
      "desire to do so. {Nothing} that any landlady could do had a real terror\r\n",
      "for him. {But} to be stopped on the stairs, to be forced to listen to her\r\n",
      "trivial, irrelevant gossip, to pestering demands for payment, threats\r\n",
      "and complaints, and to rack his brains for excuses, to prevaricate, to\r\n",
      "lie--no, rather than that, he would creep down the stairs like a cat and\r\n",
      "slip out unseen.\r\n",
      "\r\n",
      "{This} evening, however, on coming out into the street, he became acutely\r\n",
      "aware of his fears.\r\n",
      "\r\n",
      "“{I} want to attempt a thing _like that_ and am frightened by these\r\n",
      "trifles,” he thought, with an odd smile. “{Hm}... yes, all is in a man’s\r\n",
      "hands and he lets it all slip from cowardice, that’s an axiom. {It} would\r\n",
      "be interesting to know what it is men are most afraid of. {Taking} a new\r\n",
      "step, uttering a new word is what they fear most.... {But} {I} am talking\r\n",
      "too much. {It}’s because {I} chatter that {I} do nothing. {Or} perhaps it is\r\n",
      "that {I} chatter because {I} do nothing. {I}’ve learned to chatter this\r\n",
      "last month, lying for days together in my den thinking... of {Jack} the\r\n",
      "{Giant}-killer. {Why} am {I} going there now? {Am} {I} capable of _that_? {Is}\r\n",
      "_that_ serious? {It} is not serious at all. {It}’s simply a fantasy to amuse\r\n",
      "myself; a plaything! {Yes}, maybe it is a plaything.”\r\n",
      "\r\n",
      "{The} heat in the street was terrible: and the airlessness, the bustle\r\n",
      "and the plaster, scaffolding, bricks, and dust all about him, and that\r\n",
      "special {Petersburg} stench, so familiar to all who are unable to get out\r\n",
      "of town in summer--all worked painfully upon the young man’s already\r\n",
      "overwrought nerves. {The} insufferable stench from the pot-houses, which\r\n",
      "are particularly numerous in that part of the town, and the drunken men\r\n",
      "whom he met continually, although it was a working day, completed\r\n",
      "the revolting misery of the picture. {An} expression of the profoundest\r\n",
      "disgust gleamed for a moment in the young man’s refined face. {He} was,\r\n",
      "by the way, exceptionally handsome, above the average in height, slim,\r\n",
      "well-built, with beautiful dark eyes and dark brown hair. {Soon} he sank\r\n",
      "into deep thought, or more accurately speaking into a complete blankness\r\n",
      "of mind; he walked along not observing what was about him and not caring\r\n",
      "to observe it. {From} time to time, he would mutter something, from the\r\n",
      "habit of talking to himself, to which he had just confessed. {At} these\r\n",
      "moments he would become conscious that his ideas were sometimes in a\r\n",
      "tangle and that he was very weak; for two days he had scarcely tasted\r\n",
      "food.\r\n",
      "\r\n",
      "{He} was so badly dressed that even a man accustomed to shabbiness would\r\n",
      "have been ashamed to be seen in the street in such rags. {In} that quarter\r\n",
      "of the town, however, scarcely any shortcoming in dress would have\r\n",
      "created surprise. {Owing} to the proximity of the {Hay} {Market}, the number\r\n",
      "of establishments of bad character, the preponderance of the trading\r\n",
      "and working class population crowded in these streets and alleys in the\r\n",
      "heart of {Petersburg}, types so various were to be seen in the streets\r\n",
      "that no figure, however queer, would have caused surprise. {But} there was\r\n",
      "such accumulated bitterness and contempt in the young man’s heart, that,\r\n",
      "in spite of all the fastidiousness of youth, he minded his rags least\r\n",
      "of all in the street. {It} was a different matter when he met with\r\n",
      "acquaintances or with former fellow students, whom, indeed, he disliked\r\n",
      "meeting at any time. {And} yet when a drunken man who, for some unknown\r\n",
      "reason, w\n"
     ]
    }
   ],
   "source": [
    "#this one starts with any capital letter and then it will have any other number of lower cased letters\n",
    "nltk.re_show('[A-Z][a-z]*',raw)"
   ]
  },
  {
   "cell_type": "code",
   "execution_count": 128,
   "metadata": {},
   "outputs": [
    {
     "name": "stdout",
     "output_type": "stream",
     "text": [
      "﻿The Project Gutenberg EBook of Crime and Punishment, by Fyodor Dostoevsky\r\n",
      "\r\n",
      "This eBook is for the use of anyone anywhere at no cost and with\r\n",
      "almost no restrictions whatsoever.  You may copy it, give it away or\r\n",
      "re-use it under the terms of the Project Gutenberg License included\r\n",
      "with this eBook or online at www.gutenberg.org\r\n",
      "\r\n",
      "\r\n",
      "Title: Crime and Punishment\r\n",
      "\r\n",
      "Author: Fyodor Dostoevsky\r\n",
      "\r\n",
      "Release Date: March 28, 2006 [EBook #2554]\r\n",
      "Last Updated: October 27, 2016\r\n",
      "\r\n",
      "Language: English\r\n",
      "\r\n",
      "Character set encoding: UTF-8\r\n",
      "\r\n",
      "*** START OF THIS PROJECT GUTENBERG EBOOK CRIME AND PUNISHMENT ***\r\n",
      "\r\n",
      "\r\n",
      "\r\n",
      "\r\n",
      "Produced by John Bickers; and Dagny\r\n",
      "\r\n",
      "\r\n",
      "\r\n",
      "\r\n",
      "\r\n",
      "CRIME AND PUNISHMENT\r\n",
      "\r\n",
      "By Fyodor Dostoevsky\r\n",
      "\r\n",
      "\r\n",
      "\r\n",
      "Translated By Constance Garnett\r\n",
      "\r\n",
      "\r\n",
      "\r\n",
      "\r\n",
      "TRANSLATOR’S PREFACE\r\n",
      "\r\n",
      "A few words about Dostoevsky himself may help the English reader to\r\n",
      "understand his work.\r\n",
      "\r\n",
      "Dostoevsky was the son of a doctor. His parents were very hard-working\r\n",
      "and deeply religious people, but so poor that they lived with their five\r\n",
      "children in only two rooms. The father and mother spent their evenings\r\n",
      "in reading aloud to their children, generally from books of a serious\r\n",
      "character.\r\n",
      "\r\n",
      "Though always sickly and delicate Dostoevsky came out third in the\r\n",
      "final examination of the Petersburg school of Engineering. There he had\r\n",
      "already begun his first work, “Poor Folk.”\r\n",
      "\r\n",
      "This story was published by the {poet} Nekrassov in his review and\r\n",
      "was received with acclamations. The shy, unknown youth found himself\r\n",
      "instantly something of a celebrity. A brilliant and successful career\r\n",
      "seemed to open before him, but those hopes were soon dashed. In 1849 he\r\n",
      "was arrested.\r\n",
      "\r\n",
      "Though neither by temperament nor conviction a revolutionist, Dostoevsky\r\n",
      "was one of a little group of young men who met together to read Fourier\r\n",
      "and Proudhon. He was accused of “taking part in conversations against\r\n",
      "the censorship, of reading a letter from Byelinsky to Gogol, and of\r\n",
      "knowing of the intention to set up a printing press.” Under Nicholas\r\n",
      "I. (that “stern and just man,” as Maurice Baring calls him) this was\r\n",
      "enough, and he was condemned to death. After eight months’ imprisonment\r\n",
      "he was with twenty-one others taken out to the Semyonovsky Square to\r\n",
      "be shot. Writing to his brother Mihail, Dostoevsky says: “They snapped\r\n",
      "words over our heads, and they made us {put} on the white shirts worn by\r\n",
      "persons condemned to death. Thereupon we were bound in threes to stakes,\r\n",
      "to suffer execution. Being the third in the row, I concluded I had only\r\n",
      "a few minutes of life before me. I thought of you and your dear ones and\r\n",
      "I contrived to kiss Plestcheiev and Dourov, who were next to me, and to\r\n",
      "bid them farewell. Suddenly the troops beat a tattoo, we were unbound,\r\n",
      "brought back upon the scaffold, and informed that his Majesty had spared\r\n",
      "us our lives.” The sentence was commuted to hard labour.\r\n",
      "\r\n",
      "One of the prisoners, Grigoryev, went mad as soon as he was untied, and\r\n",
      "never regained his sanity.\r\n",
      "\r\n",
      "The intense suffering of this experience left a lasting stamp on\r\n",
      "Dostoevsky’s mind. Though his religious temper led him in the end to\r\n",
      "acce{pt} every suffering with resignation and to regard it as a blessing\r\n",
      "in his own case, he constantly recurs to the subject in his writings.\r\n",
      "He describes the awful agony of the condemned man and insists on the\r\n",
      "cruelty of inflicting such torture. Then followed four years of penal\r\n",
      "servitude, spent in the company of common criminals in Siberia, where\r\n",
      "he began the “Dead House,” and some years of service in a disciplinary\r\n",
      "battalion.\r\n",
      "\r\n",
      "He had shown signs of some obscure nervous disease before his arrest\r\n",
      "and this now developed into violent attacks of epilepsy, from which he\r\n",
      "suffered for the rest of his life. The fits occurred three or four times\r\n",
      "a year and were more frequent in periods of great strain. In 1859 he was\r\n",
      "allowed to return to Russia. He started a journal--“Vremya,” which was\r\n",
      "forbidden by the Censorship through a misunderstanding. In 1864 he lost\r\n",
      "his first wife and his brother Mihail. He was in terrible poverty, yet\r\n",
      "he took upon himself the payment of his brother’s debts. He started\r\n",
      "another journal--“The Epoch,” which within a few months was also\r\n",
      "prohibited. He was weighed down by debt, his brother’s family was\r\n",
      "dependent on him, he was forced to write at heart-breaking speed, and is\r\n",
      "said never to have corrected his work. The later years of his life were\r\n",
      "much softened by the tenderness and devotion of his second wife.\r\n",
      "\r\n",
      "In June 1880 he made his famous speech at the unveiling of the\r\n",
      "monument to Pushkin in Moscow and he was received with extraordinary\r\n",
      "demonstrations of love and honour.\r\n",
      "\r\n",
      "A few months later Dostoevsky died. He was followed to the grave by a\r\n",
      "vast multitude of mourners, who “gave the hapless man the funeral of a\r\n",
      "king.” He is still probably the most widely read writer in Russia.\r\n",
      "\r\n",
      "In the words of a Russian critic, who seeks to explain the feeling\r\n",
      "inspired by Dostoevsky: “He was one of ourselves, a man of our blood and\r\n",
      "our bone, but one who has suffered and has seen so much more deeply than\r\n",
      "we have his insight impresses us as wisdom... that wisdom of the heart\r\n",
      "which we seek that we may learn from it how to live. All his other\r\n",
      "gifts came to him from nature, this he won for himself and through it he\r\n",
      "became great.”\r\n",
      "\r\n",
      "\r\n",
      "\r\n",
      "\r\n",
      "\r\n",
      "CRIME AND PUNISHMENT\r\n",
      "\r\n",
      "\r\n",
      "\r\n",
      "\r\n",
      "PART I\r\n",
      "\r\n",
      "\r\n",
      "\r\n",
      "CHAPTER I\r\n",
      "\r\n",
      "On an exce{pt}ionally hot evening early in July a young man came out of\r\n",
      "the garret in which he lodged in S. Place and walked slowly, as though\r\n",
      "in hesitation, towards K. bridge.\r\n",
      "\r\n",
      "He had successfully avoided meeting his landlady on the staircase. His\r\n",
      "garret was under the roof of a high, five-storied house and was more\r\n",
      "like a cupboard than a room. The landlady who provided him with garret,\r\n",
      "dinners, and attendance, lived on the floor below, and every time\r\n",
      "he went out he was obliged to pass her kitchen, the door of which\r\n",
      "invariably stood open. And each time he passed, the young man had a\r\n",
      "sick, frightened feeling, which made him scowl and feel ashamed. He was\r\n",
      "hopelessly in debt to his landlady, and was afraid of meeting her.\r\n",
      "\r\n",
      "This was not because he was cowardly and abject, quite the contrary; but\r\n",
      "for some time past he had been in an overstrained irritable condition,\r\n",
      "verging on hypochondria. He had become so completely absorbed in\r\n",
      "himself, and isolated from his fellows that he dreaded meeting, not\r\n",
      "only his landlady, but anyone at all. He was crushed by poverty, but the\r\n",
      "anxieties of his position had of late ceased to weigh upon him. He had\r\n",
      "given up attending to matters of practical importance; he had lost all\r\n",
      "desire to do so. Nothing that any landlady could do had a real terror\r\n",
      "for him. But to be stopped on the stairs, to be forced to listen to her\r\n",
      "trivial, irrelevant gossip, to pestering demands for payment, threats\r\n",
      "and complaints, and to rack his brains for excuses, to prevaricate, to\r\n",
      "lie--no, rather than that, he would creep down the stairs like a cat and\r\n",
      "slip out unseen.\r\n",
      "\r\n",
      "This evening, however, on coming out into the street, he became acutely\r\n",
      "aware of his fears.\r\n",
      "\r\n",
      "“I want to attem{pt} a thing _like that_ and am frightened by these\r\n",
      "trifles,” he thought, with an odd smile. “Hm... yes, all is in a man’s\r\n",
      "hands and he lets it all slip from cowardice, that’s an axiom. It would\r\n",
      "be interesting to know what it is men are most afraid of. Taking a new\r\n",
      "step, uttering a new word is what they fear most.... But I am talking\r\n",
      "too much. It’s because I chatter that I do nothing. Or perhaps it is\r\n",
      "that I chatter because I do nothing. I’ve learned to chatter this\r\n",
      "last month, lying for days together in my den thinking... of Jack the\r\n",
      "Giant-killer. Why am I going there now? Am I capable of _that_? Is\r\n",
      "_that_ serious? It is not serious at all. It’s simply a fantasy to amuse\r\n",
      "myself; a plaything! Yes, maybe it is a plaything.”\r\n",
      "\r\n",
      "The heat in the street was terrible: and the airlessness, the bustle\r\n",
      "and the plaster, scaffolding, bricks, and dust all about him, and that\r\n",
      "special Petersburg stench, so familiar to all who are unable to get out\r\n",
      "of town in summer--all worked painfully upon the young man’s already\r\n",
      "overwrought nerves. The insufferable stench from the {pot}-houses, which\r\n",
      "are particularly numerous in that part of the town, and the drunken men\r\n",
      "whom he met continually, although it was a working day, completed\r\n",
      "the revolting misery of the picture. An expression of the profoundest\r\n",
      "disgust gleamed for a moment in the young man’s refined face. He was,\r\n",
      "by the way, exce{pt}ionally handsome, above the average in height, slim,\r\n",
      "well-built, with beautiful dark eyes and dark brown hair. Soon he sank\r\n",
      "into deep thought, or more accurately speaking into a complete blankness\r\n",
      "of mind; he walked along not observing what was about him and not caring\r\n",
      "to observe it. From time to time, he would mutter something, from the\r\n",
      "habit of talking to himself, to which he had just confessed. At these\r\n",
      "moments he would become conscious that his ideas were sometimes in a\r\n",
      "tangle and that he was very weak; for two days he had scarcely tasted\r\n",
      "food.\r\n",
      "\r\n",
      "He was so badly dressed that even a man accustomed to shabbiness would\r\n",
      "have been ashamed to be seen in the street in such rags. In that quarter\r\n",
      "of the town, however, scarcely any shortcoming in dress would have\r\n",
      "created surprise. Owing to the proximity of the Hay Market, the number\r\n",
      "of establishments of bad character, the preponderance of the trading\r\n",
      "and working class population crowded in these streets and alleys in the\r\n",
      "heart of Petersburg, types so various were to be seen in the streets\r\n",
      "that no figure, however queer, would have caused surprise. But there was\r\n",
      "such accumulated bitterness and contem{pt} in the young man’s heart, that,\r\n",
      "in s{pit}e of all the fastidiousness of youth, he minded his rags least\r\n",
      "of all in the street. It was a different matter when he met with\r\n",
      "acquaintances or with former fellow students, whom, indeed, he disliked\r\n",
      "meeting at any time. And yet when a drunken man who, for some unknown\r\n",
      "reason, w\n"
     ]
    }
   ],
   "source": [
    "#These words MUST contain a segment that start with the letter \"p\" and finish with \"t\", they may have up to 2 vowels\n",
    "nltk.re_show('p[aeiou]{,2}t',raw)"
   ]
  },
  {
   "cell_type": "code",
   "execution_count": 129,
   "metadata": {},
   "outputs": [
    {
     "name": "stdout",
     "output_type": "stream",
     "text": [
      "﻿The Project Gutenberg EBook of Crime and Punishment, by Fyodor Dostoevsky\r\n",
      "\r\n",
      "This eBook is for the use of anyone anywhere at no cost and with\r\n",
      "almost no restrictions whatsoever.  You may copy it, give it away or\r\n",
      "re-use it under the terms of the Project Gutenberg License included\r\n",
      "with this eBook or online at www.gutenberg.org\r\n",
      "\r\n",
      "\r\n",
      "Title: Crime and Punishment\r\n",
      "\r\n",
      "Author: Fyodor Dostoevsky\r\n",
      "\r\n",
      "Release Date: March {28}, {2006} [EBook #{2554}]\r\n",
      "Last Updated: October {27}, {2016}\r\n",
      "\r\n",
      "Language: English\r\n",
      "\r\n",
      "Character set encoding: UTF-{8}\r\n",
      "\r\n",
      "*** START OF THIS PROJECT GUTENBERG EBOOK CRIME AND PUNISHMENT ***\r\n",
      "\r\n",
      "\r\n",
      "\r\n",
      "\r\n",
      "Produced by John Bickers; and Dagny\r\n",
      "\r\n",
      "\r\n",
      "\r\n",
      "\r\n",
      "\r\n",
      "CRIME AND PUNISHMENT\r\n",
      "\r\n",
      "By Fyodor Dostoevsky\r\n",
      "\r\n",
      "\r\n",
      "\r\n",
      "Translated By Constance Garnett\r\n",
      "\r\n",
      "\r\n",
      "\r\n",
      "\r\n",
      "TRANSLATOR’S PREFACE\r\n",
      "\r\n",
      "A few words about Dostoevsky himself may help the English reader to\r\n",
      "understand his work.\r\n",
      "\r\n",
      "Dostoevsky was the son of a doctor. His parents were very hard-working\r\n",
      "and deeply religious people, but so poor that they lived with their five\r\n",
      "children in only two rooms. The father and mother spent their evenings\r\n",
      "in reading aloud to their children, generally from books of a serious\r\n",
      "character.\r\n",
      "\r\n",
      "Though always sickly and delicate Dostoevsky came out third in the\r\n",
      "final examination of the Petersburg school of Engineering. There he had\r\n",
      "already begun his first work, “Poor Folk.”\r\n",
      "\r\n",
      "This story was published by the poet Nekrassov in his review and\r\n",
      "was received with acclamations. The shy, unknown youth found himself\r\n",
      "instantly something of a celebrity. A brilliant and successful career\r\n",
      "seemed to open before him, but those hopes were soon dashed. In {1849} he\r\n",
      "was arrested.\r\n",
      "\r\n",
      "Though neither by temperament nor conviction a revolutionist, Dostoevsky\r\n",
      "was one of a little group of young men who met together to read Fourier\r\n",
      "and Proudhon. He was accused of “taking part in conversations against\r\n",
      "the censorship, of reading a letter from Byelinsky to Gogol, and of\r\n",
      "knowing of the intention to set up a printing press.” Under Nicholas\r\n",
      "I. (that “stern and just man,” as Maurice Baring calls him) this was\r\n",
      "enough, and he was condemned to death. After eight months’ imprisonment\r\n",
      "he was with twenty-one others taken out to the Semyonovsky Square to\r\n",
      "be shot. Writing to his brother Mihail, Dostoevsky says: “They snapped\r\n",
      "words over our heads, and they made us put on the white shirts worn by\r\n",
      "persons condemned to death. Thereupon we were bound in threes to stakes,\r\n",
      "to suffer execution. Being the third in the row, I concluded I had only\r\n",
      "a few minutes of life before me. I thought of you and your dear ones and\r\n",
      "I contrived to kiss Plestcheiev and Dourov, who were next to me, and to\r\n",
      "bid them farewell. Suddenly the troops beat a tattoo, we were unbound,\r\n",
      "brought back upon the scaffold, and informed that his Majesty had spared\r\n",
      "us our lives.” The sentence was commuted to hard labour.\r\n",
      "\r\n",
      "One of the prisoners, Grigoryev, went mad as soon as he was untied, and\r\n",
      "never regained his sanity.\r\n",
      "\r\n",
      "The intense suffering of this experience left a lasting stamp on\r\n",
      "Dostoevsky’s mind. Though his religious temper led him in the end to\r\n",
      "accept every suffering with resignation and to regard it as a blessing\r\n",
      "in his own case, he constantly recurs to the subject in his writings.\r\n",
      "He describes the awful agony of the condemned man and insists on the\r\n",
      "cruelty of inflicting such torture. Then followed four years of penal\r\n",
      "servitude, spent in the company of common criminals in Siberia, where\r\n",
      "he began the “Dead House,” and some years of service in a disciplinary\r\n",
      "battalion.\r\n",
      "\r\n",
      "He had shown signs of some obscure nervous disease before his arrest\r\n",
      "and this now developed into violent attacks of epilepsy, from which he\r\n",
      "suffered for the rest of his life. The fits occurred three or four times\r\n",
      "a year and were more frequent in periods of great strain. In {1859} he was\r\n",
      "allowed to return to Russia. He started a journal--“Vremya,” which was\r\n",
      "forbidden by the Censorship through a misunderstanding. In {1864} he lost\r\n",
      "his first wife and his brother Mihail. He was in terrible poverty, yet\r\n",
      "he took upon himself the payment of his brother’s debts. He started\r\n",
      "another journal--“The Epoch,” which within a few months was also\r\n",
      "prohibited. He was weighed down by debt, his brother’s family was\r\n",
      "dependent on him, he was forced to write at heart-breaking speed, and is\r\n",
      "said never to have corrected his work. The later years of his life were\r\n",
      "much softened by the tenderness and devotion of his second wife.\r\n",
      "\r\n",
      "In June {1880} he made his famous speech at the unveiling of the\r\n",
      "monument to Pushkin in Moscow and he was received with extraordinary\r\n",
      "demonstrations of love and honour.\r\n",
      "\r\n",
      "A few months later Dostoevsky died. He was followed to the grave by a\r\n",
      "vast multitude of mourners, who “gave the hapless man the funeral of a\r\n",
      "king.” He is still probably the most widely read writer in Russia.\r\n",
      "\r\n",
      "In the words of a Russian critic, who seeks to explain the feeling\r\n",
      "inspired by Dostoevsky: “He was one of ourselves, a man of our blood and\r\n",
      "our bone, but one who has suffered and has seen so much more deeply than\r\n",
      "we have his insight impresses us as wisdom... that wisdom of the heart\r\n",
      "which we seek that we may learn from it how to live. All his other\r\n",
      "gifts came to him from nature, this he won for himself and through it he\r\n",
      "became great.”\r\n",
      "\r\n",
      "\r\n",
      "\r\n",
      "\r\n",
      "\r\n",
      "CRIME AND PUNISHMENT\r\n",
      "\r\n",
      "\r\n",
      "\r\n",
      "\r\n",
      "PART I\r\n",
      "\r\n",
      "\r\n",
      "\r\n",
      "CHAPTER I\r\n",
      "\r\n",
      "On an exceptionally hot evening early in July a young man came out of\r\n",
      "the garret in which he lodged in S. Place and walked slowly, as though\r\n",
      "in hesitation, towards K. bridge.\r\n",
      "\r\n",
      "He had successfully avoided meeting his landlady on the staircase. His\r\n",
      "garret was under the roof of a high, five-storied house and was more\r\n",
      "like a cupboard than a room. The landlady who provided him with garret,\r\n",
      "dinners, and attendance, lived on the floor below, and every time\r\n",
      "he went out he was obliged to pass her kitchen, the door of which\r\n",
      "invariably stood open. And each time he passed, the young man had a\r\n",
      "sick, frightened feeling, which made him scowl and feel ashamed. He was\r\n",
      "hopelessly in debt to his landlady, and was afraid of meeting her.\r\n",
      "\r\n",
      "This was not because he was cowardly and abject, quite the contrary; but\r\n",
      "for some time past he had been in an overstrained irritable condition,\r\n",
      "verging on hypochondria. He had become so completely absorbed in\r\n",
      "himself, and isolated from his fellows that he dreaded meeting, not\r\n",
      "only his landlady, but anyone at all. He was crushed by poverty, but the\r\n",
      "anxieties of his position had of late ceased to weigh upon him. He had\r\n",
      "given up attending to matters of practical importance; he had lost all\r\n",
      "desire to do so. Nothing that any landlady could do had a real terror\r\n",
      "for him. But to be stopped on the stairs, to be forced to listen to her\r\n",
      "trivial, irrelevant gossip, to pestering demands for payment, threats\r\n",
      "and complaints, and to rack his brains for excuses, to prevaricate, to\r\n",
      "lie--no, rather than that, he would creep down the stairs like a cat and\r\n",
      "slip out unseen.\r\n",
      "\r\n",
      "This evening, however, on coming out into the street, he became acutely\r\n",
      "aware of his fears.\r\n",
      "\r\n",
      "“I want to attempt a thing _like that_ and am frightened by these\r\n",
      "trifles,” he thought, with an odd smile. “Hm... yes, all is in a man’s\r\n",
      "hands and he lets it all slip from cowardice, that’s an axiom. It would\r\n",
      "be interesting to know what it is men are most afraid of. Taking a new\r\n",
      "step, uttering a new word is what they fear most.... But I am talking\r\n",
      "too much. It’s because I chatter that I do nothing. Or perhaps it is\r\n",
      "that I chatter because I do nothing. I’ve learned to chatter this\r\n",
      "last month, lying for days together in my den thinking... of Jack the\r\n",
      "Giant-killer. Why am I going there now? Am I capable of _that_? Is\r\n",
      "_that_ serious? It is not serious at all. It’s simply a fantasy to amuse\r\n",
      "myself; a plaything! Yes, maybe it is a plaything.”\r\n",
      "\r\n",
      "The heat in the street was terrible: and the airlessness, the bustle\r\n",
      "and the plaster, scaffolding, bricks, and dust all about him, and that\r\n",
      "special Petersburg stench, so familiar to all who are unable to get out\r\n",
      "of town in summer--all worked painfully upon the young man’s already\r\n",
      "overwrought nerves. The insufferable stench from the pot-houses, which\r\n",
      "are particularly numerous in that part of the town, and the drunken men\r\n",
      "whom he met continually, although it was a working day, completed\r\n",
      "the revolting misery of the picture. An expression of the profoundest\r\n",
      "disgust gleamed for a moment in the young man’s refined face. He was,\r\n",
      "by the way, exceptionally handsome, above the average in height, slim,\r\n",
      "well-built, with beautiful dark eyes and dark brown hair. Soon he sank\r\n",
      "into deep thought, or more accurately speaking into a complete blankness\r\n",
      "of mind; he walked along not observing what was about him and not caring\r\n",
      "to observe it. From time to time, he would mutter something, from the\r\n",
      "habit of talking to himself, to which he had just confessed. At these\r\n",
      "moments he would become conscious that his ideas were sometimes in a\r\n",
      "tangle and that he was very weak; for two days he had scarcely tasted\r\n",
      "food.\r\n",
      "\r\n",
      "He was so badly dressed that even a man accustomed to shabbiness would\r\n",
      "have been ashamed to be seen in the street in such rags. In that quarter\r\n",
      "of the town, however, scarcely any shortcoming in dress would have\r\n",
      "created surprise. Owing to the proximity of the Hay Market, the number\r\n",
      "of establishments of bad character, the preponderance of the trading\r\n",
      "and working class population crowded in these streets and alleys in the\r\n",
      "heart of Petersburg, types so various were to be seen in the streets\r\n",
      "that no figure, however queer, would have caused surprise. But there was\r\n",
      "such accumulated bitterness and contempt in the young man’s heart, that,\r\n",
      "in spite of all the fastidiousness of youth, he minded his rags least\r\n",
      "of all in the street. It was a different matter when he met with\r\n",
      "acquaintances or with former fellow students, whom, indeed, he disliked\r\n",
      "meeting at any time. And yet when a drunken man who, for some unknown\r\n",
      "reason, w\n"
     ]
    }
   ],
   "source": [
    "#This are tokens that would have numbers (float) with just an integer part or optional integer p\n",
    "nltk.re_show('\\d+(.\\d+)?', raw)"
   ]
  },
  {
   "cell_type": "code",
   "execution_count": 132,
   "metadata": {},
   "outputs": [
    {
     "name": "stdout",
     "output_type": "stream",
     "text": [
      "{}﻿{}T{he }P{roj}e{}c{}t{} {Gut}e{}n{ber}g{} {}E{}B{}o{}o{}k{ of} {}C{rim}e{ an}d{} {Pun}i{}s{}h{men}t{},{} {}b{}y{} {}F{yod}o{}r{} {Dos}t{}o{}e{}v{}s{}k{}y{}\r",
      "{}\n",
      "{}\r",
      "{}\n",
      "{}T{his eB}o{}o{}k{ is} {for} {}t{he }u{se }o{}f{ anyon}e{ an}y{}w{her}e{ at} {no cos}t{ an}d{} {wit}h{}\r",
      "{\n",
      "almos}t{} {no res}t{ric}t{}i{}o{}n{}s{} {}w{hat}s{}o{}e{ver}.{} {} {}Y{}o{}u{} {may} {cop}y{ it},{} {giv}e{ it aw}a{}y{ or}\r",
      "{}\n",
      "{re-}u{se }i{}t{ under} {}t{he ter}m{}s{ of} {}t{he }P{roj}e{}c{}t{} {Gut}e{}n{ber}g{} {Lic}e{}n{se }i{}n{}c{lud}e{}d{}\r",
      "{}\n",
      "{wit}h{} {}t{his eB}o{}o{}k{ or onlin}e{ at} {}w{}w{}w{}.{gut}e{}n{ber}g{.or}g{}\r",
      "{}\n",
      "{}\r",
      "{}\n",
      "{}\r",
      "{}\n",
      "{Title:} {}C{rim}e{ an}d{} {Pun}i{}s{}h{men}t{}\r",
      "{}\n",
      "{}\r",
      "{}\n",
      "{Author}:{} {}F{yod}o{}r{} {Dos}t{}o{}e{}v{}s{}k{}y{}\r",
      "{}\n",
      "{}\r",
      "{}\n",
      "{Rel}e{}a{se Dat}e{}:{} {Mar}c{}h{} {}2{}8{},{} {}2{}0{}0{}6{} {}[{}E{}B{}o{}o{}k{} {}#{}2{}5{}5{}4{}]{}\r",
      "{}\n",
      "{Las}t{} {}U{}p{dat}e{}d{}:{} {}O{}c{tob}e{}r{} {}2{}7{},{} {}2{}0{}1{}6{}\r",
      "{}\n",
      "{}\r",
      "{}\n",
      "{Lan}g{}u{}a{ge:} {}E{}n{}g{lis}h{}\r",
      "{}\n",
      "{}\r",
      "{}\n",
      "{}C{har}a{}c{ter} {set encod}i{}n{}g{}:{} {}U{}T{}F{}-{}8{}\r",
      "{}\n",
      "{}\r",
      "{}\n",
      "{}*{}*{}*{} {}S{}T{}A{}R{}T{} {}O{}F{} {}T{}H{}I{}S{} {}P{}R{}O{}J{}E{}C{}T{} {}G{}U{}T{}E{}N{}B{}E{}R{}G{} {}E{}B{}O{}O{}K{} {}C{}R{}I{}M{}E{} {}A{}N{}D{} {}P{}U{}N{}I{}S{}H{}M{}E{}N{}T{} {}*{}*{}*{}\r",
      "{}\n",
      "{}\r",
      "{}\n",
      "{}\r",
      "{}\n",
      "{}\r",
      "{}\n",
      "{}\r",
      "{}\n",
      "{}P{rod}u{ced} {}b{}y{} {Joh}n{} {Bicker}s{};{ an}d{} {Dag}n{}y{}\r",
      "{}\n",
      "{}\r",
      "{}\n",
      "{}\r",
      "{}\n",
      "{}\r",
      "{}\n",
      "{}\r",
      "{}\n",
      "{}\r",
      "{}\n",
      "{}C{}R{}I{}M{}E{} {}A{}N{}D{} {}P{}U{}N{}I{}S{}H{}M{}E{}N{}T{}\r",
      "{}\n",
      "{}\r",
      "{}\n",
      "{}B{}y{} {}F{yod}o{}r{} {Dos}t{}o{}e{}v{}s{}k{}y{}\r",
      "{}\n",
      "{}\r",
      "{}\n",
      "{}\r",
      "{}\n",
      "{}\r",
      "{}\n",
      "{}T{ran}s{lat}e{}d{} {}B{}y{} {Con}s{tance Garnet}t{}\r",
      "{}\n",
      "{}\r",
      "{}\n",
      "{}\r",
      "{}\n",
      "{}\r",
      "{}\n",
      "{}\r",
      "{}\n",
      "{}T{}R{}A{}N{}S{}L{}A{}T{}O{}R{}’{}S{} {}P{}R{}E{}F{}A{}C{}E{}\r",
      "{}\n",
      "{}\r",
      "{}\n",
      "{}A{} {few} {wor}d{}s{ ab}o{}u{}t{} {Dos}t{}o{}e{}v{}s{}k{}y{} {himsel}f{} {may} {hel}p{} {}t{he }E{}n{}g{lis}h{} {}r{}e{}a{der} {to\r\n",
      "under}s{tan}d{} {his} {wor}k{}.{}\r",
      "{}\n",
      "{}\r",
      "{}\n",
      "{Dos}t{}o{}e{}v{}s{}k{}y{} {was} {}t{he son of a doctor}.{} {His} {par}e{}n{}t{}s{} {wer}e{} {ver}y{} {har}d{}-{workin}g{}\r",
      "{\n",
      "an}d{} {}d{}e{}e{}p{}l{}y{} {rel}i{}g{}i{}o{}u{}s{} {}p{}e{}o{}p{le,} {but} {so }p{}o{}o{}r{} {}t{hat} {}t{hey} {liv}e{}d{} {wit}h{} {}t{}h{}e{}i{}r{} {fiv}e{}\r",
      "{}\n",
      "{}c{hil}d{ren in on}l{}y{} {}t{wo }r{}o{}o{}m{}s{}.{} {}T{he father an}d{} {mother} {}s{pen}t{} {}t{}h{}e{}i{}r{ ev}e{nin}g{}s{}\r",
      "{\n",
      "in} {}r{}e{}a{din}g{ al}o{}u{}d{} {to }t{}h{}e{}i{}r{} {}c{hil}d{ren},{} {gen}e{ral}l{}y{} {}f{rom} {}b{}o{}o{}k{}s{ of a ser}i{}o{}u{}s{}\r",
      "{}\n",
      "{}c{har}a{}c{ter}.{}\r",
      "{}\n",
      "{}\r",
      "{}\n",
      "{}T{}h{}o{}u{}g{}h{ alway}s{} {sic}k{}l{}y{ an}d{} {del}i{cat}e{} {Dos}t{}o{}e{}v{}s{}k{}y{} {cam}e{} {}o{}u{}t{} {}t{hir}d{ in} {}t{he\r",
      "}\n",
      "{fin}a{}l{ ex}a{min}a{}t{}i{}o{}n{ of} {}t{he Pet}e{}r{}s{bur}g{} {}s{}c{}h{}o{}o{}l{ of} {}E{}n{gin}e{}e{rin}g{}.{} {}T{her}e{} {he had}\r",
      "{\n",
      "al}r{}e{}a{}d{}y{} {beg}u{}n{} {his} {fir}s{}t{} {wor}k{},{} {}“{}P{}o{}o{}r{} {Fol}k{}.{}”{}\r",
      "{}\n",
      "{}\r",
      "{}\n",
      "{}T{his} {}s{tor}y{} {was} {published} {}b{}y{} {}t{he }p{}o{}e{}t{} {Nekrassov in} {his} {rev}i{}e{}w{ an}d{}\r",
      "{}\n",
      "{was} {rec}e{}i{ved} {wit}h{ ac}c{lam}a{}t{}i{}o{}n{}s{}.{} {}T{he }s{}h{}y{},{ un}k{now}n{} {}y{}o{}u{}t{}h{} {}f{}o{}u{}n{}d{} {himsel}f{}\r",
      "{\n",
      "in}s{tan}t{}l{}y{} {som}e{}t{hin}g{ of a cel}e{}b{rit}y{}.{} {}A{} {}b{ril}l{}i{}a{}n{}t{ an}d{} {succes}s{ful} {car}e{}e{}r{}\r",
      "{}\n",
      "{}s{}e{}e{med} {to }o{pen} {bef}o{re him},{} {but} {}t{hos}e{} {hop}e{}s{} {wer}e{} {}s{}o{}o{}n{} {dashed}.{} {}I{}n{} {}1{}8{}4{}9{} {he\r",
      "}\n",
      "{was arrested}.{}\r",
      "{}\n",
      "{}\r",
      "{}\n",
      "{}T{}h{}o{}u{}g{}h{} {}n{}e{}i{}t{her} {}b{}y{} {temper}a{men}t{} {nor} {convic}t{}i{}o{}n{ a rev}o{lut}i{}o{nis}t{},{} {Dos}t{}o{}e{}v{}s{}k{}y{}\r",
      "{}\n",
      "{was on}e{ of a lit}t{le }g{}r{}o{}u{}p{ of} {}y{}o{}u{}n{}g{} {men} {}w{ho met} {tog}e{}t{her} {to }r{}e{}a{}d{} {}F{}o{}u{}r{}i{}e{}r{}\r",
      "{\n",
      "an}d{} {}P{}r{}o{}u{}d{hon}.{} {He was accus}e{}d{ of} {}“{tak}i{}n{}g{} {par}t{ in} {conversat}i{}o{}n{}s{ ag}a{}i{}n{}s{}t{}\r",
      "{}\n",
      "{}t{he censor}s{hip},{ of} {}r{}e{}a{din}g{ a letter} {}f{rom} {}B{yel}i{}n{}s{}k{}y{} {to Gog}o{}l{},{ an}d{ of}\r",
      "{}\n",
      "{}k{now}i{}n{}g{ of} {}t{he }i{}n{ten}t{}i{}o{}n{} {to set up a }p{rintin}g{} {}p{res}s{}.{}”{} {}U{}n{der} {Nichol}a{}s{}\r",
      "{}\n",
      "{}I{}.{} {}({}t{hat} {}“{}s{ter}n{ an}d{} {jus}t{} {man},{}”{ as} {}M{}a{}u{ric}e{} {Bar}i{}n{}g{} {cal}l{}s{} {him}){} {}t{his} {was}\r",
      "{\n",
      "en}o{}u{}g{}h{},{ an}d{} {he was} {condemned} {to }d{}e{}a{}t{}h{}.{} {}A{}f{ter} {}e{}i{}g{}h{}t{} {mon}t{}h{}s{}’{ im}p{ris}o{}n{men}t{}\r",
      "{}\n",
      "{he was} {wit}h{} {}t{wen}t{}y{-on}e{ other}s{} {tak}e{}n{} {}o{}u{}t{} {to }t{he Semyon}o{}v{}s{}k{}y{} {}S{}q{}u{}a{re to\r",
      "}\n",
      "{be }s{hot}.{} {}W{rit}i{}n{}g{} {to his} {}b{rother} {Mih}a{}i{}l{},{} {Dos}t{}o{}e{}v{}s{}k{}y{} {say}s{}:{} {}“{}T{hey} {}s{napped}\r",
      "{}\n",
      "{wor}d{}s{ ov}e{}r{} {}o{}u{}r{} {}h{}e{}a{}d{}s{},{ an}d{} {}t{hey} {mad}e{ us} {put on} {}t{he }w{hit}e{} {}s{hir}t{}s{} {wor}n{} {}b{}y{}\r",
      "{}\n",
      "{person}s{} {condemned} {to }d{}e{}a{}t{}h{}.{} {}T{her}e{}u{pon} {we wer}e{} {}b{}o{}u{}n{}d{ in} {}t{}h{}r{}e{}e{}s{} {to }s{tak}e{}s{},{}\r",
      "{}\n",
      "{to suffer ex}e{cut}i{}o{}n{}.{} {}B{}e{}i{}n{}g{} {}t{he }t{hir}d{ in} {}t{he row},{} {}I{} {con}c{lud}e{}d{} {}I{} {had on}l{}y{}\r",
      "{\n",
      "a few} {min}u{tes of} {lif}e{} {bef}o{re me.} {}I{} {}t{}h{}o{}u{}g{}h{}t{ of} {}y{}o{}u{ an}d{} {}y{}o{}u{}r{} {}d{}e{}a{}r{ on}e{}s{ an}d{}\r",
      "{}\n",
      "{}I{} {con}t{riv}e{}d{} {to kis}s{} {}P{les}t{}c{}h{}e{}i{}e{}v{ an}d{} {}D{}o{}u{rov},{} {}w{ho wer}e{} {nex}t{} {to me, an}d{} {to\r",
      "}\n",
      "{bid} {}t{hem} {far}e{wel}l{}.{} {Sudden}l{}y{} {}t{he }t{}r{}o{}o{}p{}s{} {}b{}e{}a{}t{ a tat}t{}o{}o{},{} {we wer}e{ un}b{}o{}u{}n{}d{},{}\r",
      "{}\n",
      "{}b{}r{}o{}u{}g{}h{}t{} {bac}k{ up}o{}n{} {}t{he }s{caffol}d{},{ an}d{ informed} {}t{hat} {his} {Maj}e{}s{}t{}y{} {had} {}s{par}e{}d{}\r",
      "{\n",
      "us} {}o{}u{}r{} {liv}e{}s{}.{}”{} {}T{he sentence was} {commut}e{}d{} {to har}d{} {lab}o{}u{}r{}.{}\r",
      "{}\n",
      "{}\r",
      "{}\n",
      "{}O{ne }o{}f{} {}t{he }p{ris}o{ner}s{},{} {}G{rig}o{}r{yev},{} {wen}t{} {mad as} {}s{}o{}o{}n{ as} {he was un}t{}i{}e{}d{},{ an}d{}\r",
      "{}\n",
      "{nev}e{}r{} {reg}a{}i{ned} {his} {san}i{}t{}y{}.{}\r",
      "{}\n",
      "{}\r",
      "{}\n",
      "{}T{he }i{}n{tense suffer}i{}n{}g{ of} {}t{his exper}i{}e{}n{ce lef}t{ a lastin}g{} {}s{tam}p{ on}\r",
      "{}\n",
      "{Dos}t{}o{}e{}v{}s{}k{}y{}’{}s{} {min}d{}.{} {}T{}h{}o{}u{}g{}h{} {his} {rel}i{}g{}i{}o{}u{}s{} {temper} {led} {him in} {}t{he }e{}n{}d{} {to\r\n",
      "accep}t{ ev}e{}r{}y{} {suffer}i{}n{}g{} {wit}h{} {res}i{}g{nat}i{}o{}n{ an}d{} {to reg}a{}r{}d{ it as a }b{lessin}g{}\r",
      "{\n",
      "in} {his ow}n{} {cas}e{},{} {he con}s{tan}t{}l{}y{} {rec}u{}r{}s{} {to }t{he subjec}t{ in} {his} {}w{rit}i{}n{}g{}s{}.{}\r",
      "{}\n",
      "{He des}c{rib}e{}s{} {}t{he }a{}w{ful ag}o{}n{}y{ of} {}t{he condemned} {man an}d{ insis}t{}s{ on} {}t{he\r",
      "}\n",
      "{}c{}r{}u{}e{}l{}t{}y{ of in}f{lictin}g{} {suc}h{} {tortur}e{}.{} {}T{hen} {follow}e{}d{} {}f{}o{}u{}r{} {}y{}e{}a{}r{}s{ of} {pen}a{}l{}\r",
      "{}\n",
      "{servit}u{de,} {}s{pen}t{ in} {}t{he compan}y{ of} {common} {}c{rim}i{nal}s{ in} {Sib}e{}r{}i{}a{},{} {}w{her}e{}\r",
      "{}\n",
      "{he beg}a{}n{} {}t{he }“{}D{}e{}a{}d{} {}H{}o{}u{se,}”{ an}d{} {som}e{} {}y{}e{}a{}r{}s{ of} {servic}e{ in a disciplin}a{}r{}y{}\r",
      "{}\n",
      "{battal}i{}o{}n{}.{}\r",
      "{}\n",
      "{}\r",
      "{}\n",
      "{He had} {}s{how}n{} {sig}n{}s{ of} {som}e{ ob}s{cur}e{} {ner}v{}o{}u{}s{} {dis}e{}a{se bef}o{re his arres}t{}\r",
      "{\n",
      "an}d{} {}t{his} {now} {dev}e{lop}e{}d{ into }v{}i{}o{len}t{ attac}k{}s{ of ep}i{lep}s{}y{},{} {}f{rom} {}w{hic}h{} {he\r",
      "}\n",
      "{suffer}e{}d{} {for} {}t{he res}t{ of} {his} {lif}e{}.{} {}T{he fit}s{ occurred} {}t{}h{}r{}e{}e{ or} {}f{}o{}u{}r{} {tim}e{}s{}\r",
      "{\n",
      "a }y{}e{}a{}r{ an}d{} {wer}e{} {mor}e{} {}f{req}u{}e{}n{}t{ in} {per}i{}o{}d{}s{ of} {}g{}r{}e{}a{}t{} {}s{}t{}r{}a{}i{}n{}.{} {}I{}n{} {}1{}8{}5{}9{} {he was}\r",
      "{\n",
      "allow}e{}d{} {to ret}u{}r{}n{} {to Rus}s{}i{}a{}.{} {He }s{tarted a }j{}o{}u{}r{nal}-{}-{}“{}V{remya,}”{} {}w{hic}h{} {was}\r",
      "{}\n",
      "{forbidden} {}b{}y{} {}t{he Censor}s{hip} {}t{}h{}r{}o{}u{}g{}h{ a mis}u{}n{der}s{tandin}g{}.{} {}I{}n{} {}1{}8{}6{}4{} {he los}t{}\r",
      "{}\n",
      "{his} {fir}s{}t{} {wif}e{ an}d{} {his} {}b{rother} {Mih}a{}i{}l{}.{} {He was in} {terrible pov}e{}r{}t{}y{},{} {yet}\r",
      "{}\n",
      "{he }t{}o{}o{}k{ up}o{}n{} {himsel}f{} {}t{he paymen}t{ of} {his} {}b{rother}’{}s{} {deb}t{}s{}.{} {He }s{tarted}\r",
      "{\n",
      "an}o{}t{her} {}j{}o{}u{}r{nal}-{}-{}“{}T{he }E{poc}h{},{}”{} {}w{hic}h{} {within a few} {mon}t{}h{}s{} {was also\r",
      "}\n",
      "{}p{roh}i{bit}e{}d{}.{} {He was} {}w{}e{}i{}g{hed} {dow}n{} {}b{}y{} {deb}t{},{} {his} {}b{rother}’{}s{} {fam}i{}l{}y{} {was}\r",
      "{}\n",
      "{dep}e{}n{den}t{ on} {him},{} {he was} {forced} {to }w{rit}e{ at} {}h{}e{}a{}r{}t{}-{}b{}r{}e{}a{kin}g{} {}s{}p{}e{}e{}d{},{ an}d{ is}\r",
      "{}\n",
      "{}s{}a{}i{}d{} {nev}e{}r{} {to hav}e{} {corrected} {his} {wor}k{}.{} {}T{he lat}e{}r{} {}y{}e{}a{}r{}s{ of} {his} {lif}e{} {wer}e{}\r",
      "{}\n",
      "{muc}h{} {soften}e{}d{} {}b{}y{} {}t{he tendernes}s{ an}d{} {dev}o{}t{}i{}o{}n{ of} {his} {sec}o{}n{}d{} {wif}e{}.{}\r",
      "{}\n",
      "{}\r",
      "{}\n",
      "{}I{}n{} {Jun}e{} {}1{}8{}8{}0{} {he mad}e{} {his} {fam}o{}u{}s{} {}s{}p{}e{}e{}c{}h{ at} {}t{he }u{}n{}v{}e{}i{lin}g{ of} {}t{he\r",
      "}\n",
      "{mon}u{men}t{} {to Pus}h{kin in} {Moscow an}d{} {he was} {rec}e{}i{ved} {wit}h{ ex}t{}r{}a{}o{}r{din}a{}r{}y{}\r",
      "{}\n",
      "{dem}o{}n{}s{}t{rat}i{}o{}n{}s{ of} {lov}e{ an}d{} {hon}o{}u{}r{}.{}\r",
      "{}\n",
      "{}\r",
      "{}\n",
      "{}A{} {few} {mon}t{}h{}s{} {lat}e{}r{} {Dos}t{}o{}e{}v{}s{}k{}y{} {}d{}i{}e{}d{}.{} {He was} {follow}e{}d{} {to }t{he }g{rav}e{} {}b{}y{ a\r",
      "}\n",
      "{vas}t{} {multit}u{de }o{}f{} {}m{}o{}u{}r{ner}s{},{} {}w{ho }“{gav}e{} {}t{he haples}s{} {man} {}t{he fun}e{ral of a\r",
      "}\n",
      "{kin}g{}.{}”{} {He }i{}s{} {}s{til}l{} {}p{rob}a{}b{}l{}y{} {}t{he mos}t{} {wid}e{}l{}y{} {}r{}e{}a{}d{} {}w{rit}e{}r{ in} {Rus}s{}i{}a{}.{}\r",
      "{}\n",
      "{}\r",
      "{}\n",
      "{}I{}n{} {}t{he wor}d{}s{ of a Rus}s{}i{}a{}n{} {}c{rit}i{}c{},{} {}w{ho }s{}e{}e{}k{}s{} {to }e{}x{}p{}l{}a{}i{}n{} {}t{he }f{}e{}e{lin}g{}\r",
      "{\n",
      "in}s{pir}e{}d{} {}b{}y{} {Dos}t{}o{}e{}v{}s{}k{}y{}:{} {}“{He was on}e{ of} {}o{}u{}r{selves},{ a man of} {}o{}u{}r{} {}b{}l{}o{}o{}d{ an}d{}\r",
      "{}\n",
      "{}o{}u{}r{} {bon}e{},{} {but on}e{} {}w{ho has} {suffer}e{}d{ an}d{} {has} {}s{}e{}e{}n{} {so muc}h{} {mor}e{} {}d{}e{}e{}p{}l{}y{} {}t{han}\r",
      "{}\n",
      "{we hav}e{} {his insig}h{}t{ im}p{resses us as} {wisdom}.{}.{}.{} {}t{hat} {wisdom of} {}t{he }h{}e{}a{}r{}t{}\r",
      "{}\n",
      "{}w{hic}h{} {we }s{}e{}e{}k{} {}t{hat} {we may} {}l{}e{}a{}r{}n{} {}f{rom it} {how} {to liv}e{}.{} {}A{}l{}l{} {his other}\r",
      "{}\n",
      "{gif}t{}s{} {cam}e{} {to him} {}f{rom} {nat}u{re,} {}t{his} {he won} {for} {himsel}f{ an}d{} {}t{}h{}r{}o{}u{}g{}h{ it} {he\r",
      "}\n",
      "{bec}a{me }g{}r{}e{}a{}t{}.{}”{}\r",
      "{}\n",
      "{}\r",
      "{}\n",
      "{}\r",
      "{}\n",
      "{}\r",
      "{}\n",
      "{}\r",
      "{}\n",
      "{}\r",
      "{}\n",
      "{}C{}R{}I{}M{}E{} {}A{}N{}D{} {}P{}U{}N{}I{}S{}H{}M{}E{}N{}T{}\r",
      "{}\n",
      "{}\r",
      "{}\n",
      "{}\r",
      "{}\n",
      "{}\r",
      "{}\n",
      "{}\r",
      "{}\n",
      "{}P{}A{}R{}T{} {}I{}\r",
      "{}\n",
      "{}\r",
      "{}\n",
      "{}\r",
      "{}\n",
      "{}\r",
      "{}\n",
      "{}C{}H{}A{}P{}T{}E{}R{} {}I{}\r",
      "{}\n",
      "{}\r",
      "{}\n",
      "{}O{}n{ an excep}t{}i{}o{nal}l{}y{} {hot ev}e{nin}g{} {}e{}a{}r{}l{}y{ in} {Jul}y{ a }y{}o{}u{}n{}g{} {man} {cam}e{} {}o{}u{}t{ of}\r",
      "{}\n",
      "{}t{he garret in} {}w{hic}h{} {he lodged in} {}S{}.{} {}P{lac}e{ an}d{} {walked} {}s{low}l{}y{},{ as} {}t{}h{}o{}u{}g{}h{}\r",
      "{\n",
      "in} {hes}i{tat}i{}o{}n{},{} {tow}a{}r{}d{}s{} {}K{}.{} {}b{ridge.}\r",
      "{}\n",
      "{}\r",
      "{}\n",
      "{He had} {succes}s{ful}l{}y{ av}o{}i{ded} {}m{}e{}e{tin}g{} {his} {lan}d{lad}y{ on} {}t{he }s{}t{}a{}i{}r{cas}e{}.{} {His}\r",
      "{}\n",
      "{garret} {was under} {}t{he }r{}o{}o{}f{ of a hig}h{},{} {fiv}e{}-{}s{tor}i{}e{}d{} {}h{}o{}u{se }a{}n{}d{} {was} {mor}e{}\r",
      "{}\n",
      "{lik}e{ a cup}b{}o{}a{}r{}d{} {}t{han a }r{}o{}o{}m{}.{} {}T{he lan}d{lad}y{} {}w{ho }p{rov}i{ded} {him} {wit}h{} {garret},{}\r",
      "{}\n",
      "{dinner}s{},{ an}d{ attendance,} {liv}e{}d{ on} {}t{he }f{}l{}o{}o{}r{} {bel}o{}w{},{ an}d{ ev}e{}r{}y{} {tim}e{}\r",
      "{}\n",
      "{he wen}t{} {}o{}u{}t{} {he was oblig}e{}d{} {to pas}s{} {her} {kit}c{hen},{} {}t{he }d{}o{}o{}r{ of} {}w{hic}h{}\r",
      "{\n",
      "invar}i{}a{}b{}l{}y{} {}s{}t{}o{}o{}d{ op}e{}n{}.{} {}A{}n{}d{} {}e{}a{}c{}h{} {tim}e{} {he passed},{} {}t{he }y{}o{}u{}n{}g{} {man} {had a\r",
      "}\n",
      "{sic}k{},{} {}f{rig}h{ten}e{}d{} {}f{}e{}e{lin}g{},{} {}w{hic}h{} {mad}e{} {him} {}s{cow}l{ an}d{} {}f{}e{}e{}l{ asham}e{}d{}.{} {He was}\r",
      "{}\n",
      "{hop}e{les}s{}l{}y{ in} {deb}t{} {to his} {lan}d{lad}y{},{ an}d{} {was af}r{}a{}i{}d{ of} {}m{}e{}e{tin}g{} {her}.{}\r",
      "{}\n",
      "{}\r",
      "{}\n",
      "{}T{his} {was} {not} {bec}a{}u{se he was} {cow}a{}r{}d{}l{}y{ an}d{ abjec}t{},{} {}q{}u{}i{te }t{he con}t{rar}y{};{} {but}\r",
      "{}\n",
      "{for} {som}e{} {tim}e{} {pas}t{} {he had} {}b{}e{}e{}n{ in an ov}e{}r{}s{}t{}r{}a{}i{ned irrit}a{}b{le condit}i{}o{}n{},{}\r",
      "{}\n",
      "{vergin}g{ on} {}h{}y{pochon}d{}r{}i{}a{}.{} {He had} {bec}o{me so com}p{let}e{}l{}y{ absorbed in}\r",
      "{}\n",
      "{himsel}f{},{ an}d{ is}o{lat}e{}d{} {}f{rom} {his} {fellow}s{} {}t{hat} {he }d{}r{}e{}a{ded} {}m{}e{}e{tin}g{},{} {not}\r",
      "{\n",
      "on}l{}y{} {his} {lan}d{lad}y{},{} {but anyon}e{ at al}l{}.{} {He was} {}c{rushed} {}b{}y{} {pov}e{}r{}t{}y{},{} {but} {}t{he\r\n",
      "an}x{}i{}e{}t{}i{}e{}s{ of} {his} {pos}i{}t{}i{}o{}n{} {had of} {lat}e{} {}c{}e{}a{sed} {to }w{}e{}i{}g{}h{ up}o{}n{} {him}.{} {He had}\r",
      "{}\n",
      "{giv}e{}n{ up attendin}g{} {to matter}s{ of} {}p{ractic}a{}l{ importance;} {he had} {los}t{ al}l{}\r",
      "{}\n",
      "{des}i{re to do so.} {Nothin}g{} {}t{hat an}y{} {lan}d{lad}y{} {}c{}o{}u{}l{}d{} {do had a }r{}e{}a{}l{} {terror}\r",
      "{}\n",
      "{for} {him}.{} {But} {to be }s{topped on} {}t{he }s{}t{}a{}i{}r{}s{},{} {to be forced} {to listen} {to her}\r",
      "{}\n",
      "{}t{riv}i{}a{}l{},{ irrel}e{van}t{} {gossip},{} {to pester}i{}n{}g{} {dem}a{}n{}d{}s{} {for} {paymen}t{},{} {}t{}h{}r{}e{}a{}t{}s{}\r",
      "{\n",
      "an}d{} {com}p{}l{}a{}i{}n{}t{}s{},{ an}d{} {to rac}k{} {his} {}b{}r{}a{}i{}n{}s{} {for excus}e{}s{},{} {to }p{rev}a{ric}a{te,} {to\r",
      "}\n",
      "{}l{}i{}e{}-{}-{no,} {rather} {}t{han} {}t{hat},{} {he }w{}o{}u{}l{}d{} {}c{}r{}e{}e{}p{} {dow}n{} {}t{he }s{}t{}a{}i{}r{}s{} {lik}e{ a cat an}d{}\r",
      "{}\n",
      "{}s{lip} {}o{}u{}t{ un}s{}e{}e{}n{}.{}\r",
      "{}\n",
      "{}\r",
      "{}\n",
      "{}T{his ev}e{nin}g{},{} {how}e{ver},{ on} {com}i{}n{}g{} {}o{}u{}t{ into }t{he }s{}t{}r{}e{}e{}t{},{} {he bec}a{me }a{cut}e{}l{}y{}\r",
      "{\n",
      "aw}a{re }o{}f{} {his} {}f{}e{}a{}r{}s{}.{}\r",
      "{}\n",
      "{}\r",
      "{}\n",
      "{}“{}I{} {wan}t{} {to }a{}t{tem}p{}t{ a }t{hin}g{} {}_{lik}e{} {}t{hat}_{ an}d{ am} {}f{rig}h{ten}e{}d{} {}b{}y{} {}t{hes}e{}\r",
      "{}\n",
      "{}t{rifles},{}”{} {he }t{}h{}o{}u{}g{}h{}t{},{} {wit}h{ an od}d{} {}s{mil}e{}.{} {}“{}H{}m{}.{}.{}.{} {yes},{ al}l{ is in a man}’{}s{}\r",
      "{}\n",
      "{han}d{}s{ an}d{} {he let}s{ it al}l{} {}s{lip} {}f{rom} {cow}a{}r{dic}e{},{} {}t{hat}’{}s{ an ax}i{}o{}m{}.{} {}I{}t{} {}w{}o{}u{}l{}d{}\r",
      "{}\n",
      "{be }i{}n{ter}e{}s{tin}g{} {to }k{now} {}w{hat it is} {men ar}e{} {mos}t{ af}r{}a{}i{}d{ of}.{} {Tak}i{}n{}g{ a new}\r",
      "{}\n",
      "{}s{tep},{ utter}i{}n{}g{ a new} {wor}d{ is} {}w{hat} {}t{hey} {}f{}e{}a{}r{} {mos}t{}.{}.{}.{}.{} {But} {}I{ am} {talkin}g{}\r",
      "{}\n",
      "{}t{}o{}o{} {muc}h{}.{} {}I{}t{}’{}s{} {bec}a{}u{se }I{} {}c{hatter} {}t{hat} {}I{} {do nothin}g{}.{} {}O{}r{} {perhap}s{ it is}\r",
      "{}\n",
      "{}t{hat} {}I{} {}c{hatter} {bec}a{}u{se }I{} {do nothin}g{}.{} {}I{}’{ve }l{}e{}a{}r{ned} {to }c{hatter} {}t{his}\r",
      "{}\n",
      "{las}t{} {mon}t{}h{},{} {}l{yin}g{} {for} {day}s{} {tog}e{}t{her in} {}m{}y{} {den} {}t{hinkin}g{}.{}.{}.{ of} {Jac}k{} {}t{he\r",
      "}\n",
      "{}G{}i{}a{}n{}t{}-{killer}.{} {}W{}h{}y{ am} {}I{} {}g{}o{}i{}n{}g{} {}t{her}e{} {now}?{} {}A{}m{} {}I{} {cap}a{}b{le }o{}f{} {}_{}t{hat}_{}?{} {}I{}s{}\r",
      "{}\n",
      "{}_{}t{hat}_{} {ser}i{}o{}u{}s{}?{} {}I{}t{ is} {not} {ser}i{}o{}u{}s{ at al}l{}.{} {}I{}t{}’{}s{} {sim}p{}l{}y{ a fantas}y{} {to }a{mus}e{}\r",
      "{}\n",
      "{}m{}y{sel}f{};{ a }p{lay}t{hin}g{}!{} {Yes},{} {maybe }i{}t{ is a }p{lay}t{hin}g{}.{}”{}\r",
      "{}\n",
      "{}\r",
      "{}\n",
      "{}T{he }h{}e{}a{}t{ in} {}t{he }s{}t{}r{}e{}e{}t{} {was} {terrible: an}d{} {}t{he }a{}i{}r{les}s{nes}s{},{} {}t{he bus}t{le\r\n",
      "an}d{} {}t{he }p{laster},{} {}s{caffoldin}g{},{} {}b{ric}k{}s{},{ an}d{} {dus}t{ al}l{ ab}o{}u{}t{} {him},{ an}d{} {}t{hat}\r",
      "{}\n",
      "{}s{pec}i{}a{}l{} {Pet}e{}r{}s{bur}g{} {}s{ten}c{}h{},{} {so fam}i{}l{}i{}a{}r{} {to }a{}l{}l{} {}w{ho }a{re }u{nable to get} {}o{}u{}t{}\r",
      "{\n",
      "of} {tow}n{ in} {summer}-{-al}l{} {worked} {}p{}a{}i{}n{ful}l{}y{ up}o{}n{} {}t{he }y{}o{}u{}n{}g{} {man}’{}s{ al}r{}e{}a{}d{}y{}\r",
      "{\n",
      "ov}e{}r{}w{}r{}o{}u{}g{}h{}t{} {nerves}.{} {}T{he }i{}n{suffer}a{}b{le }s{ten}c{}h{} {}f{rom} {}t{he pot}-{}h{}o{}u{ses},{} {}w{hic}h{}\r",
      "{\n",
      "ar}e{} {partic}u{lar}l{}y{} {num}e{}r{}o{}u{}s{ in} {}t{hat} {par}t{ of} {}t{he tow}n{},{ an}d{} {}t{he }d{runken} {men}\r",
      "{}\n",
      "{}w{hom} {he met} {contin}u{}a{}l{}l{}y{},{ al}t{}h{}o{}u{}g{}h{ it} {was a workin}g{} {day},{} {com}p{let}e{}d{}\r",
      "{}\n",
      "{}t{he rev}o{}l{tin}g{} {mis}e{}r{}y{ of} {}t{he pictur}e{}.{} {}A{}n{ ex}p{res}s{}i{}o{}n{ of} {}t{he }p{rof}o{}u{}n{des}t{}\r",
      "{}\n",
      "{disgus}t{} {}g{}l{}e{}a{med} {for a mom}e{}n{}t{ in} {}t{he }y{}o{}u{}n{}g{} {man}’{}s{} {ref}i{ned} {fac}e{}.{} {He was},{}\r",
      "{}\n",
      "{}b{}y{} {}t{he way},{ excep}t{}i{}o{nal}l{}y{} {han}d{som}e{},{ ab}o{ve }t{he }a{ver}a{ge }i{}n{} {}h{}e{}i{}g{}h{}t{},{} {}s{lim},{}\r",
      "{}\n",
      "{wel}l{}-{}b{}u{}i{}l{}t{},{} {wit}h{} {}b{}e{}a{}u{tif}u{}l{} {dar}k{ ey}e{}s{ an}d{} {dar}k{} {}b{row}n{} {}h{}a{}i{}r{}.{} {}S{}o{}o{}n{} {he san}k{}\r",
      "{\n",
      "into }d{}e{}e{}p{} {}t{}h{}o{}u{}g{}h{}t{},{ or} {mor}e{ accur}a{tel}y{} {}s{}p{}e{}a{kin}g{ into }a{} {com}p{let}e{} {}b{lan}k{nes}s{}\r",
      "{\n",
      "of} {min}d{};{} {he walked al}o{}n{}g{} {not observin}g{} {}w{hat} {was ab}o{}u{}t{} {him an}d{} {not} {car}i{}n{}g{}\r",
      "{}\n",
      "{to }o{}b{serve }i{}t{}.{} {}F{rom} {tim}e{} {to tim}e{},{} {he }w{}o{}u{}l{}d{} {mutter} {som}e{}t{hin}g{},{} {}f{rom} {}t{he\r",
      "}\n",
      "{hab}i{}t{ of} {talkin}g{} {to himsel}f{},{} {to }w{hic}h{} {he had} {jus}t{} {confessed}.{} {}A{}t{} {}t{hes}e{}\r",
      "{}\n",
      "{mom}e{}n{}t{}s{} {he }w{}o{}u{}l{}d{} {bec}o{me con}s{}c{}i{}o{}u{}s{} {}t{hat} {his id}e{}a{}s{} {wer}e{} {som}e{tim}e{}s{ in a\r",
      "}\n",
      "{tan}g{le }a{}n{}d{} {}t{hat} {he was} {ver}y{} {}w{}e{}a{}k{};{} {for} {}t{wo day}s{} {he had} {}s{carcel}y{} {tasted}\r",
      "{}\n",
      "{}f{}o{}o{}d{}.{}\r",
      "{}\n",
      "{}\r",
      "{}\n",
      "{He was} {so bad}l{}y{} {}d{ressed} {}t{hat ev}e{}n{ a man accustom}e{}d{} {to }s{habbin}e{}s{}s{} {}w{}o{}u{}l{}d{}\r",
      "{}\n",
      "{hav}e{} {}b{}e{}e{}n{ asham}e{}d{} {to be }s{}e{}e{}n{ in} {}t{he }s{}t{}r{}e{}e{}t{ in} {suc}h{} {rag}s{}.{} {}I{}n{} {}t{hat} {}q{}u{}a{}r{ter}\r",
      "{\n",
      "of} {}t{he tow}n{},{} {how}e{ver},{} {}s{carcel}y{ an}y{} {}s{hor}t{com}i{}n{}g{ in} {}d{res}s{} {}w{}o{}u{}l{}d{} {hav}e{}\r",
      "{}\n",
      "{}c{}r{}e{}a{ted} {sur}p{ris}e{}.{} {}O{win}g{} {to }t{he }p{rox}i{mit}y{ of} {}t{he Hay} {Market},{} {}t{he number}\r",
      "{\n",
      "of establis}h{men}t{}s{ of} {bad} {}c{har}a{}c{ter},{} {}t{he }p{rep}o{}n{der}a{}n{ce }o{}f{} {}t{he }t{rad}i{}n{}g{}\r",
      "{\n",
      "an}d{} {workin}g{} {}c{las}s{} {pop}u{lat}i{}o{}n{} {}c{rowded in} {}t{hes}e{} {}s{}t{}r{}e{}e{}t{}s{ an}d{ alley}s{ in} {}t{he\r",
      "}\n",
      "{}h{}e{}a{}r{}t{ of} {Pet}e{}r{}s{bur}g{},{} {}t{}y{pes} {so var}i{}o{}u{}s{} {wer}e{} {to be }s{}e{}e{}n{ in} {}t{he }s{}t{}r{}e{}e{}t{}s{}\r",
      "{}\n",
      "{}t{hat} {no fig}u{re,} {how}e{ver} {}q{}u{}e{}e{}r{},{} {}w{}o{}u{}l{}d{} {hav}e{} {}c{}a{}u{sed} {sur}p{ris}e{}.{} {But} {}t{her}e{} {was}\r",
      "{}\n",
      "{suc}h{ accum}u{lat}e{}d{} {bitternes}s{ an}d{} {contem}p{}t{ in} {}t{he }y{}o{}u{}n{}g{} {man}’{}s{} {}h{}e{}a{}r{}t{},{} {}t{hat},{}\r",
      "{\n",
      "in} {}s{pit}e{ of al}l{} {}t{he fastid}i{}o{}u{}s{nes}s{ of} {}y{}o{}u{}t{}h{},{} {he minded} {his} {rag}s{} {}l{}e{}a{}s{}t{}\r",
      "{\n",
      "of al}l{ in} {}t{he }s{}t{}r{}e{}e{}t{}.{} {}I{}t{} {was a differ}e{}n{}t{} {matter} {}w{hen} {he met} {wit}h{}\r",
      "{\n",
      "ac}q{}u{}a{}i{}n{tances or} {wit}h{} {former} {fellow} {}s{tud}e{}n{}t{}s{},{} {}w{hom},{ in}d{}e{}e{}d{},{} {he dislik}e{}d{}\r",
      "{}\n",
      "{}m{}e{}e{tin}g{ at an}y{} {tim}e{}.{} {}A{}n{}d{} {yet} {}w{hen a }d{runken} {man} {}w{ho,} {for} {som}e{ un}k{now}n{}\r",
      "{}\n",
      "{}r{}e{}a{son},{} {}w{}\n"
     ]
    }
   ],
   "source": [
    "#the folowwing are words that could contain 1 or more vowels or no characters at all\n",
    "nltk.re_show('([^aeiou][aeiou][^aeiou])*',raw)\n"
   ]
  },
  {
   "cell_type": "code",
   "execution_count": 133,
   "metadata": {},
   "outputs": [
    {
     "name": "stdout",
     "output_type": "stream",
     "text": [
      "{﻿}{The} {Project} {Gutenberg} {EBook} {of} {Crime} {and} {Punishment}{,} {by} {Fyodor} {Dostoevsky}\r\n",
      "\r\n",
      "{This} {eBook} {is} {for} {the} {use} {of} {anyone} {anywhere} {at} {no} {cost} {and} {with}\r\n",
      "{almost} {no} {restrictions} {whatsoever}{.}  {You} {may} {copy} {it}{,} {give} {it} {away} {or}\r\n",
      "{re}{-}{use} {it} {under} {the} {terms} {of} {the} {Project} {Gutenberg} {License} {included}\r\n",
      "{with} {this} {eBook} {or} {online} {at} {www}{.}{gutenberg}{.}{org}\r\n",
      "\r\n",
      "\r\n",
      "{Title}{:} {Crime} {and} {Punishment}\r\n",
      "\r\n",
      "{Author}{:} {Fyodor} {Dostoevsky}\r\n",
      "\r\n",
      "{Release} {Date}{:} {March} {28}{,} {2006} {[}{EBook} {#}{2554}{]}\r\n",
      "{Last} {Updated}{:} {October} {27}{,} {2016}\r\n",
      "\r\n",
      "{Language}{:} {English}\r\n",
      "\r\n",
      "{Character} {set} {encoding}{:} {UTF}{-}{8}\r\n",
      "\r\n",
      "{***} {START} {OF} {THIS} {PROJECT} {GUTENBERG} {EBOOK} {CRIME} {AND} {PUNISHMENT} {***}\r\n",
      "\r\n",
      "\r\n",
      "\r\n",
      "\r\n",
      "{Produced} {by} {John} {Bickers}{;} {and} {Dagny}\r\n",
      "\r\n",
      "\r\n",
      "\r\n",
      "\r\n",
      "\r\n",
      "{CRIME} {AND} {PUNISHMENT}\r\n",
      "\r\n",
      "{By} {Fyodor} {Dostoevsky}\r\n",
      "\r\n",
      "\r\n",
      "\r\n",
      "{Translated} {By} {Constance} {Garnett}\r\n",
      "\r\n",
      "\r\n",
      "\r\n",
      "\r\n",
      "{TRANSLATOR}{’}{S} {PREFACE}\r\n",
      "\r\n",
      "{A} {few} {words} {about} {Dostoevsky} {himself} {may} {help} {the} {English} {reader} {to}\r\n",
      "{understand} {his} {work}{.}\r\n",
      "\r\n",
      "{Dostoevsky} {was} {the} {son} {of} {a} {doctor}{.} {His} {parents} {were} {very} {hard}{-}{working}\r\n",
      "{and} {deeply} {religious} {people}{,} {but} {so} {poor} {that} {they} {lived} {with} {their} {five}\r\n",
      "{children} {in} {only} {two} {rooms}{.} {The} {father} {and} {mother} {spent} {their} {evenings}\r\n",
      "{in} {reading} {aloud} {to} {their} {children}{,} {generally} {from} {books} {of} {a} {serious}\r\n",
      "{character}{.}\r\n",
      "\r\n",
      "{Though} {always} {sickly} {and} {delicate} {Dostoevsky} {came} {out} {third} {in} {the}\r\n",
      "{final} {examination} {of} {the} {Petersburg} {school} {of} {Engineering}{.} {There} {he} {had}\r\n",
      "{already} {begun} {his} {first} {work}{,} {“}{Poor} {Folk}{.”}\r\n",
      "\r\n",
      "{This} {story} {was} {published} {by} {the} {poet} {Nekrassov} {in} {his} {review} {and}\r\n",
      "{was} {received} {with} {acclamations}{.} {The} {shy}{,} {unknown} {youth} {found} {himself}\r\n",
      "{instantly} {something} {of} {a} {celebrity}{.} {A} {brilliant} {and} {successful} {career}\r\n",
      "{seemed} {to} {open} {before} {him}{,} {but} {those} {hopes} {were} {soon} {dashed}{.} {In} {1849} {he}\r\n",
      "{was} {arrested}{.}\r\n",
      "\r\n",
      "{Though} {neither} {by} {temperament} {nor} {conviction} {a} {revolutionist}{,} {Dostoevsky}\r\n",
      "{was} {one} {of} {a} {little} {group} {of} {young} {men} {who} {met} {together} {to} {read} {Fourier}\r\n",
      "{and} {Proudhon}{.} {He} {was} {accused} {of} {“}{taking} {part} {in} {conversations} {against}\r\n",
      "{the} {censorship}{,} {of} {reading} {a} {letter} {from} {Byelinsky} {to} {Gogol}{,} {and} {of}\r\n",
      "{knowing} {of} {the} {intention} {to} {set} {up} {a} {printing} {press}{.”} {Under} {Nicholas}\r\n",
      "{I}{.} {(}{that} {“}{stern} {and} {just} {man}{,”} {as} {Maurice} {Baring} {calls} {him}{)} {this} {was}\r\n",
      "{enough}{,} {and} {he} {was} {condemned} {to} {death}{.} {After} {eight} {months}{’} {imprisonment}\r\n",
      "{he} {was} {with} {twenty}{-}{one} {others} {taken} {out} {to} {the} {Semyonovsky} {Square} {to}\r\n",
      "{be} {shot}{.} {Writing} {to} {his} {brother} {Mihail}{,} {Dostoevsky} {says}{:} {“}{They} {snapped}\r\n",
      "{words} {over} {our} {heads}{,} {and} {they} {made} {us} {put} {on} {the} {white} {shirts} {worn} {by}\r\n",
      "{persons} {condemned} {to} {death}{.} {Thereupon} {we} {were} {bound} {in} {threes} {to} {stakes}{,}\r\n",
      "{to} {suffer} {execution}{.} {Being} {the} {third} {in} {the} {row}{,} {I} {concluded} {I} {had} {only}\r\n",
      "{a} {few} {minutes} {of} {life} {before} {me}{.} {I} {thought} {of} {you} {and} {your} {dear} {ones} {and}\r\n",
      "{I} {contrived} {to} {kiss} {Plestcheiev} {and} {Dourov}{,} {who} {were} {next} {to} {me}{,} {and} {to}\r\n",
      "{bid} {them} {farewell}{.} {Suddenly} {the} {troops} {beat} {a} {tattoo}{,} {we} {were} {unbound}{,}\r\n",
      "{brought} {back} {upon} {the} {scaffold}{,} {and} {informed} {that} {his} {Majesty} {had} {spared}\r\n",
      "{us} {our} {lives}{.”} {The} {sentence} {was} {commuted} {to} {hard} {labour}{.}\r\n",
      "\r\n",
      "{One} {of} {the} {prisoners}{,} {Grigoryev}{,} {went} {mad} {as} {soon} {as} {he} {was} {untied}{,} {and}\r\n",
      "{never} {regained} {his} {sanity}{.}\r\n",
      "\r\n",
      "{The} {intense} {suffering} {of} {this} {experience} {left} {a} {lasting} {stamp} {on}\r\n",
      "{Dostoevsky}{’}{s} {mind}{.} {Though} {his} {religious} {temper} {led} {him} {in} {the} {end} {to}\r\n",
      "{accept} {every} {suffering} {with} {resignation} {and} {to} {regard} {it} {as} {a} {blessing}\r\n",
      "{in} {his} {own} {case}{,} {he} {constantly} {recurs} {to} {the} {subject} {in} {his} {writings}{.}\r\n",
      "{He} {describes} {the} {awful} {agony} {of} {the} {condemned} {man} {and} {insists} {on} {the}\r\n",
      "{cruelty} {of} {inflicting} {such} {torture}{.} {Then} {followed} {four} {years} {of} {penal}\r\n",
      "{servitude}{,} {spent} {in} {the} {company} {of} {common} {criminals} {in} {Siberia}{,} {where}\r\n",
      "{he} {began} {the} {“}{Dead} {House}{,”} {and} {some} {years} {of} {service} {in} {a} {disciplinary}\r\n",
      "{battalion}{.}\r\n",
      "\r\n",
      "{He} {had} {shown} {signs} {of} {some} {obscure} {nervous} {disease} {before} {his} {arrest}\r\n",
      "{and} {this} {now} {developed} {into} {violent} {attacks} {of} {epilepsy}{,} {from} {which} {he}\r\n",
      "{suffered} {for} {the} {rest} {of} {his} {life}{.} {The} {fits} {occurred} {three} {or} {four} {times}\r\n",
      "{a} {year} {and} {were} {more} {frequent} {in} {periods} {of} {great} {strain}{.} {In} {1859} {he} {was}\r\n",
      "{allowed} {to} {return} {to} {Russia}{.} {He} {started} {a} {journal}{--“}{Vremya}{,”} {which} {was}\r\n",
      "{forbidden} {by} {the} {Censorship} {through} {a} {misunderstanding}{.} {In} {1864} {he} {lost}\r\n",
      "{his} {first} {wife} {and} {his} {brother} {Mihail}{.} {He} {was} {in} {terrible} {poverty}{,} {yet}\r\n",
      "{he} {took} {upon} {himself} {the} {payment} {of} {his} {brother}{’}{s} {debts}{.} {He} {started}\r\n",
      "{another} {journal}{--“}{The} {Epoch}{,”} {which} {within} {a} {few} {months} {was} {also}\r\n",
      "{prohibited}{.} {He} {was} {weighed} {down} {by} {debt}{,} {his} {brother}{’}{s} {family} {was}\r\n",
      "{dependent} {on} {him}{,} {he} {was} {forced} {to} {write} {at} {heart}{-}{breaking} {speed}{,} {and} {is}\r\n",
      "{said} {never} {to} {have} {corrected} {his} {work}{.} {The} {later} {years} {of} {his} {life} {were}\r\n",
      "{much} {softened} {by} {the} {tenderness} {and} {devotion} {of} {his} {second} {wife}{.}\r\n",
      "\r\n",
      "{In} {June} {1880} {he} {made} {his} {famous} {speech} {at} {the} {unveiling} {of} {the}\r\n",
      "{monument} {to} {Pushkin} {in} {Moscow} {and} {he} {was} {received} {with} {extraordinary}\r\n",
      "{demonstrations} {of} {love} {and} {honour}{.}\r\n",
      "\r\n",
      "{A} {few} {months} {later} {Dostoevsky} {died}{.} {He} {was} {followed} {to} {the} {grave} {by} {a}\r\n",
      "{vast} {multitude} {of} {mourners}{,} {who} {“}{gave} {the} {hapless} {man} {the} {funeral} {of} {a}\r\n",
      "{king}{.”} {He} {is} {still} {probably} {the} {most} {widely} {read} {writer} {in} {Russia}{.}\r\n",
      "\r\n",
      "{In} {the} {words} {of} {a} {Russian} {critic}{,} {who} {seeks} {to} {explain} {the} {feeling}\r\n",
      "{inspired} {by} {Dostoevsky}{:} {“}{He} {was} {one} {of} {ourselves}{,} {a} {man} {of} {our} {blood} {and}\r\n",
      "{our} {bone}{,} {but} {one} {who} {has} {suffered} {and} {has} {seen} {so} {much} {more} {deeply} {than}\r\n",
      "{we} {have} {his} {insight} {impresses} {us} {as} {wisdom}{...} {that} {wisdom} {of} {the} {heart}\r\n",
      "{which} {we} {seek} {that} {we} {may} {learn} {from} {it} {how} {to} {live}{.} {All} {his} {other}\r\n",
      "{gifts} {came} {to} {him} {from} {nature}{,} {this} {he} {won} {for} {himself} {and} {through} {it} {he}\r\n",
      "{became} {great}{.”}\r\n",
      "\r\n",
      "\r\n",
      "\r\n",
      "\r\n",
      "\r\n",
      "{CRIME} {AND} {PUNISHMENT}\r\n",
      "\r\n",
      "\r\n",
      "\r\n",
      "\r\n",
      "{PART} {I}\r\n",
      "\r\n",
      "\r\n",
      "\r\n",
      "{CHAPTER} {I}\r\n",
      "\r\n",
      "{On} {an} {exceptionally} {hot} {evening} {early} {in} {July} {a} {young} {man} {came} {out} {of}\r\n",
      "{the} {garret} {in} {which} {he} {lodged} {in} {S}{.} {Place} {and} {walked} {slowly}{,} {as} {though}\r\n",
      "{in} {hesitation}{,} {towards} {K}{.} {bridge}{.}\r\n",
      "\r\n",
      "{He} {had} {successfully} {avoided} {meeting} {his} {landlady} {on} {the} {staircase}{.} {His}\r\n",
      "{garret} {was} {under} {the} {roof} {of} {a} {high}{,} {five}{-}{storied} {house} {and} {was} {more}\r\n",
      "{like} {a} {cupboard} {than} {a} {room}{.} {The} {landlady} {who} {provided} {him} {with} {garret}{,}\r\n",
      "{dinners}{,} {and} {attendance}{,} {lived} {on} {the} {floor} {below}{,} {and} {every} {time}\r\n",
      "{he} {went} {out} {he} {was} {obliged} {to} {pass} {her} {kitchen}{,} {the} {door} {of} {which}\r\n",
      "{invariably} {stood} {open}{.} {And} {each} {time} {he} {passed}{,} {the} {young} {man} {had} {a}\r\n",
      "{sick}{,} {frightened} {feeling}{,} {which} {made} {him} {scowl} {and} {feel} {ashamed}{.} {He} {was}\r\n",
      "{hopelessly} {in} {debt} {to} {his} {landlady}{,} {and} {was} {afraid} {of} {meeting} {her}{.}\r\n",
      "\r\n",
      "{This} {was} {not} {because} {he} {was} {cowardly} {and} {abject}{,} {quite} {the} {contrary}{;} {but}\r\n",
      "{for} {some} {time} {past} {he} {had} {been} {in} {an} {overstrained} {irritable} {condition}{,}\r\n",
      "{verging} {on} {hypochondria}{.} {He} {had} {become} {so} {completely} {absorbed} {in}\r\n",
      "{himself}{,} {and} {isolated} {from} {his} {fellows} {that} {he} {dreaded} {meeting}{,} {not}\r\n",
      "{only} {his} {landlady}{,} {but} {anyone} {at} {all}{.} {He} {was} {crushed} {by} {poverty}{,} {but} {the}\r\n",
      "{anxieties} {of} {his} {position} {had} {of} {late} {ceased} {to} {weigh} {upon} {him}{.} {He} {had}\r\n",
      "{given} {up} {attending} {to} {matters} {of} {practical} {importance}{;} {he} {had} {lost} {all}\r\n",
      "{desire} {to} {do} {so}{.} {Nothing} {that} {any} {landlady} {could} {do} {had} {a} {real} {terror}\r\n",
      "{for} {him}{.} {But} {to} {be} {stopped} {on} {the} {stairs}{,} {to} {be} {forced} {to} {listen} {to} {her}\r\n",
      "{trivial}{,} {irrelevant} {gossip}{,} {to} {pestering} {demands} {for} {payment}{,} {threats}\r\n",
      "{and} {complaints}{,} {and} {to} {rack} {his} {brains} {for} {excuses}{,} {to} {prevaricate}{,} {to}\r\n",
      "{lie}{--}{no}{,} {rather} {than} {that}{,} {he} {would} {creep} {down} {the} {stairs} {like} {a} {cat} {and}\r\n",
      "{slip} {out} {unseen}{.}\r\n",
      "\r\n",
      "{This} {evening}{,} {however}{,} {on} {coming} {out} {into} {the} {street}{,} {he} {became} {acutely}\r\n",
      "{aware} {of} {his} {fears}{.}\r\n",
      "\r\n",
      "{“}{I} {want} {to} {attempt} {a} {thing} {_like} {that_} {and} {am} {frightened} {by} {these}\r\n",
      "{trifles}{,”} {he} {thought}{,} {with} {an} {odd} {smile}{.} {“}{Hm}{...} {yes}{,} {all} {is} {in} {a} {man}{’}{s}\r\n",
      "{hands} {and} {he} {lets} {it} {all} {slip} {from} {cowardice}{,} {that}{’}{s} {an} {axiom}{.} {It} {would}\r\n",
      "{be} {interesting} {to} {know} {what} {it} {is} {men} {are} {most} {afraid} {of}{.} {Taking} {a} {new}\r\n",
      "{step}{,} {uttering} {a} {new} {word} {is} {what} {they} {fear} {most}{....} {But} {I} {am} {talking}\r\n",
      "{too} {much}{.} {It}{’}{s} {because} {I} {chatter} {that} {I} {do} {nothing}{.} {Or} {perhaps} {it} {is}\r\n",
      "{that} {I} {chatter} {because} {I} {do} {nothing}{.} {I}{’}{ve} {learned} {to} {chatter} {this}\r\n",
      "{last} {month}{,} {lying} {for} {days} {together} {in} {my} {den} {thinking}{...} {of} {Jack} {the}\r\n",
      "{Giant}{-}{killer}{.} {Why} {am} {I} {going} {there} {now}{?} {Am} {I} {capable} {of} {_that_}{?} {Is}\r\n",
      "{_that_} {serious}{?} {It} {is} {not} {serious} {at} {all}{.} {It}{’}{s} {simply} {a} {fantasy} {to} {amuse}\r\n",
      "{myself}{;} {a} {plaything}{!} {Yes}{,} {maybe} {it} {is} {a} {plaything}{.”}\r\n",
      "\r\n",
      "{The} {heat} {in} {the} {street} {was} {terrible}{:} {and} {the} {airlessness}{,} {the} {bustle}\r\n",
      "{and} {the} {plaster}{,} {scaffolding}{,} {bricks}{,} {and} {dust} {all} {about} {him}{,} {and} {that}\r\n",
      "{special} {Petersburg} {stench}{,} {so} {familiar} {to} {all} {who} {are} {unable} {to} {get} {out}\r\n",
      "{of} {town} {in} {summer}{--}{all} {worked} {painfully} {upon} {the} {young} {man}{’}{s} {already}\r\n",
      "{overwrought} {nerves}{.} {The} {insufferable} {stench} {from} {the} {pot}{-}{houses}{,} {which}\r\n",
      "{are} {particularly} {numerous} {in} {that} {part} {of} {the} {town}{,} {and} {the} {drunken} {men}\r\n",
      "{whom} {he} {met} {continually}{,} {although} {it} {was} {a} {working} {day}{,} {completed}\r\n",
      "{the} {revolting} {misery} {of} {the} {picture}{.} {An} {expression} {of} {the} {profoundest}\r\n",
      "{disgust} {gleamed} {for} {a} {moment} {in} {the} {young} {man}{’}{s} {refined} {face}{.} {He} {was}{,}\r\n",
      "{by} {the} {way}{,} {exceptionally} {handsome}{,} {above} {the} {average} {in} {height}{,} {slim}{,}\r\n",
      "{well}{-}{built}{,} {with} {beautiful} {dark} {eyes} {and} {dark} {brown} {hair}{.} {Soon} {he} {sank}\r\n",
      "{into} {deep} {thought}{,} {or} {more} {accurately} {speaking} {into} {a} {complete} {blankness}\r\n",
      "{of} {mind}{;} {he} {walked} {along} {not} {observing} {what} {was} {about} {him} {and} {not} {caring}\r\n",
      "{to} {observe} {it}{.} {From} {time} {to} {time}{,} {he} {would} {mutter} {something}{,} {from} {the}\r\n",
      "{habit} {of} {talking} {to} {himself}{,} {to} {which} {he} {had} {just} {confessed}{.} {At} {these}\r\n",
      "{moments} {he} {would} {become} {conscious} {that} {his} {ideas} {were} {sometimes} {in} {a}\r\n",
      "{tangle} {and} {that} {he} {was} {very} {weak}{;} {for} {two} {days} {he} {had} {scarcely} {tasted}\r\n",
      "{food}{.}\r\n",
      "\r\n",
      "{He} {was} {so} {badly} {dressed} {that} {even} {a} {man} {accustomed} {to} {shabbiness} {would}\r\n",
      "{have} {been} {ashamed} {to} {be} {seen} {in} {the} {street} {in} {such} {rags}{.} {In} {that} {quarter}\r\n",
      "{of} {the} {town}{,} {however}{,} {scarcely} {any} {shortcoming} {in} {dress} {would} {have}\r\n",
      "{created} {surprise}{.} {Owing} {to} {the} {proximity} {of} {the} {Hay} {Market}{,} {the} {number}\r\n",
      "{of} {establishments} {of} {bad} {character}{,} {the} {preponderance} {of} {the} {trading}\r\n",
      "{and} {working} {class} {population} {crowded} {in} {these} {streets} {and} {alleys} {in} {the}\r\n",
      "{heart} {of} {Petersburg}{,} {types} {so} {various} {were} {to} {be} {seen} {in} {the} {streets}\r\n",
      "{that} {no} {figure}{,} {however} {queer}{,} {would} {have} {caused} {surprise}{.} {But} {there} {was}\r\n",
      "{such} {accumulated} {bitterness} {and} {contempt} {in} {the} {young} {man}{’}{s} {heart}{,} {that}{,}\r\n",
      "{in} {spite} {of} {all} {the} {fastidiousness} {of} {youth}{,} {he} {minded} {his} {rags} {least}\r\n",
      "{of} {all} {in} {the} {street}{.} {It} {was} {a} {different} {matter} {when} {he} {met} {with}\r\n",
      "{acquaintances} {or} {with} {former} {fellow} {students}{,} {whom}{,} {indeed}{,} {he} {disliked}\r\n",
      "{meeting} {at} {any} {time}{.} {And} {yet} {when} {a} {drunken} {man} {who}{,} {for} {some} {unknown}\r\n",
      "{reason}{,} {w}\n"
     ]
    }
   ],
   "source": [
    "# alphanumeric characters or  whitespaces characters (punctuation) ones together\n",
    "nltk.re_show('\\w+|[^\\w\\s]+',raw)\n"
   ]
  },
  {
   "cell_type": "markdown",
   "metadata": {},
   "source": [
    "☼ Write regular expressions to match the following classes of strings:\n",
    "\n",
    "- A single determiner (assume that ***a, an**, and **the** are the only determiners). \n",
    "- An arithmetic expression using integers, addition, and multiplication, such as 2*3+8.\n",
    "\n"
   ]
  },
  {
   "cell_type": "code",
   "execution_count": 142,
   "metadata": {},
   "outputs": [
    {
     "data": {
      "text/plain": [
       "['A', 'a', 'an', 'The', 'the', 'the', 'the', 'the']"
      ]
     },
     "execution_count": 142,
     "metadata": {},
     "output_type": "execute_result"
    }
   ],
   "source": [
    "[w for w in wordlist if re.search('^(An?|an?|The|the)$', w)]"
   ]
  },
  {
   "cell_type": "code",
   "execution_count": 146,
   "metadata": {},
   "outputs": [
    {
     "data": {
      "text/plain": [
       "['2*3+8', '2*3+8', '6+8*58', '25+4*2', '2*3+8', '6+8*58', '25+4*2']"
      ]
     },
     "execution_count": 146,
     "metadata": {},
     "output_type": "execute_result"
    }
   ],
   "source": [
    "#wordlist.append('2*3+8')\n",
    "#wordlist.append('6+8*58')\n",
    "#wordlist.append('25+4*2')\n",
    "[w for w in wordlist if re.search('^\\d+(\\+|\\*)\\d+(\\+|\\*)\\d+$', w)]"
   ]
  },
  {
   "cell_type": "markdown",
   "metadata": {},
   "source": [
    "☼ Write a utility function that takes a URL as its argument, and returns the contents of the URL, with all HTML markup removed. Use from urllib import request and then request.urlopen('http://nltk.org/').read().decode('utf8') to access the contents of the URL."
   ]
  },
  {
   "cell_type": "code",
   "execution_count": 167,
   "metadata": {},
   "outputs": [
    {
     "name": "stdout",
     "output_type": "stream",
     "text": [
      "Convention on the Elimination of All Forms of Discrimination against Women New York, 18 December 1979 \n",
      "   \n",
      "   IntroductionOn 18 December 1979, the Convention on the Elimination of All Forms of Discrimination against Women was adopted by the United Nations General Assembly. It entered into force as an international treaty on 3 September 1981 after the twentieth country had ratified it. By the tenth anniversary of the Convention in 1989, almost one hundred nations have agreed to be bound by its provisions.The Convention was the culmination of more than thirty years of work by the United Nations Commission on the Status of Women, a body established in 1946 to monitor the situation of women and to promote women's rights. The Commission's work has been instrumental in bringing to light all the areas in which women are denied equality with men. These efforts for the advancement of women have resulted in several declarations and conventions, of which the Convention on the Elimination of All Forms of Discrimination against Women is the central and most comprehensive document. Among the international human rights treaties, the Convention takes an important place in bringing the female half of humanity into the focus of human rights concerns. The spirit of the Convention is rooted in the goals of the United Nations: to reaffirm faith in fundamental human rights, in the dignity,v and worth of the human person, in the equal rights of men and women. The present document spells out the meaning of equality and how it can be achieved. In so doing, the Convention establishes not only an international bill of rights for women, but also an agenda for action by countries to guarantee the enjoyment of those rights. In its preamble, the Convention explicitly acknowledges that \"extensive discrimination against women continues to exist\", and emphasizes that such discrimination \"violates the principles of equality of rights and respect for human dignity\". As defined in article 1, discrimination is understood as \"any distinction, exclusion or restriction made o.1 the basis of sex...in the political, economic, social, cultural, civil or any other field\". The Convention gives positive affirmation to the principle of equality by requiring States parties to take \"all appropriate measures, including legislation, to ensure the full development and advancement of women, for the purpose of guaranteeing them the exercise and enjoyment of human rights and fundamental freedoms on a basis of equality with men\"(article 3).The agenda for equality is specified in fourteen subsequent articles. In its approach, the Convention covers three dimensions of the situation of women. Civil rights and the legal status of women are dealt with in great detail. In addition, and unlike other human rights treaties, the Convention is also concerned with the dimension of human reproduction as well as with the impact of cultural factors on gender relations.The legal status of women receives the broadest attention. Concern over the basic rights of political participation has not diminished since the adoption of the Convention on the Political Rights of Women in 1952. Its provisions, therefore, are restated in article 7 of the present document, whereby women are guaranteed the rights to vote, to hold public office and to exercise public functions. This includes equal rights for women to represent their countries at the international level (article 8). The Convention on the Nationality of Married Women - adopted in 1957 - is integrated under article 9 providing for the statehood of women, irrespective of their marital status. The Convention, thereby, draws attention to the fact that often women's legal status has been linked to marriage, making them dependent on their husband's nationality rather than individuals in their own right. Articles 10, 11 and 13, respectively, affirm women's rights to non-discrimination in education, employment and economic and social activities. These demands are given special emphasis with regard to the situation of rural women, whose particular struggles and vital economic contributions, as noted in article 14, warrant more attention in policy planning. Article 15 asserts the full equality of women in civil and business matters, demanding that all instruments directed at restricting women's legal capacity ''shall be deemed null and void\". Finally, in article 16, the Convention returns to the issue of marriage and family relations, asserting the equal rights and obligations of women and men with regard to choice of spouse, parenthood, personal rights and command over property.Aside from civil rights issues, the Convention also devotes major attention to a most vital concern of women, namely their reproductive rights. The preamble sets the tone by stating that \"the role of women in procreation should not be a basis for discrimination\". The link between discrimination and women's reproductive role is a matter of recurrent concern in the Convention. For example, it advocates, in article 5, ''a proper understanding of maternity as a social function\", demanding fully shared responsibility for child-rearing by both sexes. Accordingly, provisions for maternity protection and child-care are proclaimed as essential rights and are incorporated into all areas of the Convention, whether dealing with employment, family law, health core or education. Society's obligation extends to offering social services, especially child-care facilities, that allow individuals to combine family responsibilities with work and participation in public life. Special measures for maternity protection are recommended and \"shall not be considered discriminatory\". (article 4). \"The Convention also affirms women's right to reproductive choice. Notably, it is the only human rights treaty to mention family planning. States parties are obliged to include advice on family planning in the education process (article l O.h) and to develop family codes that guarantee women's rights \"to decide freely and responsibly on the number and spacing of their children and to hove access to the information, education and means to enable them to exercise these rights\" (article 16.e).The third general thrust of the Convention aims at enlarging our understanding of the concept of human rights, as it gives formal recognition to the influence of culture and tradition on restricting women's enjoyment of their fundamental rights. These forces take shape in stereotypes, customs and norms which give rise to the multitude of legal, political and economic constraints on the advancement of women. Noting this interrelationship, the preamble of the Convention stresses \"that a change in the traditional role of men as well as the role of women in society and in the family is needed to achieve full equality of men and women\". States parties are therefore obliged to work towards the modification of social and cultural patterns of individual conduct in order to eliminate \"prejudices and customary and all other practices which are based on the idea of the inferiority or the superiority of either of the sexes or on stereotyped roles for men and women\" (article 5). And Article 1O.c. mandates the revision of textbooks, school programmes and teaching methods with a view to eliminating stereotyped concepts in the field of education. Finally, cultural patterns which define the public realm as a man's world and the domestic sphere as women's domain are strongly targeted in all of the Convention's provisions that affirm the equal responsibilities of both sexes in family life and their equal rights with regard to education and employment. Altogether, the Convention provides a comprehensive framework for challenging the various forces that have created and sustained discrimination based upon sex.The implementation of the Convention is monitored by the Committee on the Elimination of Discrimination against Women (CEDAW). The Committee's mandate and the administration of the treaty are defined in the Articles 17 to 30 of the Convention. The Committee is composed of 23 experts nominated by their Governments and elected by the States parties as individuals \"of high moral standing and competence in the field covered by the Convention\".At least every four years, the States parties are expected to submit a national report to the Committee, indicating the measures they have adopted to give effect to the provisions of the Convention. During its annual session, the Committee members discuss these reports with the Government representatives and explore with them areas for further action by the specific country. The Committee also makes general recommendations to the States parties on matters concerning the elimination of discrimination against women. The full text of the Convention is set out herein: \n",
      "      CONVENTION ON THE ELIMINATION OF ALL FORMS OF DISCRIMINATION AGAINST WOMENThe States Parties to the present Convention, Noting that the Charter of the United Nations reaffirms faith in fundamental human rights, in the dignity and worth of the human person and in the equal rights of men and women, Noting that the Universal Declaration of Human Rights affirms the principle of the inadmissibility of discrimination and proclaims that all human beings are born free and equal in dignity and rights and that everyone is entitled to all the rights and freedoms set forth therein, without distinction of any kind, including distinction based on sex, Noting that the States Parties to the International Covenants on Human Rights have the obligation to ensure the equal rights of men and women to enjoy all economic, social, cultural, civil and political rights, Considering the international conventions concluded under the auspices of the United Nations and the specialized agencies promoting equality of rights of men and women, Noting also the resolutions, declarations and recommendations adopted by the United Nations and the specialized agencies promoting equality of rights of men and women, Concerned, however, that despite these various instruments extensive discrimination against women continues to exist, Recalling that discrimination against women violates the principles of equality of rights and respect for human dignity, is an obstacle to the participation of women, on equal terms with men, in the political, social, economic and cultural life of their countries, hampers the growth of the prosperity of society and the family and makes more difficult the full development of the potentialities of women in the service of their countries and of humanity, Concerned that in situations of poverty women have the least access to food, health, education, training and opportunities for employment and other needs, Convinced that the establishment of the new international economic order based on equity and justice will contribute significantly towards the promotion of equality between men and women, Emphasizing that the eradication of apartheid, all forms of racism, racial discrimination, colonialism, neo-colonialism, aggression, foreign occupation and domination and interference in the internal affairs of States is essential to the full enjoyment of the rights of men and women, Affirming that the strengthening of international peace and security, the relaxation of international tension, mutual co-operation among all States irrespective of their social and economic systems, general and complete disarmament, in particular nuclear disarmament under strict and effective international control, the affirmation of the principles of justice, equality and mutual benefit in relations among countries and the realization of the right of peoples under alien and colonial domination and foreign occupation to self-determination and independence, as well as respect for national sovereignty and territorial integrity, will promote social progress and development and as a consequence will contribute to the attainment of full equality between men and women, Convinced that the full and complete development of a country, the welfare of the world and the cause of peace require the maximum participation of women on equal terms with men in all fields, Bearing in mind the great contribution of women to the welfare of the family and to the development of society, so far not fully recognized, the social significance of maternity and the role of both parents in the family and in the upbringing of children, and aware that the role of women in procreation should not be a basis for discrimination but that the upbringing of children requires a sharing of responsibility between men and women and society as a whole, Aware that a change in the traditional role of men as well as the role of women in society and in the family is needed to achieve full equality between men and women, Determined to implement the principles set forth in the Declaration on the Elimination of Discrimination against Women and, for that purpose, to adopt the measures required for the elimination of such discrimination in all its forms and manifestations, Have agreed on the following:  \n",
      "   PART I \n",
      "    \n",
      "      Article I For the purposes of the present Convention, the term \"discrimination against women\" shall mean any distinction, exclusion or restriction made on the basis of sex which has the effect or purpose of impairing or nullifying the recognition, enjoyment or exercise by women, irrespective of their marital status, on a basis of equality of men and women, of human rights and fundamental freedoms in the political, economic, social, cultural, civil or any other field.  \n",
      "    \n",
      "      Article 2 States Parties condemn discrimination against women in all its forms, agree to pursue by all appropriate means and without delay a policy of eliminating discrimination against women and, to this end, undertake: (a) To embody the principle of the equality of men and women in their national constitutions or other appropriate legislation if not yet incorporated therein and to ensure, through law and other appropriate means, the practical realization of this principle; (b) To adopt appropriate legislative and other measures, including sanctions where appropriate, prohibiting all discrimination against women; (c) To establish legal protection of the rights of women on an equal basis with men and to ensure through competent national tribunals and other public institutions the effective protection of women against any act of discrimination; (d) To refrain from engaging in any act or practice of discrimination against women and to ensure that public authorities and institutions shall act in conformity with this obligation; (e) To take all appropriate measures to eliminate discrimination against women by any person, organization or enterprise; (f) To take all appropriate measures, including legislation, to modify or abolish existing laws, regulations, customs and practices which constitute discrimination against women; (g) To repeal all national penal provisions which constitute discrimination against women.  \n",
      "    \n",
      "      Article 3 States Parties shall take in all fields, in particular in the political, social, economic and cultural fields, all appropriate measures, including legislation, to en sure the full development and advancement of women , for the purpose of guaranteeing them the exercise and enjoyment of human rights and fundamental freedoms on a basis of equality with men.  \n",
      "    \n",
      "      Article 4 1. Adoption by States Parties of temporary special measures aimed at accelerating de facto equality between men and women shall not be considered discrimination as defined in the present Convention, but shall in no way entail as a consequence the maintenance of unequal or separate standards; these measures shall be discontinued when the objectives of equality of opportunity and treatment have been achieved. 2. Adoption by States Parties of special measures, including those measures contained in the present Convention, aimed at protecting maternity shall not be considered discriminatory.  \n",
      " \n",
      "   Article 5 States Parties shall take all appropriate measures: (a) To modify the social and cultural patterns of conduct of men and women, with a view to achieving the elimination of prejudices and customary and all other practices which are based on the idea of the inferiority or the superiority of either of the sexes or on stereotyped roles for men and women; \n",
      "(b) To ensure that family education includes a proper understanding of maternity as a social function and the recognition of the common responsibility of men and women in the upbringing and development of their children, it being understood that the interest of the children is the primordial consideration in all cases.  \n",
      "    \n",
      "      Article 6 States Parties shall take all appropriate measures, including legislation, to suppress all forms of traffic in women and exploitation of prostitution of women.  \n",
      "   PART II \n",
      "    \n",
      "      Article 7 States Parties shall take all appropriate measures to eliminate discrimination against women in the political and public life of the country and, in particular, shall ensure to women, on equal terms with men, the right: (a) To vote in all elections and public referenda and to be eligible for election to all publicly elected bodies; \n",
      "(b) To participate in the formulation of government policy and the implementation thereof and to hold public office and perform all public functions at all levels of government; (c) To participate in non-governmental organizations and associations concerned with the public and political life of the country.  \n",
      "    \n",
      "      Article 8 States Parties shall take all appropriate measures to ensure to women, on equal terms with men and without any discrimination, the opportunity to represent their Governments at the international level and to participate in the work of international organizations.  \n",
      "    \n",
      "      Article 9 1. States Parties shall grant women equal rights with men to acquire, change or retain their nationality. They shall ensure in particular that neither marriage to an alien nor change of nationality by the husband during marriage shall automatically change the nationality of the wife, render her stateless or force upon her the nationality of the husband. 2. States Parties shall grant women equal rights with men with respect to the nationality of their children.  \n",
      "   PART III \n",
      "    \n",
      "      Article 10 States Parties shall take all appropriate measures to eliminate discrimination against women in order to ensure to them equal rights with men in the field of education and in particular to ensure, on a basis of equality of men and women: (a) The same conditions for career and vocational guidance, for access to studies and for the achievement of diplomas in educational establishments of all categories in rural as well as in urban areas; this equality shall be ensured in pre-school, general, technical, professional and higher technical education, as well as in all types of vocational training; \n",
      "(b) Access to the same curricula, the same examinations, teaching staff with qualifications of the same standard and school premises and equipment of the same quality; (c) The elimination of any stereotyped concept of the roles of men and women at all levels and in all forms of education by encouraging coeducation and other types of education which will help to achieve this aim and, in particular, by the revision of textbooks and school programmes and the adaptation of teaching methods; (d ) The same opportunities to benefit from scholarships and other study grants; (e) The same opportunities for access to programmes of continuing education, including adult and functional literacy programmes, particulary those aimed at reducing, at the earliest possible time, any gap in education existing between men and women; (f) The reduction of female student drop-out rates and the organization of programmes for girls and women who have left school prematurely; (g) The same Opportunities to participate actively in sports and physical education; (h) Access to specific educational information to help to ensure the health and well-being of families, including information and advice on family planning.  \n",
      "    \n",
      "      Article 11 1. States Parties shall take all appropriate measures to eliminate discrimination against women in the field of employment in order to ensure, on a basis of equality of men and women, the same rights, in particular: (a) The right to work as an inalienable right of all human beings; (b) The right to the same employment opportunities, including the application of the same criteria for selection in matters of employment; (c) The right to free choice of profession and employment, the right to promotion, job security and all benefits and conditions of service and the right to receive vocational training and retraining, including apprenticeships, advanced vocational training and recurrent training; (d) The right to equal remuneration, including benefits, and to equal treatment in respect of work of equal value, as well as equality of treatment in the evaluation of the quality of work; (e) The right to social security, particularly in cases of retirement, unemployment, sickness, invalidity and old age and other incapacity to work, as well as the right to paid leave; (f) The right to protection of health and to safety in working conditions, including the safeguarding of the function of reproduction. 2. In order to prevent discrimination against women on the grounds of marriage or maternity and to ensure their effective right to work, States Parties shall take appropriate measures: (a) To prohibit, subject to the imposition of sanctions, dismissal on the grounds of pregnancy or of maternity leave and discrimination in dismissals on the basis of marital status; \n",
      "(b) To introduce maternity leave with pay or with comparable social benefits without loss of former employment, seniority or social allowances; (c) To encourage the provision of the necessary supporting social services to enable parents to combine family obligations with work responsibilities and participation in public life, in particular through promoting the establishment and development of a network of child-care facilities; (d) To provide special protection to women during pregnancy in types of work proved to be harmful to them. 3. Protective legislation relating to matters covered in this article shall be reviewed periodically in the light of scientific and technological knowledge and shall be revised, repealed or extended as necessary.  \n",
      "    \n",
      "      Article 12 1. States Parties shall take all appropriate measures to eliminate discrimination against women in the field of health care in order to ensure, on a basis of equality of men and women, access to health care services, including those related to family planning. 2. Notwithstanding the provisions of paragraph I of this article, States Parties shall ensure to women appropriate services in connection with pregnancy, confinement and the post-natal period, granting free services where necessary, as well as adequate nutrition during pregnancy and lactation.  \n",
      " \n",
      "   Article 13 States Parties shall take all appropriate measures to eliminate discrimination against women in other areas of economic and social life in order to ensure, on a basis of equality of men and women, the same rights, in particular: (a) The right to family benefits; \n",
      "(b) The right to bank loans, mortgages and other forms of financial credit; (c) The right to participate in recreational activities, sports and all aspects of cultural life.  \n",
      " \n",
      "   Article 14 1. States Parties shall take into account the particular problems faced by rural women and the significant roles which rural women play in the economic survival of their families, including their work in the non-monetized sectors of the economy, and shall take all appropriate measures to ensure the application of the provisions of the present Convention to women in rural areas. \n",
      "2. States Parties shall take all appropriate measures to eliminate discrimination against women in rural areas in order to ensure, on a basis of equality of men and women, that they participate in and benefit from rural development and, in particular, shall ensure to such women the right: (a) To participate in the elaboration and implementation of development planning at all levels; \n",
      "(b) To have access to adequate health care facilities, including information, counselling and services in family planning; (c) To benefit directly from social security programmes; (d) To obtain all types of training and education, formal and non-formal, including that relating to functional literacy, as well as, inter alia, the benefit of all community and extension services, in order to increase their technical proficiency; (e) To organize self-help groups and co-operatives in order to obtain equal access to economic opportunities through employment or self employment; (f) To participate in all community activities; (g) To have access to agricultural credit and loans, marketing facilities, appropriate technology and equal treatment in land and agrarian reform as well as in land resettlement schemes; (h) To enjoy adequate living conditions, particularly in relation to housing, sanitation, electricity and water supply, transport and communications.  \n",
      "PART IV \n",
      " \n",
      "    \n",
      "      Article 15 1. States Parties shall accord to women equality with men before the law. \n",
      "2. States Parties shall accord to women, in civil matters, a legal capacity identical to that of men and the same opportunities to exercise that capacity. In particular, they shall give women equal rights to conclude contracts and to administer property and shall treat them equally in all stages of procedure in courts and tribunals. 3. States Parties agree that all contracts and all other private instruments of any kind with a legal effect which is directed at restricting the legal capacity of women shall be deemed null and void. 4. States Parties shall accord to men and women the same rights with regard to the law relating to the movement of persons and the freedom to choose their residence and domicile.  \n",
      "    \n",
      "      Article 161. States Parties shall take all appropriate measures to eliminate discrimination against women in all matters relating to marriage and family relations and in particular shall ensure, on a basis of equality of men and women: (a) The same right to enter into marriage; (b) The same right freely to choose a spouse and to enter into marriage only with their free and full consent; (c) The same rights and responsibilities during marriage and at its dissolution; (d) The same rights and responsibilities as parents, irrespective of their marital status, in matters relating to their children; in all cases the interests of the children shall be paramount; (e) The same rights to decide freely and responsibly on the number and spacing of their children and to have access to the information, education and means to enable them to exercise these rights; (f) The same rights and responsibilities with regard to guardianship, wardship, trusteeship and adoption of children, or similar institutions where these concepts exist in national legislation; in all cases the interests of the children shall be paramount; (g) The same personal rights as husband and wife, including the right to choose a family name, a profession and an occupation; (h) The same rights for both spouses in respect of the ownership, acquisition, management, administration, enjoyment and disposition of property, whether free of charge or for a valuable consideration. 2. The betrothal and the marriage of a child shall have no legal effect, and all necessary action, including legislation, shall be taken to specify a minimum age for marriage and to make the registration of marriages in an official registry compulsory.  \n",
      "   PART V \n",
      "    \n",
      "      Article 17 1. For the purpose of considering the progress made in the implementation of the present Convention, there shall be established a \n",
      "Committee on the Elimination of Discrimination against Women (hereinafter referred to as the Committee) consisting, at the time of entry into force of the Convention, of eighteen and, after ratification of or accession to the Convention by the thirty-fifth State Party, of twenty-three experts of high moral standing and competence in the field covered by the Convention. The experts shall be elected by States Parties from among their nationals and shall serve in their personal capacity, consideration being given to equitable geographical distribution and to the representation of the different forms of civilization as well as the principal legal systems. \n",
      "2. The members of the Committee shall be elected by secret ballot from a list of persons nominated by States Parties. Each State Party may nominate one person from among its own nationals. 3. The initial election shall be held six months after the date of the entry into force of the present Convention. At least three months before the date of each election the Secretary-General of the United Nations shall address a letter to the States Parties inviting them to submit their nominations within two months. The Secretary-General shall prepare a list in alphabetical order of all persons thus nominated, indicating the States Parties which have nominated them, and shall submit it to the States Parties. 4. Elections of the members of the Committee shall be held at a meeting of States Parties convened by the Secretary-General at United Nations Headquarters. At that meeting, for which two thirds of the States Parties shall constitute a quorum, the persons elected to the Committee shall be those nominees who obtain the largest number of votes and an absolute majority of the votes of the representatives of States Parties present and voting. 5. The members of the Committee shall be elected for a term of four years. However, the terms of nine of the members elected at the first election shall expire at the end of two years; immediately after the first election the names of these nine members shall be chosen by lot by the Chairman of the Committee. 6. The election of the five additional members of the Committee shall be held in accordance with the provisions of paragraphs 2, 3 and 4 of this article, following the thirty-fifth ratification or accession. The terms of two of the additional members elected on this occasion shall expire at the end of two years, the names of these two members having been chosen by lot by the Chairman of the Committee. 7. For the filling of casual vacancies, the State Party whose expert has ceased to function as a member of the Committee shall appoint another expert from among its nationals, subject to the approval of the Committee. 8. The members of the Committee shall, with the approval of the General Assembly, receive emoluments from United Nations resources on such terms and conditions as the Assembly may decide, having regard to the importance of the Committee's responsibilities. 9. The Secretary-General of the United Nations shall provide the necessary staff and facilities for the effective performance of the functions of the Committee under the present Convention.  \n",
      "    \n",
      "      Article 181. States Parties undertake to submit to the Secretary-General of the United Nations, for consideration by the Committee, a report on the legislative, judicial, administrative or other measures which they have adopted to give effect to the provisions of the present Convention and on the progress made in this respect: (a) Within one year after the entry into force for the State concerned; (b) Thereafter at least every four years and further whenever the Committee so requests. 2. Reports may indicate factors and difficulties affecting the degree of fulfilment of obligations under the present Convention. \n",
      " \n",
      " \n",
      " \n",
      "   Article 19 1. The Committee shall adopt its own rules of procedure. \n",
      "2. The Committee shall elect its officers for a term of two years.  \n",
      "    \n",
      "      Article 20 1. The Committee shall normally meet for a period of not more than two weeks annually in order to consider the reports submitted in accordance with article 18 of the present Convention. 2. The meetings of the Committee shall normally be held at United Nations Headquarters or at any other convenient place as determined by the Committee. (amendment, \n",
      "   status of ratification)  \n",
      "    \n",
      "      Article 21 1. The Committee shall, through the Economic and Social Council, report annually to the General Assembly of the United Nations on its activities and may make suggestions and general recommendations based on the examination of reports and information received from the States Parties. Such suggestions and general recommendations shall be included in the report of the Committee together with comments, if any, from States Parties. 2. The Secretary-General of the United Nations shall transmit the reports of the Committee to the Commission on the Status of Women for its information.  \n",
      "    \n",
      "      Article 22 The specialized agencies shall be entitled to be represented at the consideration of the implementation of such provisions of the present Convention as fall within the scope of their activities. The Committee may invite the specialized agencies to submit reports on the implementation of the Convention in areas falling within the scope of their activities.  \n",
      "   PART VI \n",
      "    \n",
      "      Article 23 Nothing in the present Convention shall affect any provisions that are more conducive to the achievement of equality between men and women which may be contained: (a) In the legislation of a State Party; or \n",
      "(b) In any other international convention, treaty or agreement in force for that State.  \n",
      "    \n",
      "      Article 24 States Parties undertake to adopt all necessary measures at the national level aimed at achieving the full realization of the rights recognized in the present Convention.  \n",
      "    \n",
      "      Article 25 1. The present Convention shall be open for signature by all States. 2. The Secretary-General of the United Nations is designated as the depositary of the present Convention. 3. The present Convention is subject to ratification. Instruments of ratification shall be deposited with the Secretary-General of the United Nations. 4. The present Convention shall be open to accession by all States. Accession shall be effected by the deposit of an instrument of accession with the Secretary-General of the United Nations.  \n",
      "    \n",
      "      Article 261. A request for the revision of the present Convention may be made at any time by any State Party by means of a notification in writing addressed to the Secretary-General of the United Nations. 2. The General Assembly of the United Nations shall decide upon the steps, if any, to be taken in respect of such a request.  \n",
      "    \n",
      "      Article 271. The present Convention shall enter into force on the thirtieth day after the date of deposit with the Secretary-General of the United Nations of the twentieth instrument of ratification or accession. 2. For each State ratifying the present Convention or acceding to it after the deposit of the twentieth instrument of ratification or accession, the Convention shall enter into force on the thirtieth day after the date of the deposit of its own instrument of ratification or accession.  \n",
      "    \n",
      "      Article 281. The Secretary-General of the United Nations shall receive and circulate to all States the text of reservations made by States at the time of ratification or accession. 2. A reservation incompatible with the object and purpose of the present Convention shall not be permitted. 3. Reservations may be withdrawn at any time by notification to this effect addressed to the Secretary-General of the United Nations, who shall then inform all States thereof. Such notification shall take effect on the date on which it is received.  \n",
      "    \n",
      "      Article 291. Any dispute between two or more States Parties concerning the interpretation or application of the present Convention which is not settled by negotiation shall, at the request of one of them, be submitted to arbitration. If within six months from the date of the request for arbitration the parties are unable to agree on the organization of the arbitration, any one of those parties may refer the dispute to the International Court of Justice by request in conformity with the Statute of the Court. 2. Each State Party may at the time of signature or ratification of the present Convention or accession thereto declare that it does not consider itself bound by paragraph I of this article. The other States Parties shall not be bound by that paragraph with respect to any State Party which has made such a reservation. 3. Any State Party which has made a reservation in accordance with paragraph 2 of this article may at any time withdraw that reservation by notification to the Secretary-General of the United Nations.  \n",
      "    \n",
      "      Article 30The present Convention, the Arabic, Chinese, English, French, Russian and Spanish texts of which are equally authentic, shall be deposited with the Secretary-General of the United Nations. IN WITNESS WHEREOF the undersigned, duly authorized, have signed the present Convention. \n",
      "\t\t\t\t\t\n",
      "\t\t\t\t\t\n",
      "\t\t\t\t\tHTMLCountry10Related information\n",
      "\n",
      "Committee on the Elimination of All Forms of Discrimination against Women (CEDAW) \n",
      "Status of ratification, Reservations and declarationsSee also\n",
      "\n",
      "The core international human rights instruments\n",
      "Universal human rights instruments\n",
      "Charter of the United Nations \n",
      "The International Bill of Human Rights \n",
      "Universal Declaration of Human Rights 1948\n",
      "Links\n",
      "\n",
      "Human rights conferences \n",
      "Human rights bodies \n",
      "Publications \n",
      "The 20th Anniversary of the OHCHR\n",
      "\n",
      "VDPA booklet (20th anniversary edition - PDF) \n",
      "\n",
      "\t\t\t\t\n",
      "\t\t\n",
      "\n",
      "\n",
      "\t\n",
      "\n",
      "\t\n",
      "\n",
      "                        \n",
      "                        \n",
      "                    \n",
      "                    \n",
      "                        \n",
      "                        \n",
      "                            Contact us\n",
      "                            \n",
      "                            \n",
      "                            \n",
      "                            \n",
      "                            \n",
      "                            \n",
      "                            \n",
      "                            \n",
      "                            \n",
      "                            \n",
      "                                \n",
      "                                    \n",
      "                                        Home\n",
      "                                        \n",
      "                                        \n",
      "                                        \n",
      "                                        \n",
      "                                        \n",
      "                                        \n",
      "                                        \n",
      "                                        \n",
      "                                        \n",
      "                                    \n",
      "                                    \n",
      "                                        Frequently Asked Questions\n",
      "                                        \n",
      "                                        \n",
      "                                        \n",
      "                                        \n",
      "                                        \n",
      "                                        \n",
      "                                        \n",
      "                                        \n",
      "                                        \n",
      "                                    \n",
      "                                    \n",
      "                                        OHCHR on Social Media\n",
      "                                        \n",
      "                                        \n",
      "                                        \n",
      "                                        \n",
      "                                        \n",
      "                                        \n",
      "                                        \n",
      "                                        \n",
      "                                        \n",
      "                                    \n",
      "                                    \n",
      "                                        OHCHR Memorial\n",
      "                                        \n",
      "                                        \n",
      "                                        \n",
      "                                        \n",
      "                                        \n",
      "                                        \n",
      "                                        \n",
      "                                        \n",
      "                                        \n",
      "                                    \n",
      "                                    \n",
      "                                        Employment\n",
      "                                        \n",
      "                                        \n",
      "                                        \n",
      "                                        \n",
      "                                        \n",
      "                                        \n",
      "                                        \n",
      "                                        \n",
      "                                        \n",
      "                                    \n",
      "                                    \n",
      "                                        Mobile App\n",
      "                                        \n",
      "                                        \n",
      "                                        \n",
      "                                        \n",
      "                                        \n",
      "                                    \n",
      "\n",
      "                                \n",
      "                            \n",
      "                            \n",
      "                            \n",
      "                            \n",
      "                            \n",
      "                            \n",
      "                                \n",
      "                                    \n",
      "                                        Site Map\n",
      "                                        \n",
      "                                        \n",
      "                                        \n",
      "                                        \n",
      "                                        \n",
      "                                        \n",
      "                                        \n",
      "                                        \n",
      "                                        \n",
      "                                    \n",
      "                                    \n",
      "                                        © OHCHR 1996-2018\n",
      "                                        \n",
      "                                        \n",
      "                                        \n",
      "                                        \n",
      "                                        \n",
      "                                        \n",
      "                                        \n",
      "                                        \n",
      "                                        \n",
      "                                    \n",
      "                                \n",
      "                            \n",
      "                            \n",
      "                            \n",
      "                            \n",
      "                            \n",
      "                            \n",
      "                                Third section\n",
      "                                \n",
      "                                \n",
      "                                \n",
      "                                \n",
      "                                \n",
      "                                \n",
      "                                \n",
      "                                \n",
      "                                \n",
      "                                \n",
      "                                    \n",
      "                                        Lorem ipsum\n",
      "                                        \n",
      "                                        \n",
      "                                        \n",
      "                                        \n",
      "                                        \n",
      "                                        \n",
      "                                        \n",
      "                                        \n",
      "                                        \n",
      "                                    \n",
      "                                    \n",
      "                                        Dolor si amet\n",
      "                                        \n",
      "                                        \n",
      "                                        \n",
      "                                        \n",
      "                                        \n",
      "                                        \n",
      "                                        \n",
      "                                        \n",
      "                                        \n",
      "                                    \n",
      "                                    \n",
      "                                        Consegur\n",
      "                                        \n",
      "                                        \n",
      "                                        \n",
      "                                        \n",
      "                                        \n",
      "                                        \n",
      "                                        \n",
      "                                        \n",
      "                                        \n",
      "                                    \n",
      "                                    \n",
      "                                        Toussa man\n",
      "                                        \n",
      "                                        \n",
      "                                        \n",
      "                                        \n",
      "                                        \n",
      "                                        \n",
      "                                        \n",
      "                                        \n",
      "                                        \n",
      "                                    \n",
      "                                \n",
      "                            \n",
      "                        \n",
      "                        \n",
      "                    \n",
      "                \n",
      "            \n",
      "        \n",
      "        \n",
      "        //<![CDATA[   \n",
      "        \n",
      "        \n",
      "        //]]>\n",
      "\n",
      "        //<![CDATA[\n",
      "\tvar gaJsHost = ((\"https:\" == document.location.protocol) ? \"https://ssl.\" : \"http://www.\");\n",
      "\tdocument.write(unescape(\"%3Cscript src='\" + gaJsHost + \"google-analytics.com/ga.js' type='text/javascript'%3E%3C/script%3E\"));\n",
      "\t\n",
      "        \n",
      "        //]]>\n",
      "        //<![CDATA[\n",
      "\tvar pageTracker = _gat._getTracker(\"UA-3838128-1\");\n",
      "\tpageTracker._initData();\n",
      "\tpageTracker._trackPageview();\n",
      "\t\n",
      "        \n",
      "        //]]>\n",
      "    \n",
      "//<![CDATA[\n",
      "        var formDigestElement = document.getElementsByName('__REQUESTDIGEST')[0];\n",
      "        if (!((formDigestElement == null) || (formDigestElement.tagName.toLowerCase() != 'input') || (formDigestElement.type.toLowerCase() != 'hidden') ||\n",
      "            (formDigestElement.value == null) || (formDigestElement.value.length <= 0)))\n",
      "        {\n",
      "            formDigestElement.value = '0x4114E10CCF0B7D03F2491BF2AD3A633ECDFDABA08EB954291397B42C16968548073A5F5B825372612E5283E481A0EF89B4FF963EF31C0C0AB26BB7D8CD994454,27 Aug 2018 19:59:47 -0000';\n",
      "            g_updateFormDigestPageLoaded = new Date();\n",
      "        }\n",
      "        //]]>\n",
      "        \n",
      "\n",
      "\n",
      "\n",
      "//<![CDATA[\n",
      "var _spFormDigestRefreshInterval = 1440000;window.g_updateFormDigestPageLoaded = new Date(); window.g_updateFormDigestPageLoaded.setDate(window.g_updateFormDigestPageLoaded.getDate() -5);var _fV4UI = true;\n",
      "function _RegisterWebPartPageCUI()\n",
      "{\n",
      "    var initInfo = {editable: false,isEditMode: false,allowWebPartAdder: false,listId: \"{4615bbac-6abb-4fd2-8d55-3c5710809666}\",itemId: 9,recycleBinEnabled: true,enableMinorVersioning: false,enableModeration: true,forceCheckout: true,rootFolderUrl: \"\\u002fEN\\u002fProfessionalInterest\\u002fPages\",itemPermissions:{High:16,Low:196705}};\n",
      "    SP.Ribbon.WebPartComponent.registerWithPageManager(initInfo);\n",
      "    var wpcomp = SP.Ribbon.WebPartComponent.get_instance();\n",
      "    var hid;\n",
      "    hid = document.getElementById(\"_wpSelected\");\n",
      "    if (hid != null)\n",
      "    {\n",
      "        var wpid = hid.value;\n",
      "        if (wpid.length > 0)\n",
      "        {\n",
      "            var zc = document.getElementById(wpid);\n",
      "            if (zc != null)\n",
      "                wpcomp.selectWebPart(zc, false);\n",
      "        }\n",
      "    }\n",
      "    hid = document.getElementById(\"_wzSelected\");\n",
      "    if (hid != null)\n",
      "    {\n",
      "        var wzid = hid.value;\n",
      "        if (wzid.length > 0)\n",
      "        {\n",
      "            wpcomp.selectWebPartZone(null, wzid);\n",
      "        }\n",
      "    }\n",
      "};\n",
      "function __RegisterWebPartPageCUI() {\n",
      "ExecuteOrDelayUntilScriptLoaded(_RegisterWebPartPageCUI, \"sp.ribbon.js\");}\n",
      "_spBodyOnLoadFunctionNames.push(\"__RegisterWebPartPageCUI\");var __wpmExportWarning='This Web Part Page has been personalized. As a result, one or more Web Part properties may contain confidential information. Make sure the properties contain information that is safe for others to read. After exporting this Web Part, view properties in the Web Part description file (.WebPart) by using a text editor such as Microsoft Notepad.';var __wpmCloseProviderWarning='You are about to close this Web Part.  It is currently providing data to other Web Parts, and these connections will be deleted if this Web Part is closed.  To close this Web Part, click OK.  To keep this Web Part, click Cancel.';var __wpmDeleteWarning='You are about to permanently delete this Web Part.  Are you sure you want to do this?  To delete this Web Part, click OK.  To keep this Web Part, click Cancel.';var g_clientIdDeltaPlaceHolderMain = \"DeltaPlaceHolderMain\";\n",
      "var g_clientIdDeltaPlaceHolderUtilityContent = \"DeltaPlaceHolderUtilityContent\";\n",
      "//]]>\n",
      "\n",
      "\n",
      "\n"
     ]
    }
   ],
   "source": [
    "from bs4 import BeautifulSoup\n",
    "url=\"https://www.ohchr.org/EN/ProfessionalInterest/Pages/CEDAW.aspx\"\n",
    "html = request.urlopen(url).read().decode('utf8')\n",
    "raw = BeautifulSoup(html).get_text()\n",
    "start_pos= raw.find(\"Convention on the Elimination of All Forms of Discrimination against Women New York, 18 December 1979\")\n",
    "raw = raw[start_pos:]\n",
    "print(raw)\n"
   ]
  },
  {
   "cell_type": "markdown",
   "metadata": {},
   "source": [
    "☼ Save some text into a file corpus.txt. Define a function load(f) that reads from the file named in its sole argument, and returns a string containing the text of the file.\n",
    "\n",
    "- Use nltk.regexp_tokenize() to create a tokenizer that tokenizes the various kinds of punctuation in this text. Use one multi-line regular expression, with inline comments, using the verbose flag (?x). \n",
    "- Use nltk.regexp_tokenize() to create a tokenizer that tokenizes the following kinds of expression: monetary amounts; dates; names of people and organizations. "
   ]
  },
  {
   "cell_type": "code",
   "execution_count": 201,
   "metadata": {},
   "outputs": [
    {
     "data": {
      "text/plain": [
       "[('', '', 'All Forms '),\n",
       " ('', '', 'Women New '),\n",
       " ('', '18 December 1979', ''),\n",
       " ('', '', 'Introduction\\nOn '),\n",
       " ('', '18 December 1979', ''),\n",
       " ('', '', 'All Forms '),\n",
       " ('', '', 'General Assembly'),\n",
       " ('', '3 September 1981', ''),\n",
       " ('', '', 'The Convention '),\n",
       " ('', '', 'United Nations '),\n",
       " ('', '', 'The Commission'),\n",
       " ('', '', 'All Forms '),\n",
       " ('', '', 'United Nations'),\n",
       " ('', '', 'The Convention '),\n",
       " ('', '', 'Political Rights '),\n",
       " ('', '', 'The Convention '),\n",
       " ('', '', 'Married Women '),\n",
       " ('', '', 'The Convention'),\n",
       " ('', '', 'The Convention '),\n",
       " ('', '', 'And Article '),\n",
       " ('', '', 'The Committee'),\n",
       " ('', '', 'The Committee '),\n",
       " ('', '', 'The Committee '),\n",
       " ('', '', 'N T'),\n",
       " ('', '', 'E E'),\n",
       " ('', '', 'F A'),\n",
       " ('', '', 'L F'),\n",
       " ('', '', 'F D'),\n",
       " ('', '', 'N A'),\n",
       " ('', '', 'T W'),\n",
       " ('', '', 'States Parties '),\n",
       " ('', '', 'United Nations '),\n",
       " ('', '', 'Universal Declaration '),\n",
       " ('', '', 'Human Rights '),\n",
       " ('', '', 'States Parties '),\n",
       " ('', '', 'International Covenants '),\n",
       " ('', '', 'Human Rights '),\n",
       " ('', '', 'United Nations '),\n",
       " ('', '', 'United Nations '),\n",
       " ('', '', 'Article I\\n\\n'),\n",
       " ('', '', 'States Parties '),\n",
       " ('', '', 'States Parties '),\n",
       " ('', '', 'States Parties '),\n",
       " ('', '', 'States Parties '),\n",
       " ('', '', 'States Parties '),\n",
       " ('', '', 'States Parties '),\n",
       " ('', '', 'I\\n\\nArticle '),\n",
       " ('', '', 'States Parties '),\n",
       " ('', '', 'States Parties '),\n",
       " ('', '', 'States Parties '),\n",
       " ('', '', 'States Parties '),\n",
       " ('', '', 'T I'),\n",
       " ('', '', 'I\\n\\nArticle '),\n",
       " ('', '', 'States Parties '),\n",
       " ('', '', 'States Parties '),\n",
       " ('', '', 'States Parties '),\n",
       " ('', '', 'States Parties '),\n",
       " ('', '', 'States Parties '),\n",
       " ('', '', 'States Parties '),\n",
       " ('', '', 'States Parties '),\n",
       " ('', '', 'States Parties '),\n",
       " ('', '', 'V\\nArticle '),\n",
       " ('', '', 'States Parties '),\n",
       " ('', '', 'States Parties '),\n",
       " ('', '', 'States Parties '),\n",
       " ('', '', 'States Parties '),\n",
       " ('', '', 'States Parties '),\n",
       " ('', '', 'T V\\n\\n'),\n",
       " ('', '', 'State Party'),\n",
       " ('', '', 'States Parties '),\n",
       " ('', '', 'States Parties'),\n",
       " ('', '', 'Each State '),\n",
       " ('', '', 'United Nations '),\n",
       " ('', '', 'States Parties '),\n",
       " ('', '', 'The Secretary'),\n",
       " ('', '', 'States Parties '),\n",
       " ('', '', 'States Parties'),\n",
       " ('', '', 'States Parties '),\n",
       " ('', '', 'United Nations '),\n",
       " ('', '', 'States Parties '),\n",
       " ('', '', 'States Parties '),\n",
       " ('', '', 'State Party '),\n",
       " ('', '', 'General Assembly'),\n",
       " ('', '', 'United Nations '),\n",
       " ('', '', 'The Secretary'),\n",
       " ('', '', 'United Nations '),\n",
       " ('', '', 'States Parties '),\n",
       " ('', '', 'United Nations'),\n",
       " ('', '', 'The Committee '),\n",
       " ('', '', 'The Committee '),\n",
       " ('', '', 'The Committee '),\n",
       " ('', '', 'United Nations '),\n",
       " ('', '', 'The Committee '),\n",
       " ('', '', 'Social Council'),\n",
       " ('', '', 'General Assembly '),\n",
       " ('', '', 'United Nations '),\n",
       " ('', '', 'States Parties'),\n",
       " ('', '', 'States Parties'),\n",
       " ('', '', 'The Secretary'),\n",
       " ('', '', 'United Nations '),\n",
       " ('', '', 'The Committee '),\n",
       " ('', '', 'I\\n\\nArticle '),\n",
       " ('', '', 'State Party'),\n",
       " ('', '', 'States Parties '),\n",
       " ('', '', 'The Secretary'),\n",
       " ('', '', 'United Nations '),\n",
       " ('', '', 'United Nations'),\n",
       " ('', '', 'United Nations'),\n",
       " ('', '', 'State Party '),\n",
       " ('', '', 'United Nations'),\n",
       " ('', '', 'The General '),\n",
       " ('', '', 'United Nations '),\n",
       " ('', '', 'United Nations '),\n",
       " ('', '', 'The Secretary'),\n",
       " ('', '', 'United Nations '),\n",
       " ('', '', 'United Nations'),\n",
       " ('', '', 'States Parties '),\n",
       " ('', '', 'International Court '),\n",
       " ('', '', 'Each State '),\n",
       " ('', '', 'States Parties '),\n",
       " ('', '', 'State Party '),\n",
       " ('', '', 'Any State '),\n",
       " ('', '', 'United Nations'),\n",
       " ('', '', 'United Nations'),\n",
       " ('', '', 'N W'),\n",
       " ('', '', 'S W')]"
      ]
     },
     "execution_count": 201,
     "metadata": {},
     "output_type": "execute_result"
    }
   ],
   "source": [
    "def load(filename):\n",
    "    file = open(filename)\n",
    "    return file.read()\n",
    "\n",
    "#print(load('corpus.txt')[:1000])\n",
    "my_text = load('corpus.txt')\n",
    "patterns1 = r'''(?x)\n",
    "            [.,;\"'?!():-_`]$  # these are separate tokens; includes ], [\n",
    "            '''\n",
    "patterns2 = r'''(?x)\n",
    "            [\\$\\€]?\\d+(\\.\\d+) # monetary amounts\n",
    "            |(\\d{1,2}\\s+[A-Z][a-z]*\\s+\\d{4}) # Dates\n",
    "            |([A-Z][a-z]*\\s+[A-Z][a-z]*\\s*)+\n",
    "            '''\n",
    "nltk.regexp_tokenize(my_text, patterns2)\n"
   ]
  },
  {
   "cell_type": "code",
   "execution_count": null,
   "metadata": {},
   "outputs": [],
   "source": []
  },
  {
   "cell_type": "markdown",
   "metadata": {},
   "source": [
    "☼ Rewrite the following loop as a list comprehension:\n",
    "\n",
    "```\n",
    "sent = ['The', 'dog', 'gave', 'John', 'the', 'newspaper'] \n",
    "result = [] \n",
    "for word in sent: \n",
    "    word_len = (word, len(word))\n",
    "    result.append(word_len) \n",
    "result\n",
    ">>>[('The', 3), ('dog', 3), ('gave', 4), ('John', 4), ('the', 3), ('newspaper', 9)]\n",
    "```"
   ]
  },
  {
   "cell_type": "code",
   "execution_count": 203,
   "metadata": {},
   "outputs": [
    {
     "data": {
      "text/plain": [
       "[('The', 3),\n",
       " ('dog', 3),\n",
       " ('gave', 4),\n",
       " ('John', 4),\n",
       " ('the', 3),\n",
       " ('newspaper', 9)]"
      ]
     },
     "execution_count": 203,
     "metadata": {},
     "output_type": "execute_result"
    }
   ],
   "source": [
    "sent = ['The', 'dog', 'gave', 'John', 'the', 'newspaper'] \n",
    "result = [(word,len(word))  for word in sent] \n",
    "result"
   ]
  }
 ],
 "metadata": {
  "kernelspec": {
   "display_name": "Python 3",
   "language": "python",
   "name": "python3"
  },
  "language_info": {
   "codemirror_mode": {
    "name": "ipython",
    "version": 3
   },
   "file_extension": ".py",
   "mimetype": "text/x-python",
   "name": "python",
   "nbconvert_exporter": "python",
   "pygments_lexer": "ipython3",
   "version": "3.6.4"
  }
 },
 "nbformat": 4,
 "nbformat_minor": 2
}
